{
  "nbformat": 4,
  "nbformat_minor": 0,
  "metadata": {
    "colab": {
      "provenance": []
    },
    "kernelspec": {
      "name": "python3",
      "display_name": "Python 3"
    },
    "language_info": {
      "name": "python"
    }
  },
  "cells": [
    {
      "cell_type": "markdown",
      "source": [
        "This is a dataset that reports on the weather and the level of pollution each hour for five years at the US embassy in Beijing, China.\n",
        "\n",
        "The data includes the date-time, the pollution called PM2.5 concentration, and the weather information including dew point, temperature, pressure, wind direction, wind speed and the cumulative number of hours of snow and rain. The complete feature list in the raw data is as follows:\n",
        "\n",
        "date:year-month-date of data\n",
        "\n",
        "pollution: PM2.5 concentration\n",
        "\n",
        "dew: Dew Point\n",
        "\n",
        "temp: Temperature\n",
        "\n",
        "press: Pressure\n",
        "\n",
        "wnd_dir: Combined wind direction\n",
        "\n",
        "wnd_spd: Cumulated wind speed\n",
        "\n",
        "snow: Cumulated hours of snow\n",
        "\n",
        "rain: Cumulated hours of rain\n",
        "\n"
      ],
      "metadata": {
        "id": "9XnHD4U-TYU6"
      }
    },
    {
      "cell_type": "markdown",
      "metadata": {
        "id": "lRUF6s_iCrt5"
      },
      "source": [
        "# **multivariate(dependence technique)**"
      ]
    },
    {
      "cell_type": "code",
      "execution_count": null,
      "metadata": {
        "id": "6-HcRGLyOXwb"
      },
      "outputs": [],
      "source": [
        "# Load Pakages Mathematical and DATA Operations\n",
        "import numpy as np \n",
        "import pandas as pd \n",
        "\n",
        "# Load Pakages plotting\n",
        "import matplotlib.pyplot as plt\n",
        "%matplotlib inline \n",
        "import seaborn as sns \n",
        "\n",
        "# Load Pakages for Ignore Warnings\n",
        "import warnings\n",
        "warnings.filterwarnings('ignore')\n",
        "\n",
        "# Load Pakages Scaling\n",
        "from sklearn.preprocessing import MinMaxScaler\n",
        "from sklearn.preprocessing import StandardScaler\n",
        "\n",
        "# Load Pakages for Encoding\n",
        "from sklearn.preprocessing import LabelEncoder\n",
        "from sklearn.preprocessing import OneHotEncoder\n",
        "\n",
        "# Load Pakages for Evaluation\n",
        "from sklearn.metrics import mean_squared_error"
      ]
    },
    {
      "cell_type": "code",
      "execution_count": null,
      "metadata": {
        "id": "DYUyyFcpEA2t"
      },
      "outputs": [],
      "source": [
        "# Load Dataset\n",
        "df=pd.read_csv('/content/LSTM-Multivariate_pollution.csv',parse_dates=['date'])#by using parse_dates convert the string dtype to date format"
      ]
    },
    {
      "cell_type": "markdown",
      "metadata": {
        "id": "ZyP_77h8OXwc"
      },
      "source": [
        "Exploratory Data Analysis"
      ]
    },
    {
      "cell_type": "code",
      "execution_count": null,
      "metadata": {
        "colab": {
          "base_uri": "https://localhost:8080/",
          "height": 206
        },
        "outputId": "07c1741d-a433-4af9-a32c-5c6afcd3c46a",
        "id": "VkPGjgJxOXwc"
      },
      "outputs": [
        {
          "output_type": "execute_result",
          "data": {
            "text/plain": [
              "                 date  pollution  dew  temp   press wnd_dir  wnd_spd  snow  \\\n",
              "0 2010-01-02 00:00:00      129.0  -16  -4.0  1020.0      SE     1.79     0   \n",
              "1 2010-01-02 01:00:00      148.0  -15  -4.0  1020.0      SE     2.68     0   \n",
              "2 2010-01-02 02:00:00      159.0  -11  -5.0  1021.0      SE     3.57     0   \n",
              "3 2010-01-02 03:00:00      181.0   -7  -5.0  1022.0      SE     5.36     1   \n",
              "4 2010-01-02 04:00:00      138.0   -7  -5.0  1022.0      SE     6.25     2   \n",
              "\n",
              "   rain  \n",
              "0     0  \n",
              "1     0  \n",
              "2     0  \n",
              "3     0  \n",
              "4     0  "
            ],
            "text/html": [
              "\n",
              "  <div id=\"df-52c1a0c6-78dd-46c4-a9f7-c4a405208c39\">\n",
              "    <div class=\"colab-df-container\">\n",
              "      <div>\n",
              "<style scoped>\n",
              "    .dataframe tbody tr th:only-of-type {\n",
              "        vertical-align: middle;\n",
              "    }\n",
              "\n",
              "    .dataframe tbody tr th {\n",
              "        vertical-align: top;\n",
              "    }\n",
              "\n",
              "    .dataframe thead th {\n",
              "        text-align: right;\n",
              "    }\n",
              "</style>\n",
              "<table border=\"1\" class=\"dataframe\">\n",
              "  <thead>\n",
              "    <tr style=\"text-align: right;\">\n",
              "      <th></th>\n",
              "      <th>date</th>\n",
              "      <th>pollution</th>\n",
              "      <th>dew</th>\n",
              "      <th>temp</th>\n",
              "      <th>press</th>\n",
              "      <th>wnd_dir</th>\n",
              "      <th>wnd_spd</th>\n",
              "      <th>snow</th>\n",
              "      <th>rain</th>\n",
              "    </tr>\n",
              "  </thead>\n",
              "  <tbody>\n",
              "    <tr>\n",
              "      <th>0</th>\n",
              "      <td>2010-01-02 00:00:00</td>\n",
              "      <td>129.0</td>\n",
              "      <td>-16</td>\n",
              "      <td>-4.0</td>\n",
              "      <td>1020.0</td>\n",
              "      <td>SE</td>\n",
              "      <td>1.79</td>\n",
              "      <td>0</td>\n",
              "      <td>0</td>\n",
              "    </tr>\n",
              "    <tr>\n",
              "      <th>1</th>\n",
              "      <td>2010-01-02 01:00:00</td>\n",
              "      <td>148.0</td>\n",
              "      <td>-15</td>\n",
              "      <td>-4.0</td>\n",
              "      <td>1020.0</td>\n",
              "      <td>SE</td>\n",
              "      <td>2.68</td>\n",
              "      <td>0</td>\n",
              "      <td>0</td>\n",
              "    </tr>\n",
              "    <tr>\n",
              "      <th>2</th>\n",
              "      <td>2010-01-02 02:00:00</td>\n",
              "      <td>159.0</td>\n",
              "      <td>-11</td>\n",
              "      <td>-5.0</td>\n",
              "      <td>1021.0</td>\n",
              "      <td>SE</td>\n",
              "      <td>3.57</td>\n",
              "      <td>0</td>\n",
              "      <td>0</td>\n",
              "    </tr>\n",
              "    <tr>\n",
              "      <th>3</th>\n",
              "      <td>2010-01-02 03:00:00</td>\n",
              "      <td>181.0</td>\n",
              "      <td>-7</td>\n",
              "      <td>-5.0</td>\n",
              "      <td>1022.0</td>\n",
              "      <td>SE</td>\n",
              "      <td>5.36</td>\n",
              "      <td>1</td>\n",
              "      <td>0</td>\n",
              "    </tr>\n",
              "    <tr>\n",
              "      <th>4</th>\n",
              "      <td>2010-01-02 04:00:00</td>\n",
              "      <td>138.0</td>\n",
              "      <td>-7</td>\n",
              "      <td>-5.0</td>\n",
              "      <td>1022.0</td>\n",
              "      <td>SE</td>\n",
              "      <td>6.25</td>\n",
              "      <td>2</td>\n",
              "      <td>0</td>\n",
              "    </tr>\n",
              "  </tbody>\n",
              "</table>\n",
              "</div>\n",
              "      <button class=\"colab-df-convert\" onclick=\"convertToInteractive('df-52c1a0c6-78dd-46c4-a9f7-c4a405208c39')\"\n",
              "              title=\"Convert this dataframe to an interactive table.\"\n",
              "              style=\"display:none;\">\n",
              "        \n",
              "  <svg xmlns=\"http://www.w3.org/2000/svg\" height=\"24px\"viewBox=\"0 0 24 24\"\n",
              "       width=\"24px\">\n",
              "    <path d=\"M0 0h24v24H0V0z\" fill=\"none\"/>\n",
              "    <path d=\"M18.56 5.44l.94 2.06.94-2.06 2.06-.94-2.06-.94-.94-2.06-.94 2.06-2.06.94zm-11 1L8.5 8.5l.94-2.06 2.06-.94-2.06-.94L8.5 2.5l-.94 2.06-2.06.94zm10 10l.94 2.06.94-2.06 2.06-.94-2.06-.94-.94-2.06-.94 2.06-2.06.94z\"/><path d=\"M17.41 7.96l-1.37-1.37c-.4-.4-.92-.59-1.43-.59-.52 0-1.04.2-1.43.59L10.3 9.45l-7.72 7.72c-.78.78-.78 2.05 0 2.83L4 21.41c.39.39.9.59 1.41.59.51 0 1.02-.2 1.41-.59l7.78-7.78 2.81-2.81c.8-.78.8-2.07 0-2.86zM5.41 20L4 18.59l7.72-7.72 1.47 1.35L5.41 20z\"/>\n",
              "  </svg>\n",
              "      </button>\n",
              "      \n",
              "  <style>\n",
              "    .colab-df-container {\n",
              "      display:flex;\n",
              "      flex-wrap:wrap;\n",
              "      gap: 12px;\n",
              "    }\n",
              "\n",
              "    .colab-df-convert {\n",
              "      background-color: #E8F0FE;\n",
              "      border: none;\n",
              "      border-radius: 50%;\n",
              "      cursor: pointer;\n",
              "      display: none;\n",
              "      fill: #1967D2;\n",
              "      height: 32px;\n",
              "      padding: 0 0 0 0;\n",
              "      width: 32px;\n",
              "    }\n",
              "\n",
              "    .colab-df-convert:hover {\n",
              "      background-color: #E2EBFA;\n",
              "      box-shadow: 0px 1px 2px rgba(60, 64, 67, 0.3), 0px 1px 3px 1px rgba(60, 64, 67, 0.15);\n",
              "      fill: #174EA6;\n",
              "    }\n",
              "\n",
              "    [theme=dark] .colab-df-convert {\n",
              "      background-color: #3B4455;\n",
              "      fill: #D2E3FC;\n",
              "    }\n",
              "\n",
              "    [theme=dark] .colab-df-convert:hover {\n",
              "      background-color: #434B5C;\n",
              "      box-shadow: 0px 1px 3px 1px rgba(0, 0, 0, 0.15);\n",
              "      filter: drop-shadow(0px 1px 2px rgba(0, 0, 0, 0.3));\n",
              "      fill: #FFFFFF;\n",
              "    }\n",
              "  </style>\n",
              "\n",
              "      <script>\n",
              "        const buttonEl =\n",
              "          document.querySelector('#df-52c1a0c6-78dd-46c4-a9f7-c4a405208c39 button.colab-df-convert');\n",
              "        buttonEl.style.display =\n",
              "          google.colab.kernel.accessAllowed ? 'block' : 'none';\n",
              "\n",
              "        async function convertToInteractive(key) {\n",
              "          const element = document.querySelector('#df-52c1a0c6-78dd-46c4-a9f7-c4a405208c39');\n",
              "          const dataTable =\n",
              "            await google.colab.kernel.invokeFunction('convertToInteractive',\n",
              "                                                     [key], {});\n",
              "          if (!dataTable) return;\n",
              "\n",
              "          const docLinkHtml = 'Like what you see? Visit the ' +\n",
              "            '<a target=\"_blank\" href=https://colab.research.google.com/notebooks/data_table.ipynb>data table notebook</a>'\n",
              "            + ' to learn more about interactive tables.';\n",
              "          element.innerHTML = '';\n",
              "          dataTable['output_type'] = 'display_data';\n",
              "          await google.colab.output.renderOutput(dataTable, element);\n",
              "          const docLink = document.createElement('div');\n",
              "          docLink.innerHTML = docLinkHtml;\n",
              "          element.appendChild(docLink);\n",
              "        }\n",
              "      </script>\n",
              "    </div>\n",
              "  </div>\n",
              "  "
            ]
          },
          "metadata": {},
          "execution_count": 48
        }
      ],
      "source": [
        "# Displaying the First 5-Records of data\n",
        "df.head(5)"
      ]
    },
    {
      "cell_type": "code",
      "execution_count": null,
      "metadata": {
        "colab": {
          "base_uri": "https://localhost:8080/",
          "height": 206
        },
        "outputId": "16a357ac-b8d1-4f8f-839e-6445e37827b7",
        "id": "7laD0zYKOXwd"
      },
      "outputs": [
        {
          "output_type": "execute_result",
          "data": {
            "text/plain": [
              "                     date  pollution  dew  temp   press wnd_dir  wnd_spd  \\\n",
              "43795 2014-12-31 19:00:00        8.0  -23  -2.0  1034.0      NW   231.97   \n",
              "43796 2014-12-31 20:00:00       10.0  -22  -3.0  1034.0      NW   237.78   \n",
              "43797 2014-12-31 21:00:00       10.0  -22  -3.0  1034.0      NW   242.70   \n",
              "43798 2014-12-31 22:00:00        8.0  -22  -4.0  1034.0      NW   246.72   \n",
              "43799 2014-12-31 23:00:00       12.0  -21  -3.0  1034.0      NW   249.85   \n",
              "\n",
              "       snow  rain  \n",
              "43795     0     0  \n",
              "43796     0     0  \n",
              "43797     0     0  \n",
              "43798     0     0  \n",
              "43799     0     0  "
            ],
            "text/html": [
              "\n",
              "  <div id=\"df-3a02eda6-de26-4af2-8362-57c6c7151b08\">\n",
              "    <div class=\"colab-df-container\">\n",
              "      <div>\n",
              "<style scoped>\n",
              "    .dataframe tbody tr th:only-of-type {\n",
              "        vertical-align: middle;\n",
              "    }\n",
              "\n",
              "    .dataframe tbody tr th {\n",
              "        vertical-align: top;\n",
              "    }\n",
              "\n",
              "    .dataframe thead th {\n",
              "        text-align: right;\n",
              "    }\n",
              "</style>\n",
              "<table border=\"1\" class=\"dataframe\">\n",
              "  <thead>\n",
              "    <tr style=\"text-align: right;\">\n",
              "      <th></th>\n",
              "      <th>date</th>\n",
              "      <th>pollution</th>\n",
              "      <th>dew</th>\n",
              "      <th>temp</th>\n",
              "      <th>press</th>\n",
              "      <th>wnd_dir</th>\n",
              "      <th>wnd_spd</th>\n",
              "      <th>snow</th>\n",
              "      <th>rain</th>\n",
              "    </tr>\n",
              "  </thead>\n",
              "  <tbody>\n",
              "    <tr>\n",
              "      <th>43795</th>\n",
              "      <td>2014-12-31 19:00:00</td>\n",
              "      <td>8.0</td>\n",
              "      <td>-23</td>\n",
              "      <td>-2.0</td>\n",
              "      <td>1034.0</td>\n",
              "      <td>NW</td>\n",
              "      <td>231.97</td>\n",
              "      <td>0</td>\n",
              "      <td>0</td>\n",
              "    </tr>\n",
              "    <tr>\n",
              "      <th>43796</th>\n",
              "      <td>2014-12-31 20:00:00</td>\n",
              "      <td>10.0</td>\n",
              "      <td>-22</td>\n",
              "      <td>-3.0</td>\n",
              "      <td>1034.0</td>\n",
              "      <td>NW</td>\n",
              "      <td>237.78</td>\n",
              "      <td>0</td>\n",
              "      <td>0</td>\n",
              "    </tr>\n",
              "    <tr>\n",
              "      <th>43797</th>\n",
              "      <td>2014-12-31 21:00:00</td>\n",
              "      <td>10.0</td>\n",
              "      <td>-22</td>\n",
              "      <td>-3.0</td>\n",
              "      <td>1034.0</td>\n",
              "      <td>NW</td>\n",
              "      <td>242.70</td>\n",
              "      <td>0</td>\n",
              "      <td>0</td>\n",
              "    </tr>\n",
              "    <tr>\n",
              "      <th>43798</th>\n",
              "      <td>2014-12-31 22:00:00</td>\n",
              "      <td>8.0</td>\n",
              "      <td>-22</td>\n",
              "      <td>-4.0</td>\n",
              "      <td>1034.0</td>\n",
              "      <td>NW</td>\n",
              "      <td>246.72</td>\n",
              "      <td>0</td>\n",
              "      <td>0</td>\n",
              "    </tr>\n",
              "    <tr>\n",
              "      <th>43799</th>\n",
              "      <td>2014-12-31 23:00:00</td>\n",
              "      <td>12.0</td>\n",
              "      <td>-21</td>\n",
              "      <td>-3.0</td>\n",
              "      <td>1034.0</td>\n",
              "      <td>NW</td>\n",
              "      <td>249.85</td>\n",
              "      <td>0</td>\n",
              "      <td>0</td>\n",
              "    </tr>\n",
              "  </tbody>\n",
              "</table>\n",
              "</div>\n",
              "      <button class=\"colab-df-convert\" onclick=\"convertToInteractive('df-3a02eda6-de26-4af2-8362-57c6c7151b08')\"\n",
              "              title=\"Convert this dataframe to an interactive table.\"\n",
              "              style=\"display:none;\">\n",
              "        \n",
              "  <svg xmlns=\"http://www.w3.org/2000/svg\" height=\"24px\"viewBox=\"0 0 24 24\"\n",
              "       width=\"24px\">\n",
              "    <path d=\"M0 0h24v24H0V0z\" fill=\"none\"/>\n",
              "    <path d=\"M18.56 5.44l.94 2.06.94-2.06 2.06-.94-2.06-.94-.94-2.06-.94 2.06-2.06.94zm-11 1L8.5 8.5l.94-2.06 2.06-.94-2.06-.94L8.5 2.5l-.94 2.06-2.06.94zm10 10l.94 2.06.94-2.06 2.06-.94-2.06-.94-.94-2.06-.94 2.06-2.06.94z\"/><path d=\"M17.41 7.96l-1.37-1.37c-.4-.4-.92-.59-1.43-.59-.52 0-1.04.2-1.43.59L10.3 9.45l-7.72 7.72c-.78.78-.78 2.05 0 2.83L4 21.41c.39.39.9.59 1.41.59.51 0 1.02-.2 1.41-.59l7.78-7.78 2.81-2.81c.8-.78.8-2.07 0-2.86zM5.41 20L4 18.59l7.72-7.72 1.47 1.35L5.41 20z\"/>\n",
              "  </svg>\n",
              "      </button>\n",
              "      \n",
              "  <style>\n",
              "    .colab-df-container {\n",
              "      display:flex;\n",
              "      flex-wrap:wrap;\n",
              "      gap: 12px;\n",
              "    }\n",
              "\n",
              "    .colab-df-convert {\n",
              "      background-color: #E8F0FE;\n",
              "      border: none;\n",
              "      border-radius: 50%;\n",
              "      cursor: pointer;\n",
              "      display: none;\n",
              "      fill: #1967D2;\n",
              "      height: 32px;\n",
              "      padding: 0 0 0 0;\n",
              "      width: 32px;\n",
              "    }\n",
              "\n",
              "    .colab-df-convert:hover {\n",
              "      background-color: #E2EBFA;\n",
              "      box-shadow: 0px 1px 2px rgba(60, 64, 67, 0.3), 0px 1px 3px 1px rgba(60, 64, 67, 0.15);\n",
              "      fill: #174EA6;\n",
              "    }\n",
              "\n",
              "    [theme=dark] .colab-df-convert {\n",
              "      background-color: #3B4455;\n",
              "      fill: #D2E3FC;\n",
              "    }\n",
              "\n",
              "    [theme=dark] .colab-df-convert:hover {\n",
              "      background-color: #434B5C;\n",
              "      box-shadow: 0px 1px 3px 1px rgba(0, 0, 0, 0.15);\n",
              "      filter: drop-shadow(0px 1px 2px rgba(0, 0, 0, 0.3));\n",
              "      fill: #FFFFFF;\n",
              "    }\n",
              "  </style>\n",
              "\n",
              "      <script>\n",
              "        const buttonEl =\n",
              "          document.querySelector('#df-3a02eda6-de26-4af2-8362-57c6c7151b08 button.colab-df-convert');\n",
              "        buttonEl.style.display =\n",
              "          google.colab.kernel.accessAllowed ? 'block' : 'none';\n",
              "\n",
              "        async function convertToInteractive(key) {\n",
              "          const element = document.querySelector('#df-3a02eda6-de26-4af2-8362-57c6c7151b08');\n",
              "          const dataTable =\n",
              "            await google.colab.kernel.invokeFunction('convertToInteractive',\n",
              "                                                     [key], {});\n",
              "          if (!dataTable) return;\n",
              "\n",
              "          const docLinkHtml = 'Like what you see? Visit the ' +\n",
              "            '<a target=\"_blank\" href=https://colab.research.google.com/notebooks/data_table.ipynb>data table notebook</a>'\n",
              "            + ' to learn more about interactive tables.';\n",
              "          element.innerHTML = '';\n",
              "          dataTable['output_type'] = 'display_data';\n",
              "          await google.colab.output.renderOutput(dataTable, element);\n",
              "          const docLink = document.createElement('div');\n",
              "          docLink.innerHTML = docLinkHtml;\n",
              "          element.appendChild(docLink);\n",
              "        }\n",
              "      </script>\n",
              "    </div>\n",
              "  </div>\n",
              "  "
            ]
          },
          "metadata": {},
          "execution_count": 49
        }
      ],
      "source": [
        "# Displaying the Last 5-Records of data\n",
        "df.tail(5)"
      ]
    },
    {
      "cell_type": "code",
      "execution_count": null,
      "metadata": {
        "colab": {
          "base_uri": "https://localhost:8080/"
        },
        "outputId": "380f9aec-4ff9-4212-cc71-81f270629cf7",
        "id": "IpRApGUKOXwd"
      },
      "outputs": [
        {
          "output_type": "stream",
          "name": "stdout",
          "text": [
            " No. of Rows: 43800 \n",
            " No. of Columns: 9\n"
          ]
        }
      ],
      "source": [
        "#information about rows and columns\n",
        "print(f' No. of Rows: {df.shape[0]} \\n No. of Columns: {df.shape[1]}')"
      ]
    },
    {
      "cell_type": "code",
      "execution_count": null,
      "metadata": {
        "colab": {
          "base_uri": "https://localhost:8080/"
        },
        "outputId": "d0c2cd20-2c54-4f90-92f9-d9bd14091769",
        "id": "uHYb2M_9OXwd"
      },
      "outputs": [
        {
          "output_type": "stream",
          "name": "stdout",
          "text": [
            "<class 'pandas.core.frame.DataFrame'>\n",
            "RangeIndex: 43800 entries, 0 to 43799\n",
            "Data columns (total 9 columns):\n",
            " #   Column     Non-Null Count  Dtype         \n",
            "---  ------     --------------  -----         \n",
            " 0   date       43800 non-null  datetime64[ns]\n",
            " 1   pollution  43800 non-null  float64       \n",
            " 2   dew        43800 non-null  int64         \n",
            " 3   temp       43800 non-null  float64       \n",
            " 4   press      43800 non-null  float64       \n",
            " 5   wnd_dir    43800 non-null  object        \n",
            " 6   wnd_spd    43800 non-null  float64       \n",
            " 7   snow       43800 non-null  int64         \n",
            " 8   rain       43800 non-null  int64         \n",
            "dtypes: datetime64[ns](1), float64(4), int64(3), object(1)\n",
            "memory usage: 3.0+ MB\n"
          ]
        }
      ],
      "source": [
        "# Information of Data\n",
        "df.info()"
      ]
    },
    {
      "cell_type": "code",
      "execution_count": null,
      "metadata": {
        "id": "xXQRnh0lOXwd"
      },
      "outputs": [],
      "source": [
        "#set date as index\n",
        "df.index=df['date']"
      ]
    },
    {
      "cell_type": "code",
      "execution_count": null,
      "metadata": {
        "id": "5B3G7XI1OXwd"
      },
      "outputs": [],
      "source": [
        "#drop the date column\n",
        "df.drop('date',axis=1,inplace=True)"
      ]
    },
    {
      "cell_type": "code",
      "execution_count": null,
      "metadata": {
        "colab": {
          "base_uri": "https://localhost:8080/",
          "height": 237
        },
        "outputId": "e3e69ad8-6a22-4361-d84a-6af2aaefc651",
        "id": "I2i35kFCOXwd"
      },
      "outputs": [
        {
          "output_type": "execute_result",
          "data": {
            "text/plain": [
              "                     pollution  dew  temp   press wnd_dir  wnd_spd  snow  rain\n",
              "date                                                                          \n",
              "2010-01-02 00:00:00      129.0  -16  -4.0  1020.0      SE     1.79     0     0\n",
              "2010-01-02 01:00:00      148.0  -15  -4.0  1020.0      SE     2.68     0     0\n",
              "2010-01-02 02:00:00      159.0  -11  -5.0  1021.0      SE     3.57     0     0\n",
              "2010-01-02 03:00:00      181.0   -7  -5.0  1022.0      SE     5.36     1     0\n",
              "2010-01-02 04:00:00      138.0   -7  -5.0  1022.0      SE     6.25     2     0"
            ],
            "text/html": [
              "\n",
              "  <div id=\"df-3d6b8efe-e3a1-4d6e-ad69-4dedf538b0d0\">\n",
              "    <div class=\"colab-df-container\">\n",
              "      <div>\n",
              "<style scoped>\n",
              "    .dataframe tbody tr th:only-of-type {\n",
              "        vertical-align: middle;\n",
              "    }\n",
              "\n",
              "    .dataframe tbody tr th {\n",
              "        vertical-align: top;\n",
              "    }\n",
              "\n",
              "    .dataframe thead th {\n",
              "        text-align: right;\n",
              "    }\n",
              "</style>\n",
              "<table border=\"1\" class=\"dataframe\">\n",
              "  <thead>\n",
              "    <tr style=\"text-align: right;\">\n",
              "      <th></th>\n",
              "      <th>pollution</th>\n",
              "      <th>dew</th>\n",
              "      <th>temp</th>\n",
              "      <th>press</th>\n",
              "      <th>wnd_dir</th>\n",
              "      <th>wnd_spd</th>\n",
              "      <th>snow</th>\n",
              "      <th>rain</th>\n",
              "    </tr>\n",
              "    <tr>\n",
              "      <th>date</th>\n",
              "      <th></th>\n",
              "      <th></th>\n",
              "      <th></th>\n",
              "      <th></th>\n",
              "      <th></th>\n",
              "      <th></th>\n",
              "      <th></th>\n",
              "      <th></th>\n",
              "    </tr>\n",
              "  </thead>\n",
              "  <tbody>\n",
              "    <tr>\n",
              "      <th>2010-01-02 00:00:00</th>\n",
              "      <td>129.0</td>\n",
              "      <td>-16</td>\n",
              "      <td>-4.0</td>\n",
              "      <td>1020.0</td>\n",
              "      <td>SE</td>\n",
              "      <td>1.79</td>\n",
              "      <td>0</td>\n",
              "      <td>0</td>\n",
              "    </tr>\n",
              "    <tr>\n",
              "      <th>2010-01-02 01:00:00</th>\n",
              "      <td>148.0</td>\n",
              "      <td>-15</td>\n",
              "      <td>-4.0</td>\n",
              "      <td>1020.0</td>\n",
              "      <td>SE</td>\n",
              "      <td>2.68</td>\n",
              "      <td>0</td>\n",
              "      <td>0</td>\n",
              "    </tr>\n",
              "    <tr>\n",
              "      <th>2010-01-02 02:00:00</th>\n",
              "      <td>159.0</td>\n",
              "      <td>-11</td>\n",
              "      <td>-5.0</td>\n",
              "      <td>1021.0</td>\n",
              "      <td>SE</td>\n",
              "      <td>3.57</td>\n",
              "      <td>0</td>\n",
              "      <td>0</td>\n",
              "    </tr>\n",
              "    <tr>\n",
              "      <th>2010-01-02 03:00:00</th>\n",
              "      <td>181.0</td>\n",
              "      <td>-7</td>\n",
              "      <td>-5.0</td>\n",
              "      <td>1022.0</td>\n",
              "      <td>SE</td>\n",
              "      <td>5.36</td>\n",
              "      <td>1</td>\n",
              "      <td>0</td>\n",
              "    </tr>\n",
              "    <tr>\n",
              "      <th>2010-01-02 04:00:00</th>\n",
              "      <td>138.0</td>\n",
              "      <td>-7</td>\n",
              "      <td>-5.0</td>\n",
              "      <td>1022.0</td>\n",
              "      <td>SE</td>\n",
              "      <td>6.25</td>\n",
              "      <td>2</td>\n",
              "      <td>0</td>\n",
              "    </tr>\n",
              "  </tbody>\n",
              "</table>\n",
              "</div>\n",
              "      <button class=\"colab-df-convert\" onclick=\"convertToInteractive('df-3d6b8efe-e3a1-4d6e-ad69-4dedf538b0d0')\"\n",
              "              title=\"Convert this dataframe to an interactive table.\"\n",
              "              style=\"display:none;\">\n",
              "        \n",
              "  <svg xmlns=\"http://www.w3.org/2000/svg\" height=\"24px\"viewBox=\"0 0 24 24\"\n",
              "       width=\"24px\">\n",
              "    <path d=\"M0 0h24v24H0V0z\" fill=\"none\"/>\n",
              "    <path d=\"M18.56 5.44l.94 2.06.94-2.06 2.06-.94-2.06-.94-.94-2.06-.94 2.06-2.06.94zm-11 1L8.5 8.5l.94-2.06 2.06-.94-2.06-.94L8.5 2.5l-.94 2.06-2.06.94zm10 10l.94 2.06.94-2.06 2.06-.94-2.06-.94-.94-2.06-.94 2.06-2.06.94z\"/><path d=\"M17.41 7.96l-1.37-1.37c-.4-.4-.92-.59-1.43-.59-.52 0-1.04.2-1.43.59L10.3 9.45l-7.72 7.72c-.78.78-.78 2.05 0 2.83L4 21.41c.39.39.9.59 1.41.59.51 0 1.02-.2 1.41-.59l7.78-7.78 2.81-2.81c.8-.78.8-2.07 0-2.86zM5.41 20L4 18.59l7.72-7.72 1.47 1.35L5.41 20z\"/>\n",
              "  </svg>\n",
              "      </button>\n",
              "      \n",
              "  <style>\n",
              "    .colab-df-container {\n",
              "      display:flex;\n",
              "      flex-wrap:wrap;\n",
              "      gap: 12px;\n",
              "    }\n",
              "\n",
              "    .colab-df-convert {\n",
              "      background-color: #E8F0FE;\n",
              "      border: none;\n",
              "      border-radius: 50%;\n",
              "      cursor: pointer;\n",
              "      display: none;\n",
              "      fill: #1967D2;\n",
              "      height: 32px;\n",
              "      padding: 0 0 0 0;\n",
              "      width: 32px;\n",
              "    }\n",
              "\n",
              "    .colab-df-convert:hover {\n",
              "      background-color: #E2EBFA;\n",
              "      box-shadow: 0px 1px 2px rgba(60, 64, 67, 0.3), 0px 1px 3px 1px rgba(60, 64, 67, 0.15);\n",
              "      fill: #174EA6;\n",
              "    }\n",
              "\n",
              "    [theme=dark] .colab-df-convert {\n",
              "      background-color: #3B4455;\n",
              "      fill: #D2E3FC;\n",
              "    }\n",
              "\n",
              "    [theme=dark] .colab-df-convert:hover {\n",
              "      background-color: #434B5C;\n",
              "      box-shadow: 0px 1px 3px 1px rgba(0, 0, 0, 0.15);\n",
              "      filter: drop-shadow(0px 1px 2px rgba(0, 0, 0, 0.3));\n",
              "      fill: #FFFFFF;\n",
              "    }\n",
              "  </style>\n",
              "\n",
              "      <script>\n",
              "        const buttonEl =\n",
              "          document.querySelector('#df-3d6b8efe-e3a1-4d6e-ad69-4dedf538b0d0 button.colab-df-convert');\n",
              "        buttonEl.style.display =\n",
              "          google.colab.kernel.accessAllowed ? 'block' : 'none';\n",
              "\n",
              "        async function convertToInteractive(key) {\n",
              "          const element = document.querySelector('#df-3d6b8efe-e3a1-4d6e-ad69-4dedf538b0d0');\n",
              "          const dataTable =\n",
              "            await google.colab.kernel.invokeFunction('convertToInteractive',\n",
              "                                                     [key], {});\n",
              "          if (!dataTable) return;\n",
              "\n",
              "          const docLinkHtml = 'Like what you see? Visit the ' +\n",
              "            '<a target=\"_blank\" href=https://colab.research.google.com/notebooks/data_table.ipynb>data table notebook</a>'\n",
              "            + ' to learn more about interactive tables.';\n",
              "          element.innerHTML = '';\n",
              "          dataTable['output_type'] = 'display_data';\n",
              "          await google.colab.output.renderOutput(dataTable, element);\n",
              "          const docLink = document.createElement('div');\n",
              "          docLink.innerHTML = docLinkHtml;\n",
              "          element.appendChild(docLink);\n",
              "        }\n",
              "      </script>\n",
              "    </div>\n",
              "  </div>\n",
              "  "
            ]
          },
          "metadata": {},
          "execution_count": 54
        }
      ],
      "source": [
        "df.head()"
      ]
    },
    {
      "cell_type": "markdown",
      "metadata": {
        "id": "yg1mkZUwOXwd"
      },
      "source": [
        "Encoding"
      ]
    },
    {
      "cell_type": "code",
      "execution_count": null,
      "metadata": {
        "id": "32urEKO1OXwe"
      },
      "outputs": [],
      "source": [
        "#encoding to convert categorical to numeric\n",
        "from sklearn.preprocessing import LabelEncoder\n",
        "enc=LabelEncoder()\n",
        "df['wnd_dir']=enc.fit_transform(df['wnd_dir'])"
      ]
    },
    {
      "cell_type": "code",
      "execution_count": null,
      "metadata": {
        "colab": {
          "base_uri": "https://localhost:8080/",
          "height": 237
        },
        "outputId": "94fe220b-0e02-4883-ff66-4c087b3cc2dd",
        "id": "S6lR7ua-OXwe"
      },
      "outputs": [
        {
          "output_type": "execute_result",
          "data": {
            "text/plain": [
              "                     pollution  dew  temp   press  wnd_dir  wnd_spd  snow  \\\n",
              "date                                                                        \n",
              "2010-01-02 00:00:00      129.0  -16  -4.0  1020.0        2     1.79     0   \n",
              "2010-01-02 01:00:00      148.0  -15  -4.0  1020.0        2     2.68     0   \n",
              "2010-01-02 02:00:00      159.0  -11  -5.0  1021.0        2     3.57     0   \n",
              "2010-01-02 03:00:00      181.0   -7  -5.0  1022.0        2     5.36     1   \n",
              "2010-01-02 04:00:00      138.0   -7  -5.0  1022.0        2     6.25     2   \n",
              "\n",
              "                     rain  \n",
              "date                       \n",
              "2010-01-02 00:00:00     0  \n",
              "2010-01-02 01:00:00     0  \n",
              "2010-01-02 02:00:00     0  \n",
              "2010-01-02 03:00:00     0  \n",
              "2010-01-02 04:00:00     0  "
            ],
            "text/html": [
              "\n",
              "  <div id=\"df-ac75dffb-8f2a-4add-adc2-07213c85f871\">\n",
              "    <div class=\"colab-df-container\">\n",
              "      <div>\n",
              "<style scoped>\n",
              "    .dataframe tbody tr th:only-of-type {\n",
              "        vertical-align: middle;\n",
              "    }\n",
              "\n",
              "    .dataframe tbody tr th {\n",
              "        vertical-align: top;\n",
              "    }\n",
              "\n",
              "    .dataframe thead th {\n",
              "        text-align: right;\n",
              "    }\n",
              "</style>\n",
              "<table border=\"1\" class=\"dataframe\">\n",
              "  <thead>\n",
              "    <tr style=\"text-align: right;\">\n",
              "      <th></th>\n",
              "      <th>pollution</th>\n",
              "      <th>dew</th>\n",
              "      <th>temp</th>\n",
              "      <th>press</th>\n",
              "      <th>wnd_dir</th>\n",
              "      <th>wnd_spd</th>\n",
              "      <th>snow</th>\n",
              "      <th>rain</th>\n",
              "    </tr>\n",
              "    <tr>\n",
              "      <th>date</th>\n",
              "      <th></th>\n",
              "      <th></th>\n",
              "      <th></th>\n",
              "      <th></th>\n",
              "      <th></th>\n",
              "      <th></th>\n",
              "      <th></th>\n",
              "      <th></th>\n",
              "    </tr>\n",
              "  </thead>\n",
              "  <tbody>\n",
              "    <tr>\n",
              "      <th>2010-01-02 00:00:00</th>\n",
              "      <td>129.0</td>\n",
              "      <td>-16</td>\n",
              "      <td>-4.0</td>\n",
              "      <td>1020.0</td>\n",
              "      <td>2</td>\n",
              "      <td>1.79</td>\n",
              "      <td>0</td>\n",
              "      <td>0</td>\n",
              "    </tr>\n",
              "    <tr>\n",
              "      <th>2010-01-02 01:00:00</th>\n",
              "      <td>148.0</td>\n",
              "      <td>-15</td>\n",
              "      <td>-4.0</td>\n",
              "      <td>1020.0</td>\n",
              "      <td>2</td>\n",
              "      <td>2.68</td>\n",
              "      <td>0</td>\n",
              "      <td>0</td>\n",
              "    </tr>\n",
              "    <tr>\n",
              "      <th>2010-01-02 02:00:00</th>\n",
              "      <td>159.0</td>\n",
              "      <td>-11</td>\n",
              "      <td>-5.0</td>\n",
              "      <td>1021.0</td>\n",
              "      <td>2</td>\n",
              "      <td>3.57</td>\n",
              "      <td>0</td>\n",
              "      <td>0</td>\n",
              "    </tr>\n",
              "    <tr>\n",
              "      <th>2010-01-02 03:00:00</th>\n",
              "      <td>181.0</td>\n",
              "      <td>-7</td>\n",
              "      <td>-5.0</td>\n",
              "      <td>1022.0</td>\n",
              "      <td>2</td>\n",
              "      <td>5.36</td>\n",
              "      <td>1</td>\n",
              "      <td>0</td>\n",
              "    </tr>\n",
              "    <tr>\n",
              "      <th>2010-01-02 04:00:00</th>\n",
              "      <td>138.0</td>\n",
              "      <td>-7</td>\n",
              "      <td>-5.0</td>\n",
              "      <td>1022.0</td>\n",
              "      <td>2</td>\n",
              "      <td>6.25</td>\n",
              "      <td>2</td>\n",
              "      <td>0</td>\n",
              "    </tr>\n",
              "  </tbody>\n",
              "</table>\n",
              "</div>\n",
              "      <button class=\"colab-df-convert\" onclick=\"convertToInteractive('df-ac75dffb-8f2a-4add-adc2-07213c85f871')\"\n",
              "              title=\"Convert this dataframe to an interactive table.\"\n",
              "              style=\"display:none;\">\n",
              "        \n",
              "  <svg xmlns=\"http://www.w3.org/2000/svg\" height=\"24px\"viewBox=\"0 0 24 24\"\n",
              "       width=\"24px\">\n",
              "    <path d=\"M0 0h24v24H0V0z\" fill=\"none\"/>\n",
              "    <path d=\"M18.56 5.44l.94 2.06.94-2.06 2.06-.94-2.06-.94-.94-2.06-.94 2.06-2.06.94zm-11 1L8.5 8.5l.94-2.06 2.06-.94-2.06-.94L8.5 2.5l-.94 2.06-2.06.94zm10 10l.94 2.06.94-2.06 2.06-.94-2.06-.94-.94-2.06-.94 2.06-2.06.94z\"/><path d=\"M17.41 7.96l-1.37-1.37c-.4-.4-.92-.59-1.43-.59-.52 0-1.04.2-1.43.59L10.3 9.45l-7.72 7.72c-.78.78-.78 2.05 0 2.83L4 21.41c.39.39.9.59 1.41.59.51 0 1.02-.2 1.41-.59l7.78-7.78 2.81-2.81c.8-.78.8-2.07 0-2.86zM5.41 20L4 18.59l7.72-7.72 1.47 1.35L5.41 20z\"/>\n",
              "  </svg>\n",
              "      </button>\n",
              "      \n",
              "  <style>\n",
              "    .colab-df-container {\n",
              "      display:flex;\n",
              "      flex-wrap:wrap;\n",
              "      gap: 12px;\n",
              "    }\n",
              "\n",
              "    .colab-df-convert {\n",
              "      background-color: #E8F0FE;\n",
              "      border: none;\n",
              "      border-radius: 50%;\n",
              "      cursor: pointer;\n",
              "      display: none;\n",
              "      fill: #1967D2;\n",
              "      height: 32px;\n",
              "      padding: 0 0 0 0;\n",
              "      width: 32px;\n",
              "    }\n",
              "\n",
              "    .colab-df-convert:hover {\n",
              "      background-color: #E2EBFA;\n",
              "      box-shadow: 0px 1px 2px rgba(60, 64, 67, 0.3), 0px 1px 3px 1px rgba(60, 64, 67, 0.15);\n",
              "      fill: #174EA6;\n",
              "    }\n",
              "\n",
              "    [theme=dark] .colab-df-convert {\n",
              "      background-color: #3B4455;\n",
              "      fill: #D2E3FC;\n",
              "    }\n",
              "\n",
              "    [theme=dark] .colab-df-convert:hover {\n",
              "      background-color: #434B5C;\n",
              "      box-shadow: 0px 1px 3px 1px rgba(0, 0, 0, 0.15);\n",
              "      filter: drop-shadow(0px 1px 2px rgba(0, 0, 0, 0.3));\n",
              "      fill: #FFFFFF;\n",
              "    }\n",
              "  </style>\n",
              "\n",
              "      <script>\n",
              "        const buttonEl =\n",
              "          document.querySelector('#df-ac75dffb-8f2a-4add-adc2-07213c85f871 button.colab-df-convert');\n",
              "        buttonEl.style.display =\n",
              "          google.colab.kernel.accessAllowed ? 'block' : 'none';\n",
              "\n",
              "        async function convertToInteractive(key) {\n",
              "          const element = document.querySelector('#df-ac75dffb-8f2a-4add-adc2-07213c85f871');\n",
              "          const dataTable =\n",
              "            await google.colab.kernel.invokeFunction('convertToInteractive',\n",
              "                                                     [key], {});\n",
              "          if (!dataTable) return;\n",
              "\n",
              "          const docLinkHtml = 'Like what you see? Visit the ' +\n",
              "            '<a target=\"_blank\" href=https://colab.research.google.com/notebooks/data_table.ipynb>data table notebook</a>'\n",
              "            + ' to learn more about interactive tables.';\n",
              "          element.innerHTML = '';\n",
              "          dataTable['output_type'] = 'display_data';\n",
              "          await google.colab.output.renderOutput(dataTable, element);\n",
              "          const docLink = document.createElement('div');\n",
              "          docLink.innerHTML = docLinkHtml;\n",
              "          element.appendChild(docLink);\n",
              "        }\n",
              "      </script>\n",
              "    </div>\n",
              "  </div>\n",
              "  "
            ]
          },
          "metadata": {},
          "execution_count": 56
        }
      ],
      "source": [
        "df.head()"
      ]
    },
    {
      "cell_type": "markdown",
      "metadata": {
        "id": "tTCBJEo6OXwe"
      },
      "source": [
        "Visualization"
      ]
    },
    {
      "cell_type": "code",
      "execution_count": null,
      "metadata": {
        "colab": {
          "base_uri": "https://localhost:8080/",
          "height": 585
        },
        "outputId": "e3179403-116d-446b-bddd-84ebf652fb19",
        "id": "VWvrZntVOXwe"
      },
      "outputs": [
        {
          "output_type": "display_data",
          "data": {
            "text/plain": [
              "<Figure size 1008x576 with 8 Axes>"
            ],
            "image/png": "[encoded data removed]"
          },
          "metadata": {
            "needs_background": "light"
          }
        }
      ],
      "source": [
        "#visualize all the features\n",
        "fig, axes = plt.subplots(nrows=4, ncols=2,figsize=(14,8))\n",
        "for i,ax in enumerate(axes.flatten()):\n",
        "  data=df[df.columns[i]]\n",
        "  ax.plot(data,color='red',linewidth=1)\n",
        "  ax.set_title(df.columns[i])\n",
        "  ax.tick_params(labelsize=10)\n",
        "\n",
        "plt.tight_layout();"
      ]
    },
    {
      "cell_type": "code",
      "execution_count": null,
      "metadata": {
        "colab": {
          "base_uri": "https://localhost:8080/",
          "height": 388
        },
        "outputId": "10218c50-c4b0-4b11-aa55-175d08fb5e8e",
        "id": "ihlfQPCgOXwe"
      },
      "outputs": [
        {
          "output_type": "display_data",
          "data": {
            "text/plain": [
              "<Figure size 864x432 with 1 Axes>"
            ],
            "image/png": "[encoded data removed]"
          },
          "metadata": {
            "needs_background": "light"
          }
        }
      ],
      "source": [
        "#visualize the pollution feature\n",
        "plt.figure(figsize=(12,6))\n",
        "df['pollution'].plot();"
      ]
    },
    {
      "cell_type": "markdown",
      "metadata": {
        "id": "GGia7iaaOXwf"
      },
      "source": [
        "Preprocessing"
      ]
    },
    {
      "cell_type": "code",
      "execution_count": null,
      "metadata": {
        "id": "DnBV5inTOXwf"
      },
      "outputs": [],
      "source": [
        "#create dependent and independent variable with timestep\n",
        "def df_to_X_y(df,window_size):\n",
        "  df_as_np=df.to_numpy()\n",
        "  X=[]\n",
        "  y=[]\n",
        "  for i in range(len(df_as_np)-window_size):\n",
        "    row=[a for a in df_as_np[i:i+window_size]]# add  first 24,2nd 24..... \n",
        "    X.append(row)\n",
        "    label=df_as_np[i+window_size][0]\n",
        "    y.append(label)\n",
        "  return np.array(X),np.array(y)"
      ]
    },
    {
      "cell_type": "code",
      "execution_count": null,
      "metadata": {
        "id": "8IuwDbsbOXwf"
      },
      "outputs": [],
      "source": [
        "#passing the data and split\n",
        "X,y=df_to_X_y(df,window_size=24)"
      ]
    },
    {
      "cell_type": "code",
      "execution_count": null,
      "metadata": {
        "colab": {
          "base_uri": "https://localhost:8080/"
        },
        "outputId": "42d0ffc4-bac1-47d3-a2a7-4a3dad3ce0f6",
        "id": "14shUXRfOXwf"
      },
      "outputs": [
        {
          "output_type": "execute_result",
          "data": {
            "text/plain": [
              "((43776, 24, 8), (43776,))"
            ]
          },
          "metadata": {},
          "execution_count": 61
        }
      ],
      "source": [
        "#check the shape\n",
        "X.shape,y.shape"
      ]
    },
    {
      "cell_type": "code",
      "execution_count": null,
      "metadata": {
        "colab": {
          "base_uri": "https://localhost:8080/"
        },
        "outputId": "ce859a62-a981-46e8-d57f-d20f0832cec8",
        "id": "sDZ9PZPAOXwg"
      },
      "outputs": [
        {
          "output_type": "execute_result",
          "data": {
            "text/plain": [
              "((35020, 24, 8), (35020,), (4377, 24, 8), (4377,), (4379, 24, 8), (4379,))"
            ]
          },
          "metadata": {},
          "execution_count": 62
        }
      ],
      "source": [
        "#split the data into training data,validation data,test data\n",
        "x_train,y_train=X[:35020],y[:35020]\n",
        "x_val,y_val=X[35020:39397],y[35020:39397]\n",
        "x_test,y_test=X[39397:],y[39397:]\n",
        "x_train.shape,y_train.shape,x_val.shape,y_val.shape,x_test.shape,y_test.shape"
      ]
    },
    {
      "cell_type": "code",
      "execution_count": null,
      "metadata": {
        "colab": {
          "base_uri": "https://localhost:8080/"
        },
        "outputId": "0550de40-1222-49ab-efb1-827fcf948ca6",
        "id": "2zig_0G7OXwi"
      },
      "outputs": [
        {
          "output_type": "execute_result",
          "data": {
            "text/plain": [
              "(35020, 24, 8)"
            ]
          },
          "metadata": {},
          "execution_count": 63
        }
      ],
      "source": [
        "x_train.shape #input to be 3-dimensional :- (no.of samples, no.of timesteps, no.of features)"
      ]
    },
    {
      "cell_type": "code",
      "execution_count": null,
      "metadata": {
        "colab": {
          "base_uri": "https://localhost:8080/"
        },
        "outputId": "65f95537-9f42-4e96-fef3-548b79eb2481",
        "id": "zfYp2Q8IOXwj"
      },
      "outputs": [
        {
          "output_type": "execute_result",
          "data": {
            "text/plain": [
              "(35020,)"
            ]
          },
          "metadata": {},
          "execution_count": 65
        }
      ],
      "source": [
        "y_train.shape #output to be 2-dimensional :-(no.of samples,no.of features)"
      ]
    },
    {
      "cell_type": "markdown",
      "metadata": {
        "id": "P9eWU3_5OXwj"
      },
      "source": [
        "Scaling"
      ]
    },
    {
      "cell_type": "code",
      "execution_count": null,
      "metadata": {
        "id": "mfKrHqODOXwj"
      },
      "outputs": [],
      "source": [
        "df_mean0=np.mean(x_train[:,:,0])#(35020,24,which variable we want use-->1st use 0 index,like for all)\n",
        "df_std0=np.std(x_train[:,:,0])\n",
        "df_mean1=np.mean(x_train[:,:,1])\n",
        "df_std1=np.std(x_train[:,:,1])\n",
        "df_mean2=np.mean(x_train[:,:,2])\n",
        "df_std2=np.std(x_train[:,:,2])\n",
        "df_mean3=np.mean(x_train[:,:,3])\n",
        "df_std3=np.std(x_train[:,:,3])\n",
        "df_mean4=np.mean(x_train[:,:,4])\n",
        "df_std4=np.std(x_train[:,:,4])\n",
        "df_mean5=np.mean(x_train[:,:,5])\n",
        "df_std5=np.std(x_train[:,:,5])\n",
        "df_mean6=np.mean(x_train[:,:,6])\n",
        "df_std6=np.std(x_train[:,:,6])\n",
        "df_mean7=np.mean(x_train[:,:,7])\n",
        "df_std7=np.std(x_train[:,:,7])"
      ]
    },
    {
      "cell_type": "code",
      "execution_count": null,
      "metadata": {
        "colab": {
          "base_uri": "https://localhost:8080/"
        },
        "outputId": "fca5a8f1-5700-4240-952e-fa64050cee06",
        "id": "n4wfCFnSOXwj"
      },
      "outputs": [
        {
          "output_type": "execute_result",
          "data": {
            "text/plain": [
              "(93.35937202550923, 1.7812904530744336)"
            ]
          },
          "metadata": {},
          "execution_count": 67
        }
      ],
      "source": [
        "df_mean0,df_mean1"
      ]
    },
    {
      "cell_type": "code",
      "execution_count": null,
      "metadata": {
        "colab": {
          "base_uri": "https://localhost:8080/"
        },
        "outputId": "7e3735cb-0f34-44c7-cea5-823c11a7ae05",
        "id": "M3q9v-z8OXwk"
      },
      "outputs": [
        {
          "output_type": "execute_result",
          "data": {
            "text/plain": [
              "(91.92248024271689, 14.493664369757937)"
            ]
          },
          "metadata": {},
          "execution_count": 68
        }
      ],
      "source": [
        "df_std0,df_std1"
      ]
    },
    {
      "cell_type": "code",
      "execution_count": null,
      "metadata": {
        "id": "SDByRw8VOXwk"
      },
      "outputs": [],
      "source": [
        "#scaling x data by create def function \n",
        "def preprocessing(x):\n",
        "  x[:,:,0]=(x[:,:,0]-df_mean0)/df_std0\n",
        "  x[:,:,1]=(x[:,:,1]-df_mean1)/df_std1\n",
        "  x[:,:,2]=(x[:,:,2]-df_mean2)/df_std2\n",
        "  x[:,:,3]=(x[:,:,3]-df_mean3)/df_std3\n",
        "  x[:,:,4]=(x[:,:,4]-df_mean4)/df_std4\n",
        "  x[:,:,5]=(x[:,:,5]-df_mean5)/df_std5\n",
        "  x[:,:,6]=(x[:,:,6]-df_mean6)/df_std6\n",
        "  x[:,:,7]=(x[:,:,7]-df_mean7)/df_std7\n",
        "  return x"
      ]
    },
    {
      "cell_type": "code",
      "execution_count": null,
      "metadata": {
        "colab": {
          "base_uri": "https://localhost:8080/"
        },
        "outputId": "1bf08ea0-a713-40d7-8e1c-bb3e513e5a0f",
        "id": "t9fgXApDOXwk"
      },
      "outputs": [
        {
          "output_type": "execute_result",
          "data": {
            "text/plain": [
              "array([[[ 2.46301317e-01,  1.18801630e+00,  1.53088072e+00, ...,\n",
              "         -1.55129841e-01, -7.40337256e-02, -1.40905139e-01],\n",
              "        [ 3.33331171e-01,  1.25701197e+00,  1.53088072e+00, ...,\n",
              "         -7.67900536e-02, -7.40337256e-02, -1.40905139e-01],\n",
              "        [ 3.11573708e-01,  1.32600763e+00,  1.53088072e+00, ...,\n",
              "          1.54973417e-03, -7.40337256e-02, -1.40905139e-01],\n",
              "        ...,\n",
              "        [-6.56633414e-01,  1.32600763e+00,  8.80799586e-01, ...,\n",
              "         -4.68878743e-01, -7.40337256e-02, -1.40905139e-01],\n",
              "        [-4.71694975e-01,  1.32600763e+00,  9.62059728e-01, ...,\n",
              "         -4.51339984e-01, -7.40337256e-02, -1.40905139e-01],\n",
              "        [-4.06422585e-01,  1.32600763e+00,  9.62059728e-01, ...,\n",
              "         -4.16457342e-01, -7.40337256e-02, -1.40905139e-01]],\n",
              "\n",
              "       [[ 3.33331171e-01,  1.25701197e+00,  1.53088072e+00, ...,\n",
              "         -7.67900536e-02, -7.40337256e-02, -1.40905139e-01],\n",
              "        [ 3.11573708e-01,  1.32600763e+00,  1.53088072e+00, ...,\n",
              "          1.54973417e-03, -7.40337256e-02, -1.40905139e-01],\n",
              "        [ 3.11573708e-01,  1.32600763e+00,  1.53088072e+00, ...,\n",
              "          7.98895220e-02, -7.40337256e-02, -1.40905139e-01],\n",
              "        ...,\n",
              "        [-4.71694975e-01,  1.32600763e+00,  9.62059728e-01, ...,\n",
              "         -4.51339984e-01, -7.40337256e-02, -1.40905139e-01],\n",
              "        [-4.06422585e-01,  1.32600763e+00,  9.62059728e-01, ...,\n",
              "         -4.16457342e-01, -7.40337256e-02, -1.40905139e-01],\n",
              "        [-3.19392731e-01,  1.32600763e+00,  1.04331987e+00, ...,\n",
              "         -4.68878743e-01, -7.40337256e-02, -1.40905139e-01]],\n",
              "\n",
              "       [[ 3.11573708e-01,  1.32600763e+00,  1.53088072e+00, ...,\n",
              "          1.54973417e-03, -7.40337256e-02, -1.40905139e-01],\n",
              "        [ 3.11573708e-01,  1.32600763e+00,  1.53088072e+00, ...,\n",
              "          7.98895220e-02, -7.40337256e-02, -1.40905139e-01],\n",
              "        [ 3.00694976e-01,  1.32600763e+00,  1.53088072e+00, ...,\n",
              "          1.58229310e-01, -7.40337256e-02, -1.40905139e-01],\n",
              "        ...,\n",
              "        [-4.06422585e-01,  1.32600763e+00,  9.62059728e-01, ...,\n",
              "         -4.16457342e-01, -7.40337256e-02, -1.40905139e-01],\n",
              "        [-3.19392731e-01,  1.32600763e+00,  1.04331987e+00, ...,\n",
              "         -4.68878743e-01, -7.40337256e-02, -1.40905139e-01],\n",
              "        [-2.97635268e-01,  1.32600763e+00,  1.04331987e+00, ...,\n",
              "         -4.51534859e-01, -7.40337256e-02, -1.40905139e-01]],\n",
              "\n",
              "       ...,\n",
              "\n",
              "       [[-7.98056926e-01, -9.50849288e-01, -6.63143105e-01, ...,\n",
              "         -5.94461703e-02, -7.40337256e-02, -1.40905139e-01],\n",
              "        [-9.28601707e-01, -1.57181027e+00, -8.25663389e-01, ...,\n",
              "          1.32116047e-01, -7.40337256e-02, -1.40905139e-01],\n",
              "        [-8.41571853e-01, -1.64080593e+00, -9.88183672e-01, ...,\n",
              "          2.71451739e-01, -7.40337256e-02, -1.40905139e-01],\n",
              "        ...,\n",
              "        [-9.06844243e-01, -1.64080593e+00, -1.15070396e+00, ...,\n",
              "          3.92107250e+00, -7.40337256e-02, -1.40905139e-01],\n",
              "        [-9.28601707e-01, -1.70980159e+00, -1.15070396e+00, ...,\n",
              "          4.03429493e+00, -7.40337256e-02, -1.40905139e-01],\n",
              "        [-9.06844243e-01, -1.64080593e+00, -1.23196410e+00, ...,\n",
              "          4.14751736e+00, -7.40337256e-02, -1.40905139e-01]],\n",
              "\n",
              "       [[-9.28601707e-01, -1.57181027e+00, -8.25663389e-01, ...,\n",
              "          1.32116047e-01, -7.40337256e-02, -1.40905139e-01],\n",
              "        [-8.41571853e-01, -1.64080593e+00, -9.88183672e-01, ...,\n",
              "          2.71451739e-01, -7.40337256e-02, -1.40905139e-01],\n",
              "        [-9.06844243e-01, -1.43381894e+00, -1.06944381e+00, ...,\n",
              "          5.24009861e-01, -7.40337256e-02, -1.40905139e-01],\n",
              "        ...,\n",
              "        [-9.28601707e-01, -1.70980159e+00, -1.15070396e+00, ...,\n",
              "          4.03429493e+00, -7.40337256e-02, -1.40905139e-01],\n",
              "        [-9.06844243e-01, -1.64080593e+00, -1.23196410e+00, ...,\n",
              "          4.14751736e+00, -7.40337256e-02, -1.40905139e-01],\n",
              "        [-9.06844243e-01, -1.64080593e+00, -1.23196410e+00, ...,\n",
              "          4.24339591e+00, -7.40337256e-02, -1.40905139e-01]],\n",
              "\n",
              "       [[-8.41571853e-01, -1.64080593e+00, -9.88183672e-01, ...,\n",
              "          2.71451739e-01, -7.40337256e-02, -1.40905139e-01],\n",
              "        [-9.06844243e-01, -1.43381894e+00, -1.06944381e+00, ...,\n",
              "          5.24009861e-01, -7.40337256e-02, -1.40905139e-01],\n",
              "        [-8.95965511e-01, -1.36482327e+00, -1.06944381e+00, ...,\n",
              "          7.15572079e-01, -7.40337256e-02, -1.40905139e-01],\n",
              "        ...,\n",
              "        [-9.06844243e-01, -1.64080593e+00, -1.23196410e+00, ...,\n",
              "          4.14751736e+00, -7.40337256e-02, -1.40905139e-01],\n",
              "        [-9.06844243e-01, -1.64080593e+00, -1.23196410e+00, ...,\n",
              "          4.24339591e+00, -7.40337256e-02, -1.40905139e-01],\n",
              "        [-9.28601707e-01, -1.64080593e+00, -1.31322424e+00, ...,\n",
              "          4.32173569e+00, -7.40337256e-02, -1.40905139e-01]]])"
            ]
          },
          "metadata": {},
          "execution_count": 70
        }
      ],
      "source": [
        "preprocessing(x_train)\n",
        "preprocessing(x_val)\n",
        "preprocessing(x_test)"
      ]
    },
    {
      "cell_type": "code",
      "execution_count": null,
      "metadata": {
        "id": "ZpmnWOIdOXwk"
      },
      "outputs": [],
      "source": [
        "#import libraries for model building\n",
        "import tensorflow \n",
        "from tensorflow.keras.models import Sequential\n",
        "from tensorflow.keras.layers import *\n",
        "from tensorflow.keras.callbacks import ModelCheckpoint,EarlyStopping\n",
        "from tensorflow.keras.losses import MeanSquaredError as mse\n",
        "from tensorflow.keras.metrics import RootMeanSquaredError\n",
        "from tensorflow.keras.optimizers import Adam\n",
        "from tensorflow.keras.models import load_model"
      ]
    },
    {
      "cell_type": "markdown",
      "metadata": {
        "id": "lPrK2_YLOXwk"
      },
      "source": [
        "Model Building"
      ]
    },
    {
      "cell_type": "code",
      "execution_count": null,
      "metadata": {
        "id": "ENN5LgixOXwl"
      },
      "outputs": [],
      "source": [
        "#model building\n",
        "model=Sequential()\n",
        "model.add(InputLayer((24,8)))\n",
        "model.add(LSTM(150,activation='relu',return_sequences=True))\n",
        "model.add(Dropout(0.2))\n",
        "model.add(LSTM(150,activation='relu',return_sequences=True))\n",
        "model.add(Dropout(0.2))\n",
        "model.add(LSTM(150,activation='relu',return_sequences=False))\n",
        "model.add(Dense(100,activation='relu'))\n",
        "model.add(Dense(50,activation='relu'))\n",
        "model.add(Dense(1))"
      ]
    },
    {
      "cell_type": "code",
      "execution_count": null,
      "metadata": {
        "colab": {
          "base_uri": "https://localhost:8080/"
        },
        "outputId": "2d96aa89-e152-4bc5-9279-9bc6a085f7ea",
        "id": "bhGpkDvzOXwl"
      },
      "outputs": [
        {
          "output_type": "stream",
          "name": "stdout",
          "text": [
            "Model: \"sequential_1\"\n",
            "_________________________________________________________________\n",
            " Layer (type)                Output Shape              Param #   \n",
            "=================================================================\n",
            " lstm_3 (LSTM)               (None, 24, 150)           95400     \n",
            "                                                                 \n",
            " dropout_2 (Dropout)         (None, 24, 150)           0         \n",
            "                                                                 \n",
            " lstm_4 (LSTM)               (None, 24, 150)           180600    \n",
            "                                                                 \n",
            " dropout_3 (Dropout)         (None, 24, 150)           0         \n",
            "                                                                 \n",
            " lstm_5 (LSTM)               (None, 150)               180600    \n",
            "                                                                 \n",
            " dense_2 (Dense)             (None, 100)               15100     \n",
            "                                                                 \n",
            " dense_3 (Dense)             (None, 50)                5050      \n",
            "                                                                 \n",
            " dense_4 (Dense)             (None, 1)                 51        \n",
            "                                                                 \n",
            "=================================================================\n",
            "Total params: 476,801\n",
            "Trainable params: 476,801\n",
            "Non-trainable params: 0\n",
            "_________________________________________________________________\n"
          ]
        }
      ],
      "source": [
        "#summary of a model we build\n",
        "model.summary()"
      ]
    },
    {
      "cell_type": "code",
      "execution_count": null,
      "metadata": {
        "id": "v29ZDoc_OXwl"
      },
      "outputs": [],
      "source": [
        "#to stop epochs if there is no update \n",
        "earlystop=EarlyStopping(patience=5)"
      ]
    },
    {
      "cell_type": "code",
      "execution_count": null,
      "metadata": {
        "id": "sNyjmFwWOXwl"
      },
      "outputs": [],
      "source": [
        "#checkpoint to save the best model \n",
        "cp=ModelCheckpoint('model/',save_best_only=True)"
      ]
    },
    {
      "cell_type": "code",
      "execution_count": null,
      "metadata": {
        "id": "8xhe7mJsOXwl"
      },
      "outputs": [],
      "source": [
        "#compile the model\n",
        "model.compile(loss='mse',optimizer=Adam(learning_rate=0.001),metrics=[RootMeanSquaredError()])"
      ]
    },
    {
      "cell_type": "code",
      "execution_count": null,
      "metadata": {
        "colab": {
          "base_uri": "https://localhost:8080/"
        },
        "outputId": "b7be1ae0-cfe0-4475-dc21-10b652fc5355",
        "id": "-oOke9csOXwl"
      },
      "outputs": [
        {
          "output_type": "stream",
          "name": "stdout",
          "text": [
            "Epoch 1/20\n",
            "701/701 [==============================] - ETA: 0s - loss: 19581.7539 - root_mean_squared_error: 139.9348"
          ]
        },
        {
          "output_type": "stream",
          "name": "stderr",
          "text": [
            "WARNING:absl:Found untraced functions such as _update_step_xla while saving (showing 1 of 1). These functions will not be directly callable after loading.\n"
          ]
        },
        {
          "output_type": "stream",
          "name": "stdout",
          "text": [
            "\b\b\b\b\b\b\b\b\b\b\b\b\b\b\b\b\b\b\b\b\b\b\b\b\b\b\b\b\b\b\b\b\b\b\b\b\b\b\b\b\b\b\b\b\b\b\b\b\b\b\b\b\b\b\b\b\b\b\b\b\b\b\b\b\b\b\b\b\b\b\b\b\b\b\b\b\b\b\b\b\b\b\b\b\b\b\b\b\b\b\b\b\b\b\b\b\b\b\b\b\b\b\b\b\b\r701/701 [==============================] - 176s 244ms/step - loss: 19581.7539 - root_mean_squared_error: 139.9348 - val_loss: 5591.3286 - val_root_mean_squared_error: 74.7752\n",
            "Epoch 2/20\n",
            "701/701 [==============================] - ETA: 0s - loss: 4432.3638 - root_mean_squared_error: 66.5760"
          ]
        },
        {
          "output_type": "stream",
          "name": "stderr",
          "text": [
            "WARNING:absl:Found untraced functions such as _update_step_xla while saving (showing 1 of 1). These functions will not be directly callable after loading.\n"
          ]
        },
        {
          "output_type": "stream",
          "name": "stdout",
          "text": [
            "\b\b\b\b\b\b\b\b\b\b\b\b\b\b\b\b\b\b\b\b\b\b\b\b\b\b\b\b\b\b\b\b\b\b\b\b\b\b\b\b\b\b\b\b\b\b\b\b\b\b\b\b\b\b\b\b\b\b\b\b\b\b\b\b\b\b\b\b\b\b\b\b\b\b\b\b\b\b\b\b\b\b\b\b\b\b\b\b\b\b\b\b\b\b\b\b\b\b\b\b\b\b\b\r701/701 [==============================] - 174s 248ms/step - loss: 4432.3638 - root_mean_squared_error: 66.5760 - val_loss: 2343.3206 - val_root_mean_squared_error: 48.4079\n",
            "Epoch 3/20\n",
            "701/701 [==============================] - ETA: 0s - loss: 2355.5134 - root_mean_squared_error: 48.5336"
          ]
        },
        {
          "output_type": "stream",
          "name": "stderr",
          "text": [
            "WARNING:absl:Found untraced functions such as _update_step_xla while saving (showing 1 of 1). These functions will not be directly callable after loading.\n"
          ]
        },
        {
          "output_type": "stream",
          "name": "stdout",
          "text": [
            "\b\b\b\b\b\b\b\b\b\b\b\b\b\b\b\b\b\b\b\b\b\b\b\b\b\b\b\b\b\b\b\b\b\b\b\b\b\b\b\b\b\b\b\b\b\b\b\b\b\b\b\b\b\b\b\b\b\b\b\b\b\b\b\b\b\b\b\b\b\b\b\b\b\b\b\b\b\b\b\b\b\b\b\b\b\b\b\b\b\b\b\b\b\b\b\b\b\b\b\b\b\b\b\r701/701 [==============================] - 176s 251ms/step - loss: 2355.5134 - root_mean_squared_error: 48.5336 - val_loss: 1887.6556 - val_root_mean_squared_error: 43.4472\n",
            "Epoch 4/20\n",
            "701/701 [==============================] - ETA: 0s - loss: 1716.1479 - root_mean_squared_error: 41.4264"
          ]
        },
        {
          "output_type": "stream",
          "name": "stderr",
          "text": [
            "WARNING:absl:Found untraced functions such as _update_step_xla while saving (showing 1 of 1). These functions will not be directly callable after loading.\n"
          ]
        },
        {
          "output_type": "stream",
          "name": "stdout",
          "text": [
            "\b\b\b\b\b\b\b\b\b\b\b\b\b\b\b\b\b\b\b\b\b\b\b\b\b\b\b\b\b\b\b\b\b\b\b\b\b\b\b\b\b\b\b\b\b\b\b\b\b\b\b\b\b\b\b\b\b\b\b\b\b\b\b\b\b\b\b\b\b\b\b\b\b\b\b\b\b\b\b\b\b\b\b\b\b\b\b\b\b\b\b\b\b\b\b\b\b\b\b\b\b\b\b\r701/701 [==============================] - 178s 254ms/step - loss: 1716.1479 - root_mean_squared_error: 41.4264 - val_loss: 1018.5017 - val_root_mean_squared_error: 31.9140\n",
            "Epoch 5/20\n",
            "701/701 [==============================] - ETA: 0s - loss: 1368.6940 - root_mean_squared_error: 36.9959"
          ]
        },
        {
          "output_type": "stream",
          "name": "stderr",
          "text": [
            "WARNING:absl:Found untraced functions such as _update_step_xla while saving (showing 1 of 1). These functions will not be directly callable after loading.\n"
          ]
        },
        {
          "output_type": "stream",
          "name": "stdout",
          "text": [
            "\b\b\b\b\b\b\b\b\b\b\b\b\b\b\b\b\b\b\b\b\b\b\b\b\b\b\b\b\b\b\b\b\b\b\b\b\b\b\b\b\b\b\b\b\b\b\b\b\b\b\b\b\b\b\b\b\b\b\b\b\b\b\b\b\b\b\b\b\b\b\b\b\b\b\b\b\b\b\b\b\b\b\b\b\b\b\b\b\b\b\b\b\b\b\b\b\b\b\b\b\b\b\b\r701/701 [==============================] - 175s 249ms/step - loss: 1368.6940 - root_mean_squared_error: 36.9959 - val_loss: 1018.2617 - val_root_mean_squared_error: 31.9102\n",
            "Epoch 6/20\n",
            "701/701 [==============================] - 177s 253ms/step - loss: 1242.4069 - root_mean_squared_error: 35.2478 - val_loss: 1076.7491 - val_root_mean_squared_error: 32.8139\n",
            "Epoch 7/20\n",
            "701/701 [==============================] - ETA: 0s - loss: 1129.9236 - root_mean_squared_error: 33.6143"
          ]
        },
        {
          "output_type": "stream",
          "name": "stderr",
          "text": [
            "WARNING:absl:Found untraced functions such as _update_step_xla while saving (showing 1 of 1). These functions will not be directly callable after loading.\n"
          ]
        },
        {
          "output_type": "stream",
          "name": "stdout",
          "text": [
            "\b\b\b\b\b\b\b\b\b\b\b\b\b\b\b\b\b\b\b\b\b\b\b\b\b\b\b\b\b\b\b\b\b\b\b\b\b\b\b\b\b\b\b\b\b\b\b\b\b\b\b\b\b\b\b\b\b\b\b\b\b\b\b\b\b\b\b\b\b\b\b\b\b\b\b\b\b\b\b\b\b\b\b\b\b\b\b\b\b\b\b\b\b\b\b\b\b\b\b\b\b\b\b\r701/701 [==============================] - 182s 259ms/step - loss: 1129.9236 - root_mean_squared_error: 33.6143 - val_loss: 838.4885 - val_root_mean_squared_error: 28.9567\n",
            "Epoch 8/20\n",
            "701/701 [==============================] - 163s 233ms/step - loss: 1111.2075 - root_mean_squared_error: 33.3348 - val_loss: 1205.5889 - val_root_mean_squared_error: 34.7216\n",
            "Epoch 9/20\n",
            "701/701 [==============================] - ETA: 0s - loss: 1040.4833 - root_mean_squared_error: 32.2565"
          ]
        },
        {
          "output_type": "stream",
          "name": "stderr",
          "text": [
            "WARNING:absl:Found untraced functions such as _update_step_xla while saving (showing 1 of 1). These functions will not be directly callable after loading.\n"
          ]
        },
        {
          "output_type": "stream",
          "name": "stdout",
          "text": [
            "\b\b\b\b\b\b\b\b\b\b\b\b\b\b\b\b\b\b\b\b\b\b\b\b\b\b\b\b\b\b\b\b\b\b\b\b\b\b\b\b\b\b\b\b\b\b\b\b\b\b\b\b\b\b\b\b\b\b\b\b\b\b\b\b\b\b\b\b\b\b\b\b\b\b\b\b\b\b\b\b\b\b\b\b\b\b\b\b\b\b\b\b\b\b\b\b\b\b\b\b\b\b\b\r701/701 [==============================] - 173s 247ms/step - loss: 1040.4833 - root_mean_squared_error: 32.2565 - val_loss: 704.7974 - val_root_mean_squared_error: 26.5480\n",
            "Epoch 10/20\n",
            "701/701 [==============================] - ETA: 0s - loss: 960.9329 - root_mean_squared_error: 30.9989"
          ]
        },
        {
          "output_type": "stream",
          "name": "stderr",
          "text": [
            "WARNING:absl:Found untraced functions such as _update_step_xla while saving (showing 1 of 1). These functions will not be directly callable after loading.\n"
          ]
        },
        {
          "output_type": "stream",
          "name": "stdout",
          "text": [
            "\b\b\b\b\b\b\b\b\b\b\b\b\b\b\b\b\b\b\b\b\b\b\b\b\b\b\b\b\b\b\b\b\b\b\b\b\b\b\b\b\b\b\b\b\b\b\b\b\b\b\b\b\b\b\b\b\b\b\b\b\b\b\b\b\b\b\b\b\b\b\b\b\b\b\b\b\b\b\b\b\b\b\b\b\b\b\b\b\b\b\b\b\b\b\b\b\b\b\b\b\b\b\r701/701 [==============================] - 180s 256ms/step - loss: 960.9329 - root_mean_squared_error: 30.9989 - val_loss: 701.0814 - val_root_mean_squared_error: 26.4779\n",
            "Epoch 11/20\n",
            "701/701 [==============================] - ETA: 0s - loss: 928.9554 - root_mean_squared_error: 30.4788"
          ]
        },
        {
          "output_type": "stream",
          "name": "stderr",
          "text": [
            "WARNING:absl:Found untraced functions such as _update_step_xla while saving (showing 1 of 1). These functions will not be directly callable after loading.\n"
          ]
        },
        {
          "output_type": "stream",
          "name": "stdout",
          "text": [
            "\b\b\b\b\b\b\b\b\b\b\b\b\b\b\b\b\b\b\b\b\b\b\b\b\b\b\b\b\b\b\b\b\b\b\b\b\b\b\b\b\b\b\b\b\b\b\b\b\b\b\b\b\b\b\b\b\b\b\b\b\b\b\b\b\b\b\b\b\b\b\b\b\b\b\b\b\b\b\b\b\b\b\b\b\b\b\b\b\b\b\b\b\b\b\b\b\b\b\b\b\b\b\r701/701 [==============================] - 179s 255ms/step - loss: 928.9554 - root_mean_squared_error: 30.4788 - val_loss: 670.8447 - val_root_mean_squared_error: 25.9007\n",
            "Epoch 12/20\n",
            "701/701 [==============================] - 162s 232ms/step - loss: 889.4305 - root_mean_squared_error: 29.8233 - val_loss: 682.4418 - val_root_mean_squared_error: 26.1236\n",
            "Epoch 13/20\n",
            "701/701 [==============================] - 169s 242ms/step - loss: 879.7571 - root_mean_squared_error: 29.6607 - val_loss: 704.5802 - val_root_mean_squared_error: 26.5439\n",
            "Epoch 14/20\n",
            "701/701 [==============================] - 161s 230ms/step - loss: 855.1357 - root_mean_squared_error: 29.2427 - val_loss: 772.6198 - val_root_mean_squared_error: 27.7960\n",
            "Epoch 15/20\n",
            "701/701 [==============================] - 168s 239ms/step - loss: 827.9730 - root_mean_squared_error: 28.7745 - val_loss: 697.1817 - val_root_mean_squared_error: 26.4042\n",
            "Epoch 16/20\n",
            "701/701 [==============================] - ETA: 0s - loss: 814.9676 - root_mean_squared_error: 28.5476"
          ]
        },
        {
          "output_type": "stream",
          "name": "stderr",
          "text": [
            "WARNING:absl:Found untraced functions such as _update_step_xla while saving (showing 1 of 1). These functions will not be directly callable after loading.\n"
          ]
        },
        {
          "output_type": "stream",
          "name": "stdout",
          "text": [
            "\b\b\b\b\b\b\b\b\b\b\b\b\b\b\b\b\b\b\b\b\b\b\b\b\b\b\b\b\b\b\b\b\b\b\b\b\b\b\b\b\b\b\b\b\b\b\b\b\b\b\b\b\b\b\b\b\b\b\b\b\b\b\b\b\b\b\b\b\b\b\b\b\b\b\b\b\b\b\b\b\b\b\b\b\b\b\b\b\b\b\b\b\b\b\b\b\b\b\b\b\b\b\r701/701 [==============================] - 168s 240ms/step - loss: 814.9676 - root_mean_squared_error: 28.5476 - val_loss: 641.9611 - val_root_mean_squared_error: 25.3369\n",
            "Epoch 17/20\n",
            "701/701 [==============================] - 174s 248ms/step - loss: 825.1228 - root_mean_squared_error: 28.7250 - val_loss: 681.4038 - val_root_mean_squared_error: 26.1037\n",
            "Epoch 18/20\n",
            "701/701 [==============================] - ETA: 0s - loss: 805.6083 - root_mean_squared_error: 28.3832"
          ]
        },
        {
          "output_type": "stream",
          "name": "stderr",
          "text": [
            "WARNING:absl:Found untraced functions such as _update_step_xla while saving (showing 1 of 1). These functions will not be directly callable after loading.\n"
          ]
        },
        {
          "output_type": "stream",
          "name": "stdout",
          "text": [
            "\b\b\b\b\b\b\b\b\b\b\b\b\b\b\b\b\b\b\b\b\b\b\b\b\b\b\b\b\b\b\b\b\b\b\b\b\b\b\b\b\b\b\b\b\b\b\b\b\b\b\b\b\b\b\b\b\b\b\b\b\b\b\b\b\b\b\b\b\b\b\b\b\b\b\b\b\b\b\b\b\b\b\b\b\b\b\b\b\b\b\b\b\b\b\b\b\b\b\b\b\b\b\r701/701 [==============================] - 182s 260ms/step - loss: 805.6083 - root_mean_squared_error: 28.3832 - val_loss: 631.6897 - val_root_mean_squared_error: 25.1334\n",
            "Epoch 19/20\n",
            "701/701 [==============================] - 169s 241ms/step - loss: 812.1833 - root_mean_squared_error: 28.4988 - val_loss: 732.6679 - val_root_mean_squared_error: 27.0678\n",
            "Epoch 20/20\n",
            "701/701 [==============================] - 171s 244ms/step - loss: 842.4731 - root_mean_squared_error: 29.0254 - val_loss: 687.9677 - val_root_mean_squared_error: 26.2291\n"
          ]
        }
      ],
      "source": [
        "#fit the model\n",
        "history=model.fit(x_train,y_train,validation_data=(x_val,y_val),epochs=20,batch_size=50,callbacks=[cp,earlystop])"
      ]
    },
    {
      "cell_type": "code",
      "execution_count": null,
      "metadata": {
        "id": "wzmegsCtOXwm"
      },
      "outputs": [],
      "source": [
        "#load the best save model for prediction \n",
        "model=load_model('model/')"
      ]
    },
    {
      "cell_type": "markdown",
      "metadata": {
        "id": "AIOFrf8SOXwm"
      },
      "source": [
        "Evaluation"
      ]
    },
    {
      "cell_type": "code",
      "execution_count": null,
      "metadata": {
        "colab": {
          "base_uri": "https://localhost:8080/"
        },
        "outputId": "621ae0eb-a9b0-4e20-db77-073deff059f8",
        "id": "aaZ0SXaFOXwm"
      },
      "outputs": [
        {
          "output_type": "stream",
          "name": "stdout",
          "text": [
            "137/137 [==============================] - 10s 67ms/step\n"
          ]
        }
      ],
      "source": [
        "#evaluate the validation set\n",
        "val_pred=model.predict(x_val).flatten()"
      ]
    },
    {
      "cell_type": "code",
      "execution_count": null,
      "metadata": {
        "colab": {
          "base_uri": "https://localhost:8080/",
          "height": 423
        },
        "outputId": "44bc8742-e250-486e-c147-9d21d4a0695f",
        "id": "WccUJtZbOXwm"
      },
      "outputs": [
        {
          "output_type": "execute_result",
          "data": {
            "text/plain": [
              "      actual  prediction\n",
              "0       79.0   57.013271\n",
              "1       92.0   78.322510\n",
              "2      106.0   85.198212\n",
              "3       75.0   92.176102\n",
              "4       58.0   64.896027\n",
              "...      ...         ...\n",
              "4372    57.0   56.958569\n",
              "4373    52.0   57.009224\n",
              "4374    33.0   52.577549\n",
              "4375    50.0   45.639889\n",
              "4376    56.0   52.060856\n",
              "\n",
              "[4377 rows x 2 columns]"
            ],
            "text/html": [
              "\n",
              "  <div id=\"df-7d7c3922-7aeb-4702-ab3f-aee6eb8ae290\">\n",
              "    <div class=\"colab-df-container\">\n",
              "      <div>\n",
              "<style scoped>\n",
              "    .dataframe tbody tr th:only-of-type {\n",
              "        vertical-align: middle;\n",
              "    }\n",
              "\n",
              "    .dataframe tbody tr th {\n",
              "        vertical-align: top;\n",
              "    }\n",
              "\n",
              "    .dataframe thead th {\n",
              "        text-align: right;\n",
              "    }\n",
              "</style>\n",
              "<table border=\"1\" class=\"dataframe\">\n",
              "  <thead>\n",
              "    <tr style=\"text-align: right;\">\n",
              "      <th></th>\n",
              "      <th>actual</th>\n",
              "      <th>prediction</th>\n",
              "    </tr>\n",
              "  </thead>\n",
              "  <tbody>\n",
              "    <tr>\n",
              "      <th>0</th>\n",
              "      <td>79.0</td>\n",
              "      <td>57.013271</td>\n",
              "    </tr>\n",
              "    <tr>\n",
              "      <th>1</th>\n",
              "      <td>92.0</td>\n",
              "      <td>78.322510</td>\n",
              "    </tr>\n",
              "    <tr>\n",
              "      <th>2</th>\n",
              "      <td>106.0</td>\n",
              "      <td>85.198212</td>\n",
              "    </tr>\n",
              "    <tr>\n",
              "      <th>3</th>\n",
              "      <td>75.0</td>\n",
              "      <td>92.176102</td>\n",
              "    </tr>\n",
              "    <tr>\n",
              "      <th>4</th>\n",
              "      <td>58.0</td>\n",
              "      <td>64.896027</td>\n",
              "    </tr>\n",
              "    <tr>\n",
              "      <th>...</th>\n",
              "      <td>...</td>\n",
              "      <td>...</td>\n",
              "    </tr>\n",
              "    <tr>\n",
              "      <th>4372</th>\n",
              "      <td>57.0</td>\n",
              "      <td>56.958569</td>\n",
              "    </tr>\n",
              "    <tr>\n",
              "      <th>4373</th>\n",
              "      <td>52.0</td>\n",
              "      <td>57.009224</td>\n",
              "    </tr>\n",
              "    <tr>\n",
              "      <th>4374</th>\n",
              "      <td>33.0</td>\n",
              "      <td>52.577549</td>\n",
              "    </tr>\n",
              "    <tr>\n",
              "      <th>4375</th>\n",
              "      <td>50.0</td>\n",
              "      <td>45.639889</td>\n",
              "    </tr>\n",
              "    <tr>\n",
              "      <th>4376</th>\n",
              "      <td>56.0</td>\n",
              "      <td>52.060856</td>\n",
              "    </tr>\n",
              "  </tbody>\n",
              "</table>\n",
              "<p>4377 rows × 2 columns</p>\n",
              "</div>\n",
              "      <button class=\"colab-df-convert\" onclick=\"convertToInteractive('df-7d7c3922-7aeb-4702-ab3f-aee6eb8ae290')\"\n",
              "              title=\"Convert this dataframe to an interactive table.\"\n",
              "              style=\"display:none;\">\n",
              "        \n",
              "  <svg xmlns=\"http://www.w3.org/2000/svg\" height=\"24px\"viewBox=\"0 0 24 24\"\n",
              "       width=\"24px\">\n",
              "    <path d=\"M0 0h24v24H0V0z\" fill=\"none\"/>\n",
              "    <path d=\"M18.56 5.44l.94 2.06.94-2.06 2.06-.94-2.06-.94-.94-2.06-.94 2.06-2.06.94zm-11 1L8.5 8.5l.94-2.06 2.06-.94-2.06-.94L8.5 2.5l-.94 2.06-2.06.94zm10 10l.94 2.06.94-2.06 2.06-.94-2.06-.94-.94-2.06-.94 2.06-2.06.94z\"/><path d=\"M17.41 7.96l-1.37-1.37c-.4-.4-.92-.59-1.43-.59-.52 0-1.04.2-1.43.59L10.3 9.45l-7.72 7.72c-.78.78-.78 2.05 0 2.83L4 21.41c.39.39.9.59 1.41.59.51 0 1.02-.2 1.41-.59l7.78-7.78 2.81-2.81c.8-.78.8-2.07 0-2.86zM5.41 20L4 18.59l7.72-7.72 1.47 1.35L5.41 20z\"/>\n",
              "  </svg>\n",
              "      </button>\n",
              "      \n",
              "  <style>\n",
              "    .colab-df-container {\n",
              "      display:flex;\n",
              "      flex-wrap:wrap;\n",
              "      gap: 12px;\n",
              "    }\n",
              "\n",
              "    .colab-df-convert {\n",
              "      background-color: #E8F0FE;\n",
              "      border: none;\n",
              "      border-radius: 50%;\n",
              "      cursor: pointer;\n",
              "      display: none;\n",
              "      fill: #1967D2;\n",
              "      height: 32px;\n",
              "      padding: 0 0 0 0;\n",
              "      width: 32px;\n",
              "    }\n",
              "\n",
              "    .colab-df-convert:hover {\n",
              "      background-color: #E2EBFA;\n",
              "      box-shadow: 0px 1px 2px rgba(60, 64, 67, 0.3), 0px 1px 3px 1px rgba(60, 64, 67, 0.15);\n",
              "      fill: #174EA6;\n",
              "    }\n",
              "\n",
              "    [theme=dark] .colab-df-convert {\n",
              "      background-color: #3B4455;\n",
              "      fill: #D2E3FC;\n",
              "    }\n",
              "\n",
              "    [theme=dark] .colab-df-convert:hover {\n",
              "      background-color: #434B5C;\n",
              "      box-shadow: 0px 1px 3px 1px rgba(0, 0, 0, 0.15);\n",
              "      filter: drop-shadow(0px 1px 2px rgba(0, 0, 0, 0.3));\n",
              "      fill: #FFFFFF;\n",
              "    }\n",
              "  </style>\n",
              "\n",
              "      <script>\n",
              "        const buttonEl =\n",
              "          document.querySelector('#df-7d7c3922-7aeb-4702-ab3f-aee6eb8ae290 button.colab-df-convert');\n",
              "        buttonEl.style.display =\n",
              "          google.colab.kernel.accessAllowed ? 'block' : 'none';\n",
              "\n",
              "        async function convertToInteractive(key) {\n",
              "          const element = document.querySelector('#df-7d7c3922-7aeb-4702-ab3f-aee6eb8ae290');\n",
              "          const dataTable =\n",
              "            await google.colab.kernel.invokeFunction('convertToInteractive',\n",
              "                                                     [key], {});\n",
              "          if (!dataTable) return;\n",
              "\n",
              "          const docLinkHtml = 'Like what you see? Visit the ' +\n",
              "            '<a target=\"_blank\" href=https://colab.research.google.com/notebooks/data_table.ipynb>data table notebook</a>'\n",
              "            + ' to learn more about interactive tables.';\n",
              "          element.innerHTML = '';\n",
              "          dataTable['output_type'] = 'display_data';\n",
              "          await google.colab.output.renderOutput(dataTable, element);\n",
              "          const docLink = document.createElement('div');\n",
              "          docLink.innerHTML = docLinkHtml;\n",
              "          element.appendChild(docLink);\n",
              "        }\n",
              "      </script>\n",
              "    </div>\n",
              "  </div>\n",
              "  "
            ]
          },
          "metadata": {},
          "execution_count": 80
        }
      ],
      "source": [
        "#create  dataframe for evaluation of validation set\n",
        "val_results=pd.DataFrame(data={'actual':y_val,'prediction':val_pred})\n",
        "val_results"
      ]
    },
    {
      "cell_type": "code",
      "execution_count": null,
      "metadata": {
        "colab": {
          "base_uri": "https://localhost:8080/",
          "height": 265
        },
        "outputId": "e71261ec-e91c-4b9b-b484-c4a5b9111a95",
        "id": "jDx8-78LOXwn"
      },
      "outputs": [
        {
          "output_type": "display_data",
          "data": {
            "text/plain": [
              "<Figure size 432x288 with 1 Axes>"
            ],
            "image/png": "[encoded data removed]"
          },
          "metadata": {
            "needs_background": "light"
          }
        }
      ],
      "source": [
        "#plot the validation result\n",
        "plt.plot(val_results['actual'][:100])\n",
        "plt.plot(val_results['prediction'][:100])\n",
        "plt.legend(['actual','prediction']);"
      ]
    },
    {
      "cell_type": "markdown",
      "metadata": {
        "id": "fhPaKGYuOXwn"
      },
      "source": [
        "Evaluation on test set"
      ]
    },
    {
      "cell_type": "code",
      "execution_count": null,
      "metadata": {
        "id": "lEb7hYTGOXwn"
      },
      "outputs": [],
      "source": [
        "#def function for prediction and plotting\n",
        "def plot_prediction(model,X,y,start,end):\n",
        "  pred=model.predict(X)\n",
        "  pred_poll=model.predict(X).flatten()\n",
        "  act_poll=y\n",
        "  results=pd.DataFrame(data={'actual':act_poll,'prediction':pred_poll})\n",
        "  return results"
      ]
    },
    {
      "cell_type": "code",
      "execution_count": null,
      "metadata": {
        "colab": {
          "base_uri": "https://localhost:8080/",
          "height": 458
        },
        "outputId": "42d5fe19-9bce-440c-85f9-b9a0c2edad56",
        "id": "ywDyZ4wtOXwn"
      },
      "outputs": [
        {
          "output_type": "stream",
          "name": "stdout",
          "text": [
            "137/137 [==============================] - 9s 67ms/step\n",
            "137/137 [==============================] - 9s 64ms/step\n"
          ]
        },
        {
          "output_type": "execute_result",
          "data": {
            "text/plain": [
              "      actual  prediction\n",
              "0       64.0   57.684837\n",
              "1       66.0   67.176071\n",
              "2       72.0   71.467514\n",
              "3       78.0   76.061958\n",
              "4       78.0   82.031509\n",
              "...      ...         ...\n",
              "4374     8.0   15.003546\n",
              "4375    10.0   14.890377\n",
              "4376    10.0   14.750581\n",
              "4377     8.0   14.449902\n",
              "4378    12.0   14.399408\n",
              "\n",
              "[4379 rows x 2 columns]"
            ],
            "text/html": [
              "\n",
              "  <div id=\"df-e41b90dc-9ab3-48fb-a8b6-a1769c34a143\">\n",
              "    <div class=\"colab-df-container\">\n",
              "      <div>\n",
              "<style scoped>\n",
              "    .dataframe tbody tr th:only-of-type {\n",
              "        vertical-align: middle;\n",
              "    }\n",
              "\n",
              "    .dataframe tbody tr th {\n",
              "        vertical-align: top;\n",
              "    }\n",
              "\n",
              "    .dataframe thead th {\n",
              "        text-align: right;\n",
              "    }\n",
              "</style>\n",
              "<table border=\"1\" class=\"dataframe\">\n",
              "  <thead>\n",
              "    <tr style=\"text-align: right;\">\n",
              "      <th></th>\n",
              "      <th>actual</th>\n",
              "      <th>prediction</th>\n",
              "    </tr>\n",
              "  </thead>\n",
              "  <tbody>\n",
              "    <tr>\n",
              "      <th>0</th>\n",
              "      <td>64.0</td>\n",
              "      <td>57.684837</td>\n",
              "    </tr>\n",
              "    <tr>\n",
              "      <th>1</th>\n",
              "      <td>66.0</td>\n",
              "      <td>67.176071</td>\n",
              "    </tr>\n",
              "    <tr>\n",
              "      <th>2</th>\n",
              "      <td>72.0</td>\n",
              "      <td>71.467514</td>\n",
              "    </tr>\n",
              "    <tr>\n",
              "      <th>3</th>\n",
              "      <td>78.0</td>\n",
              "      <td>76.061958</td>\n",
              "    </tr>\n",
              "    <tr>\n",
              "      <th>4</th>\n",
              "      <td>78.0</td>\n",
              "      <td>82.031509</td>\n",
              "    </tr>\n",
              "    <tr>\n",
              "      <th>...</th>\n",
              "      <td>...</td>\n",
              "      <td>...</td>\n",
              "    </tr>\n",
              "    <tr>\n",
              "      <th>4374</th>\n",
              "      <td>8.0</td>\n",
              "      <td>15.003546</td>\n",
              "    </tr>\n",
              "    <tr>\n",
              "      <th>4375</th>\n",
              "      <td>10.0</td>\n",
              "      <td>14.890377</td>\n",
              "    </tr>\n",
              "    <tr>\n",
              "      <th>4376</th>\n",
              "      <td>10.0</td>\n",
              "      <td>14.750581</td>\n",
              "    </tr>\n",
              "    <tr>\n",
              "      <th>4377</th>\n",
              "      <td>8.0</td>\n",
              "      <td>14.449902</td>\n",
              "    </tr>\n",
              "    <tr>\n",
              "      <th>4378</th>\n",
              "      <td>12.0</td>\n",
              "      <td>14.399408</td>\n",
              "    </tr>\n",
              "  </tbody>\n",
              "</table>\n",
              "<p>4379 rows × 2 columns</p>\n",
              "</div>\n",
              "      <button class=\"colab-df-convert\" onclick=\"convertToInteractive('df-e41b90dc-9ab3-48fb-a8b6-a1769c34a143')\"\n",
              "              title=\"Convert this dataframe to an interactive table.\"\n",
              "              style=\"display:none;\">\n",
              "        \n",
              "  <svg xmlns=\"http://www.w3.org/2000/svg\" height=\"24px\"viewBox=\"0 0 24 24\"\n",
              "       width=\"24px\">\n",
              "    <path d=\"M0 0h24v24H0V0z\" fill=\"none\"/>\n",
              "    <path d=\"M18.56 5.44l.94 2.06.94-2.06 2.06-.94-2.06-.94-.94-2.06-.94 2.06-2.06.94zm-11 1L8.5 8.5l.94-2.06 2.06-.94-2.06-.94L8.5 2.5l-.94 2.06-2.06.94zm10 10l.94 2.06.94-2.06 2.06-.94-2.06-.94-.94-2.06-.94 2.06-2.06.94z\"/><path d=\"M17.41 7.96l-1.37-1.37c-.4-.4-.92-.59-1.43-.59-.52 0-1.04.2-1.43.59L10.3 9.45l-7.72 7.72c-.78.78-.78 2.05 0 2.83L4 21.41c.39.39.9.59 1.41.59.51 0 1.02-.2 1.41-.59l7.78-7.78 2.81-2.81c.8-.78.8-2.07 0-2.86zM5.41 20L4 18.59l7.72-7.72 1.47 1.35L5.41 20z\"/>\n",
              "  </svg>\n",
              "      </button>\n",
              "      \n",
              "  <style>\n",
              "    .colab-df-container {\n",
              "      display:flex;\n",
              "      flex-wrap:wrap;\n",
              "      gap: 12px;\n",
              "    }\n",
              "\n",
              "    .colab-df-convert {\n",
              "      background-color: #E8F0FE;\n",
              "      border: none;\n",
              "      border-radius: 50%;\n",
              "      cursor: pointer;\n",
              "      display: none;\n",
              "      fill: #1967D2;\n",
              "      height: 32px;\n",
              "      padding: 0 0 0 0;\n",
              "      width: 32px;\n",
              "    }\n",
              "\n",
              "    .colab-df-convert:hover {\n",
              "      background-color: #E2EBFA;\n",
              "      box-shadow: 0px 1px 2px rgba(60, 64, 67, 0.3), 0px 1px 3px 1px rgba(60, 64, 67, 0.15);\n",
              "      fill: #174EA6;\n",
              "    }\n",
              "\n",
              "    [theme=dark] .colab-df-convert {\n",
              "      background-color: #3B4455;\n",
              "      fill: #D2E3FC;\n",
              "    }\n",
              "\n",
              "    [theme=dark] .colab-df-convert:hover {\n",
              "      background-color: #434B5C;\n",
              "      box-shadow: 0px 1px 3px 1px rgba(0, 0, 0, 0.15);\n",
              "      filter: drop-shadow(0px 1px 2px rgba(0, 0, 0, 0.3));\n",
              "      fill: #FFFFFF;\n",
              "    }\n",
              "  </style>\n",
              "\n",
              "      <script>\n",
              "        const buttonEl =\n",
              "          document.querySelector('#df-e41b90dc-9ab3-48fb-a8b6-a1769c34a143 button.colab-df-convert');\n",
              "        buttonEl.style.display =\n",
              "          google.colab.kernel.accessAllowed ? 'block' : 'none';\n",
              "\n",
              "        async function convertToInteractive(key) {\n",
              "          const element = document.querySelector('#df-e41b90dc-9ab3-48fb-a8b6-a1769c34a143');\n",
              "          const dataTable =\n",
              "            await google.colab.kernel.invokeFunction('convertToInteractive',\n",
              "                                                     [key], {});\n",
              "          if (!dataTable) return;\n",
              "\n",
              "          const docLinkHtml = 'Like what you see? Visit the ' +\n",
              "            '<a target=\"_blank\" href=https://colab.research.google.com/notebooks/data_table.ipynb>data table notebook</a>'\n",
              "            + ' to learn more about interactive tables.';\n",
              "          element.innerHTML = '';\n",
              "          dataTable['output_type'] = 'display_data';\n",
              "          await google.colab.output.renderOutput(dataTable, element);\n",
              "          const docLink = document.createElement('div');\n",
              "          docLink.innerHTML = docLinkHtml;\n",
              "          element.appendChild(docLink);\n",
              "        }\n",
              "      </script>\n",
              "    </div>\n",
              "  </div>\n",
              "  "
            ]
          },
          "metadata": {},
          "execution_count": 83
        }
      ],
      "source": [
        "#forecast prediction\n",
        "post_processed_df=plot_prediction(model,x_test,y_test,0,4378)\n",
        "post_processed_df"
      ]
    },
    {
      "cell_type": "code",
      "execution_count": null,
      "metadata": {
        "colab": {
          "base_uri": "https://localhost:8080/",
          "height": 265
        },
        "id": "T4yG9uCS_M15",
        "outputId": "af0583f2-109b-4301-87c3-c305bb4428fd"
      },
      "outputs": [
        {
          "output_type": "display_data",
          "data": {
            "text/plain": [
              "<Figure size 432x288 with 1 Axes>"
            ],
            "image/png": "[encoded data removed]"
          },
          "metadata": {
            "needs_background": "light"
          }
        }
      ],
      "source": [
        "#plot for first 100 records in test \n",
        "plt.plot(post_processed_df['actual'][:100])\n",
        "plt.plot(post_processed_df['prediction'][:100])\n",
        "plt.legend(['actual','prediction']);"
      ]
    },
    {
      "cell_type": "code",
      "execution_count": null,
      "metadata": {
        "colab": {
          "base_uri": "https://localhost:8080/",
          "height": 265
        },
        "id": "TIne5bGdBHbO",
        "outputId": "125d1dba-1f54-4a1c-a3e3-b5842d09da4c"
      },
      "outputs": [
        {
          "output_type": "display_data",
          "data": {
            "text/plain": [
              "<Figure size 432x288 with 1 Axes>"
            ],
            "image/png": "[encoded data removed]"
          },
          "metadata": {
            "needs_background": "light"
          }
        }
      ],
      "source": [
        "#plot all records on test data\n",
        "plt.plot(post_processed_df['actual'])\n",
        "plt.plot(post_processed_df['prediction'])\n",
        "plt.legend(['actual','predicted']);"
      ]
    },
    {
      "cell_type": "code",
      "execution_count": null,
      "metadata": {
        "id": "KFvqWF8qOXwo"
      },
      "outputs": [],
      "source": [
        "#save the forecasted values \n",
        "post_processed_df['prediction'].to_csv('forecasted_values')"
      ]
    },
    {
      "cell_type": "code",
      "execution_count": null,
      "metadata": {
        "colab": {
          "base_uri": "https://localhost:8080/",
          "height": 458
        },
        "id": "9CDuFw2aTJGS",
        "outputId": "1354a1fe-0a15-48b3-d9bb-3a974a1c236c"
      },
      "outputs": [
        {
          "output_type": "stream",
          "name": "stdout",
          "text": [
            "1368/1368 [==============================] - 85s 62ms/step\n",
            "1368/1368 [==============================] - 88s 64ms/step\n"
          ]
        },
        {
          "output_type": "execute_result",
          "data": {
            "text/plain": [
              "       actual  prediction\n",
              "0        90.0  114.513664\n",
              "1        63.0   78.860031\n",
              "2        65.0   57.003864\n",
              "3        55.0   62.561462\n",
              "4        65.0   61.923595\n",
              "...       ...         ...\n",
              "43771     8.0   15.003546\n",
              "43772    10.0   14.890377\n",
              "43773    10.0   14.750578\n",
              "43774     8.0   14.449903\n",
              "43775    12.0   14.399411\n",
              "\n",
              "[43776 rows x 2 columns]"
            ],
            "text/html": [
              "\n",
              "  <div id=\"df-5c8ee9fb-53ee-4ac8-9e7e-fb0eb22744dc\">\n",
              "    <div class=\"colab-df-container\">\n",
              "      <div>\n",
              "<style scoped>\n",
              "    .dataframe tbody tr th:only-of-type {\n",
              "        vertical-align: middle;\n",
              "    }\n",
              "\n",
              "    .dataframe tbody tr th {\n",
              "        vertical-align: top;\n",
              "    }\n",
              "\n",
              "    .dataframe thead th {\n",
              "        text-align: right;\n",
              "    }\n",
              "</style>\n",
              "<table border=\"1\" class=\"dataframe\">\n",
              "  <thead>\n",
              "    <tr style=\"text-align: right;\">\n",
              "      <th></th>\n",
              "      <th>actual</th>\n",
              "      <th>prediction</th>\n",
              "    </tr>\n",
              "  </thead>\n",
              "  <tbody>\n",
              "    <tr>\n",
              "      <th>0</th>\n",
              "      <td>90.0</td>\n",
              "      <td>114.513664</td>\n",
              "    </tr>\n",
              "    <tr>\n",
              "      <th>1</th>\n",
              "      <td>63.0</td>\n",
              "      <td>78.860031</td>\n",
              "    </tr>\n",
              "    <tr>\n",
              "      <th>2</th>\n",
              "      <td>65.0</td>\n",
              "      <td>57.003864</td>\n",
              "    </tr>\n",
              "    <tr>\n",
              "      <th>3</th>\n",
              "      <td>55.0</td>\n",
              "      <td>62.561462</td>\n",
              "    </tr>\n",
              "    <tr>\n",
              "      <th>4</th>\n",
              "      <td>65.0</td>\n",
              "      <td>61.923595</td>\n",
              "    </tr>\n",
              "    <tr>\n",
              "      <th>...</th>\n",
              "      <td>...</td>\n",
              "      <td>...</td>\n",
              "    </tr>\n",
              "    <tr>\n",
              "      <th>43771</th>\n",
              "      <td>8.0</td>\n",
              "      <td>15.003546</td>\n",
              "    </tr>\n",
              "    <tr>\n",
              "      <th>43772</th>\n",
              "      <td>10.0</td>\n",
              "      <td>14.890377</td>\n",
              "    </tr>\n",
              "    <tr>\n",
              "      <th>43773</th>\n",
              "      <td>10.0</td>\n",
              "      <td>14.750578</td>\n",
              "    </tr>\n",
              "    <tr>\n",
              "      <th>43774</th>\n",
              "      <td>8.0</td>\n",
              "      <td>14.449903</td>\n",
              "    </tr>\n",
              "    <tr>\n",
              "      <th>43775</th>\n",
              "      <td>12.0</td>\n",
              "      <td>14.399411</td>\n",
              "    </tr>\n",
              "  </tbody>\n",
              "</table>\n",
              "<p>43776 rows × 2 columns</p>\n",
              "</div>\n",
              "      <button class=\"colab-df-convert\" onclick=\"convertToInteractive('df-5c8ee9fb-53ee-4ac8-9e7e-fb0eb22744dc')\"\n",
              "              title=\"Convert this dataframe to an interactive table.\"\n",
              "              style=\"display:none;\">\n",
              "        \n",
              "  <svg xmlns=\"http://www.w3.org/2000/svg\" height=\"24px\"viewBox=\"0 0 24 24\"\n",
              "       width=\"24px\">\n",
              "    <path d=\"M0 0h24v24H0V0z\" fill=\"none\"/>\n",
              "    <path d=\"M18.56 5.44l.94 2.06.94-2.06 2.06-.94-2.06-.94-.94-2.06-.94 2.06-2.06.94zm-11 1L8.5 8.5l.94-2.06 2.06-.94-2.06-.94L8.5 2.5l-.94 2.06-2.06.94zm10 10l.94 2.06.94-2.06 2.06-.94-2.06-.94-.94-2.06-.94 2.06-2.06.94z\"/><path d=\"M17.41 7.96l-1.37-1.37c-.4-.4-.92-.59-1.43-.59-.52 0-1.04.2-1.43.59L10.3 9.45l-7.72 7.72c-.78.78-.78 2.05 0 2.83L4 21.41c.39.39.9.59 1.41.59.51 0 1.02-.2 1.41-.59l7.78-7.78 2.81-2.81c.8-.78.8-2.07 0-2.86zM5.41 20L4 18.59l7.72-7.72 1.47 1.35L5.41 20z\"/>\n",
              "  </svg>\n",
              "      </button>\n",
              "      \n",
              "  <style>\n",
              "    .colab-df-container {\n",
              "      display:flex;\n",
              "      flex-wrap:wrap;\n",
              "      gap: 12px;\n",
              "    }\n",
              "\n",
              "    .colab-df-convert {\n",
              "      background-color: #E8F0FE;\n",
              "      border: none;\n",
              "      border-radius: 50%;\n",
              "      cursor: pointer;\n",
              "      display: none;\n",
              "      fill: #1967D2;\n",
              "      height: 32px;\n",
              "      padding: 0 0 0 0;\n",
              "      width: 32px;\n",
              "    }\n",
              "\n",
              "    .colab-df-convert:hover {\n",
              "      background-color: #E2EBFA;\n",
              "      box-shadow: 0px 1px 2px rgba(60, 64, 67, 0.3), 0px 1px 3px 1px rgba(60, 64, 67, 0.15);\n",
              "      fill: #174EA6;\n",
              "    }\n",
              "\n",
              "    [theme=dark] .colab-df-convert {\n",
              "      background-color: #3B4455;\n",
              "      fill: #D2E3FC;\n",
              "    }\n",
              "\n",
              "    [theme=dark] .colab-df-convert:hover {\n",
              "      background-color: #434B5C;\n",
              "      box-shadow: 0px 1px 3px 1px rgba(0, 0, 0, 0.15);\n",
              "      filter: drop-shadow(0px 1px 2px rgba(0, 0, 0, 0.3));\n",
              "      fill: #FFFFFF;\n",
              "    }\n",
              "  </style>\n",
              "\n",
              "      <script>\n",
              "        const buttonEl =\n",
              "          document.querySelector('#df-5c8ee9fb-53ee-4ac8-9e7e-fb0eb22744dc button.colab-df-convert');\n",
              "        buttonEl.style.display =\n",
              "          google.colab.kernel.accessAllowed ? 'block' : 'none';\n",
              "\n",
              "        async function convertToInteractive(key) {\n",
              "          const element = document.querySelector('#df-5c8ee9fb-53ee-4ac8-9e7e-fb0eb22744dc');\n",
              "          const dataTable =\n",
              "            await google.colab.kernel.invokeFunction('convertToInteractive',\n",
              "                                                     [key], {});\n",
              "          if (!dataTable) return;\n",
              "\n",
              "          const docLinkHtml = 'Like what you see? Visit the ' +\n",
              "            '<a target=\"_blank\" href=https://colab.research.google.com/notebooks/data_table.ipynb>data table notebook</a>'\n",
              "            + ' to learn more about interactive tables.';\n",
              "          element.innerHTML = '';\n",
              "          dataTable['output_type'] = 'display_data';\n",
              "          await google.colab.output.renderOutput(dataTable, element);\n",
              "          const docLink = document.createElement('div');\n",
              "          docLink.innerHTML = docLinkHtml;\n",
              "          element.appendChild(docLink);\n",
              "        }\n",
              "      </script>\n",
              "    </div>\n",
              "  </div>\n",
              "  "
            ]
          },
          "metadata": {},
          "execution_count": 87
        }
      ],
      "source": [
        "#predicting whole dataset\n",
        "whole_data=plot_prediction(model,X,y,0,43776)\n",
        "whole_data"
      ]
    },
    {
      "cell_type": "code",
      "execution_count": null,
      "metadata": {
        "colab": {
          "base_uri": "https://localhost:8080/",
          "height": 592
        },
        "id": "JJzsRLkyUPYs",
        "outputId": "1a70a615-c82c-4cc6-f11e-0bce19830c16"
      },
      "outputs": [
        {
          "output_type": "display_data",
          "data": {
            "text/plain": [
              "<Figure size 1080x720 with 1 Axes>"
            ],
            "image/png": "[encoded data removed]"
          },
          "metadata": {
            "needs_background": "light"
          }
        }
      ],
      "source": [
        "#plotting actual vs forecasting values\n",
        "plt.figure(figsize=(15,10))\n",
        "plt.plot(whole_data['actual'][:39397])\n",
        "plt.plot(whole_data['prediction'][39397:])\n",
        "plt.legend(['actual','predicted']);"
      ]
    },
    {
      "cell_type": "markdown",
      "source": [
        "# **multivariate-parallel series(interdependence technique)**"
      ],
      "metadata": {
        "id": "DQxnf7g_Ozk0"
      }
    },
    {
      "cell_type": "code",
      "execution_count": 96,
      "metadata": {
        "id": "K98fyF_jHhul"
      },
      "outputs": [],
      "source": [
        "# Load Pakages Mathematical and DATA Operations\n",
        "import numpy as np \n",
        "import pandas as pd \n",
        "\n",
        "# Load Pakages plotting\n",
        "import matplotlib.pyplot as plt\n",
        "%matplotlib inline \n",
        "import seaborn as sns \n",
        "\n",
        "# Load Pakages for Ignore Warnings\n",
        "import warnings\n",
        "warnings.filterwarnings('ignore')\n",
        "\n",
        "# Load Pakages Scaling\n",
        "from sklearn.preprocessing import MinMaxScaler\n",
        "from sklearn.preprocessing import StandardScaler\n",
        "\n",
        "# Load Pakages for Encoding\n",
        "from sklearn.preprocessing import LabelEncoder\n",
        "from sklearn.preprocessing import OneHotEncoder\n",
        "\n",
        "# Load Pakages for Evaluation\n",
        "from sklearn.metrics import mean_squared_error"
      ]
    },
    {
      "cell_type": "code",
      "source": [
        "# Load Dataset\n",
        "df=pd.read_csv('/content/LSTM-Multivariate_pollution.csv',parse_dates=['date'])#by using parse_dates convert the string dtype to date format"
      ],
      "metadata": {
        "id": "pngRpaDkIhBH"
      },
      "execution_count": 97,
      "outputs": []
    },
    {
      "cell_type": "markdown",
      "source": [
        "eda"
      ],
      "metadata": {
        "id": "QlF7o5vnwvE_"
      }
    },
    {
      "cell_type": "code",
      "source": [
        "# Displaying the First 5-Records of data\n",
        "df.head(5)"
      ],
      "metadata": {
        "colab": {
          "base_uri": "https://localhost:8080/",
          "height": 206
        },
        "id": "J9UZtxJonTC3",
        "outputId": "56ca826b-7a12-4b91-ded3-674d8300298e"
      },
      "execution_count": 98,
      "outputs": [
        {
          "output_type": "execute_result",
          "data": {
            "text/plain": [
              "                 date  pollution  dew  temp   press wnd_dir  wnd_spd  snow  \\\n",
              "0 2010-01-02 00:00:00      129.0  -16  -4.0  1020.0      SE     1.79     0   \n",
              "1 2010-01-02 01:00:00      148.0  -15  -4.0  1020.0      SE     2.68     0   \n",
              "2 2010-01-02 02:00:00      159.0  -11  -5.0  1021.0      SE     3.57     0   \n",
              "3 2010-01-02 03:00:00      181.0   -7  -5.0  1022.0      SE     5.36     1   \n",
              "4 2010-01-02 04:00:00      138.0   -7  -5.0  1022.0      SE     6.25     2   \n",
              "\n",
              "   rain  \n",
              "0     0  \n",
              "1     0  \n",
              "2     0  \n",
              "3     0  \n",
              "4     0  "
            ],
            "text/html": [
              "\n",
              "  <div id=\"df-49b32c8c-d5b4-4336-9d13-e37082134e37\">\n",
              "    <div class=\"colab-df-container\">\n",
              "      <div>\n",
              "<style scoped>\n",
              "    .dataframe tbody tr th:only-of-type {\n",
              "        vertical-align: middle;\n",
              "    }\n",
              "\n",
              "    .dataframe tbody tr th {\n",
              "        vertical-align: top;\n",
              "    }\n",
              "\n",
              "    .dataframe thead th {\n",
              "        text-align: right;\n",
              "    }\n",
              "</style>\n",
              "<table border=\"1\" class=\"dataframe\">\n",
              "  <thead>\n",
              "    <tr style=\"text-align: right;\">\n",
              "      <th></th>\n",
              "      <th>date</th>\n",
              "      <th>pollution</th>\n",
              "      <th>dew</th>\n",
              "      <th>temp</th>\n",
              "      <th>press</th>\n",
              "      <th>wnd_dir</th>\n",
              "      <th>wnd_spd</th>\n",
              "      <th>snow</th>\n",
              "      <th>rain</th>\n",
              "    </tr>\n",
              "  </thead>\n",
              "  <tbody>\n",
              "    <tr>\n",
              "      <th>0</th>\n",
              "      <td>2010-01-02 00:00:00</td>\n",
              "      <td>129.0</td>\n",
              "      <td>-16</td>\n",
              "      <td>-4.0</td>\n",
              "      <td>1020.0</td>\n",
              "      <td>SE</td>\n",
              "      <td>1.79</td>\n",
              "      <td>0</td>\n",
              "      <td>0</td>\n",
              "    </tr>\n",
              "    <tr>\n",
              "      <th>1</th>\n",
              "      <td>2010-01-02 01:00:00</td>\n",
              "      <td>148.0</td>\n",
              "      <td>-15</td>\n",
              "      <td>-4.0</td>\n",
              "      <td>1020.0</td>\n",
              "      <td>SE</td>\n",
              "      <td>2.68</td>\n",
              "      <td>0</td>\n",
              "      <td>0</td>\n",
              "    </tr>\n",
              "    <tr>\n",
              "      <th>2</th>\n",
              "      <td>2010-01-02 02:00:00</td>\n",
              "      <td>159.0</td>\n",
              "      <td>-11</td>\n",
              "      <td>-5.0</td>\n",
              "      <td>1021.0</td>\n",
              "      <td>SE</td>\n",
              "      <td>3.57</td>\n",
              "      <td>0</td>\n",
              "      <td>0</td>\n",
              "    </tr>\n",
              "    <tr>\n",
              "      <th>3</th>\n",
              "      <td>2010-01-02 03:00:00</td>\n",
              "      <td>181.0</td>\n",
              "      <td>-7</td>\n",
              "      <td>-5.0</td>\n",
              "      <td>1022.0</td>\n",
              "      <td>SE</td>\n",
              "      <td>5.36</td>\n",
              "      <td>1</td>\n",
              "      <td>0</td>\n",
              "    </tr>\n",
              "    <tr>\n",
              "      <th>4</th>\n",
              "      <td>2010-01-02 04:00:00</td>\n",
              "      <td>138.0</td>\n",
              "      <td>-7</td>\n",
              "      <td>-5.0</td>\n",
              "      <td>1022.0</td>\n",
              "      <td>SE</td>\n",
              "      <td>6.25</td>\n",
              "      <td>2</td>\n",
              "      <td>0</td>\n",
              "    </tr>\n",
              "  </tbody>\n",
              "</table>\n",
              "</div>\n",
              "      <button class=\"colab-df-convert\" onclick=\"convertToInteractive('df-49b32c8c-d5b4-4336-9d13-e37082134e37')\"\n",
              "              title=\"Convert this dataframe to an interactive table.\"\n",
              "              style=\"display:none;\">\n",
              "        \n",
              "  <svg xmlns=\"http://www.w3.org/2000/svg\" height=\"24px\"viewBox=\"0 0 24 24\"\n",
              "       width=\"24px\">\n",
              "    <path d=\"M0 0h24v24H0V0z\" fill=\"none\"/>\n",
              "    <path d=\"M18.56 5.44l.94 2.06.94-2.06 2.06-.94-2.06-.94-.94-2.06-.94 2.06-2.06.94zm-11 1L8.5 8.5l.94-2.06 2.06-.94-2.06-.94L8.5 2.5l-.94 2.06-2.06.94zm10 10l.94 2.06.94-2.06 2.06-.94-2.06-.94-.94-2.06-.94 2.06-2.06.94z\"/><path d=\"M17.41 7.96l-1.37-1.37c-.4-.4-.92-.59-1.43-.59-.52 0-1.04.2-1.43.59L10.3 9.45l-7.72 7.72c-.78.78-.78 2.05 0 2.83L4 21.41c.39.39.9.59 1.41.59.51 0 1.02-.2 1.41-.59l7.78-7.78 2.81-2.81c.8-.78.8-2.07 0-2.86zM5.41 20L4 18.59l7.72-7.72 1.47 1.35L5.41 20z\"/>\n",
              "  </svg>\n",
              "      </button>\n",
              "      \n",
              "  <style>\n",
              "    .colab-df-container {\n",
              "      display:flex;\n",
              "      flex-wrap:wrap;\n",
              "      gap: 12px;\n",
              "    }\n",
              "\n",
              "    .colab-df-convert {\n",
              "      background-color: #E8F0FE;\n",
              "      border: none;\n",
              "      border-radius: 50%;\n",
              "      cursor: pointer;\n",
              "      display: none;\n",
              "      fill: #1967D2;\n",
              "      height: 32px;\n",
              "      padding: 0 0 0 0;\n",
              "      width: 32px;\n",
              "    }\n",
              "\n",
              "    .colab-df-convert:hover {\n",
              "      background-color: #E2EBFA;\n",
              "      box-shadow: 0px 1px 2px rgba(60, 64, 67, 0.3), 0px 1px 3px 1px rgba(60, 64, 67, 0.15);\n",
              "      fill: #174EA6;\n",
              "    }\n",
              "\n",
              "    [theme=dark] .colab-df-convert {\n",
              "      background-color: #3B4455;\n",
              "      fill: #D2E3FC;\n",
              "    }\n",
              "\n",
              "    [theme=dark] .colab-df-convert:hover {\n",
              "      background-color: #434B5C;\n",
              "      box-shadow: 0px 1px 3px 1px rgba(0, 0, 0, 0.15);\n",
              "      filter: drop-shadow(0px 1px 2px rgba(0, 0, 0, 0.3));\n",
              "      fill: #FFFFFF;\n",
              "    }\n",
              "  </style>\n",
              "\n",
              "      <script>\n",
              "        const buttonEl =\n",
              "          document.querySelector('#df-49b32c8c-d5b4-4336-9d13-e37082134e37 button.colab-df-convert');\n",
              "        buttonEl.style.display =\n",
              "          google.colab.kernel.accessAllowed ? 'block' : 'none';\n",
              "\n",
              "        async function convertToInteractive(key) {\n",
              "          const element = document.querySelector('#df-49b32c8c-d5b4-4336-9d13-e37082134e37');\n",
              "          const dataTable =\n",
              "            await google.colab.kernel.invokeFunction('convertToInteractive',\n",
              "                                                     [key], {});\n",
              "          if (!dataTable) return;\n",
              "\n",
              "          const docLinkHtml = 'Like what you see? Visit the ' +\n",
              "            '<a target=\"_blank\" href=https://colab.research.google.com/notebooks/data_table.ipynb>data table notebook</a>'\n",
              "            + ' to learn more about interactive tables.';\n",
              "          element.innerHTML = '';\n",
              "          dataTable['output_type'] = 'display_data';\n",
              "          await google.colab.output.renderOutput(dataTable, element);\n",
              "          const docLink = document.createElement('div');\n",
              "          docLink.innerHTML = docLinkHtml;\n",
              "          element.appendChild(docLink);\n",
              "        }\n",
              "      </script>\n",
              "    </div>\n",
              "  </div>\n",
              "  "
            ]
          },
          "metadata": {},
          "execution_count": 98
        }
      ]
    },
    {
      "cell_type": "code",
      "source": [
        "# Displaying the Last 5-Records of data\n",
        "df.tail(5)"
      ],
      "metadata": {
        "colab": {
          "base_uri": "https://localhost:8080/",
          "height": 206
        },
        "id": "pWgU9KVovL_5",
        "outputId": "3fea6b8d-57df-4100-f446-9ef784607ddf"
      },
      "execution_count": 99,
      "outputs": [
        {
          "output_type": "execute_result",
          "data": {
            "text/plain": [
              "                     date  pollution  dew  temp   press wnd_dir  wnd_spd  \\\n",
              "43795 2014-12-31 19:00:00        8.0  -23  -2.0  1034.0      NW   231.97   \n",
              "43796 2014-12-31 20:00:00       10.0  -22  -3.0  1034.0      NW   237.78   \n",
              "43797 2014-12-31 21:00:00       10.0  -22  -3.0  1034.0      NW   242.70   \n",
              "43798 2014-12-31 22:00:00        8.0  -22  -4.0  1034.0      NW   246.72   \n",
              "43799 2014-12-31 23:00:00       12.0  -21  -3.0  1034.0      NW   249.85   \n",
              "\n",
              "       snow  rain  \n",
              "43795     0     0  \n",
              "43796     0     0  \n",
              "43797     0     0  \n",
              "43798     0     0  \n",
              "43799     0     0  "
            ],
            "text/html": [
              "\n",
              "  <div id=\"df-66d166ca-6cf4-4543-bfe6-23e4ab4dfa56\">\n",
              "    <div class=\"colab-df-container\">\n",
              "      <div>\n",
              "<style scoped>\n",
              "    .dataframe tbody tr th:only-of-type {\n",
              "        vertical-align: middle;\n",
              "    }\n",
              "\n",
              "    .dataframe tbody tr th {\n",
              "        vertical-align: top;\n",
              "    }\n",
              "\n",
              "    .dataframe thead th {\n",
              "        text-align: right;\n",
              "    }\n",
              "</style>\n",
              "<table border=\"1\" class=\"dataframe\">\n",
              "  <thead>\n",
              "    <tr style=\"text-align: right;\">\n",
              "      <th></th>\n",
              "      <th>date</th>\n",
              "      <th>pollution</th>\n",
              "      <th>dew</th>\n",
              "      <th>temp</th>\n",
              "      <th>press</th>\n",
              "      <th>wnd_dir</th>\n",
              "      <th>wnd_spd</th>\n",
              "      <th>snow</th>\n",
              "      <th>rain</th>\n",
              "    </tr>\n",
              "  </thead>\n",
              "  <tbody>\n",
              "    <tr>\n",
              "      <th>43795</th>\n",
              "      <td>2014-12-31 19:00:00</td>\n",
              "      <td>8.0</td>\n",
              "      <td>-23</td>\n",
              "      <td>-2.0</td>\n",
              "      <td>1034.0</td>\n",
              "      <td>NW</td>\n",
              "      <td>231.97</td>\n",
              "      <td>0</td>\n",
              "      <td>0</td>\n",
              "    </tr>\n",
              "    <tr>\n",
              "      <th>43796</th>\n",
              "      <td>2014-12-31 20:00:00</td>\n",
              "      <td>10.0</td>\n",
              "      <td>-22</td>\n",
              "      <td>-3.0</td>\n",
              "      <td>1034.0</td>\n",
              "      <td>NW</td>\n",
              "      <td>237.78</td>\n",
              "      <td>0</td>\n",
              "      <td>0</td>\n",
              "    </tr>\n",
              "    <tr>\n",
              "      <th>43797</th>\n",
              "      <td>2014-12-31 21:00:00</td>\n",
              "      <td>10.0</td>\n",
              "      <td>-22</td>\n",
              "      <td>-3.0</td>\n",
              "      <td>1034.0</td>\n",
              "      <td>NW</td>\n",
              "      <td>242.70</td>\n",
              "      <td>0</td>\n",
              "      <td>0</td>\n",
              "    </tr>\n",
              "    <tr>\n",
              "      <th>43798</th>\n",
              "      <td>2014-12-31 22:00:00</td>\n",
              "      <td>8.0</td>\n",
              "      <td>-22</td>\n",
              "      <td>-4.0</td>\n",
              "      <td>1034.0</td>\n",
              "      <td>NW</td>\n",
              "      <td>246.72</td>\n",
              "      <td>0</td>\n",
              "      <td>0</td>\n",
              "    </tr>\n",
              "    <tr>\n",
              "      <th>43799</th>\n",
              "      <td>2014-12-31 23:00:00</td>\n",
              "      <td>12.0</td>\n",
              "      <td>-21</td>\n",
              "      <td>-3.0</td>\n",
              "      <td>1034.0</td>\n",
              "      <td>NW</td>\n",
              "      <td>249.85</td>\n",
              "      <td>0</td>\n",
              "      <td>0</td>\n",
              "    </tr>\n",
              "  </tbody>\n",
              "</table>\n",
              "</div>\n",
              "      <button class=\"colab-df-convert\" onclick=\"convertToInteractive('df-66d166ca-6cf4-4543-bfe6-23e4ab4dfa56')\"\n",
              "              title=\"Convert this dataframe to an interactive table.\"\n",
              "              style=\"display:none;\">\n",
              "        \n",
              "  <svg xmlns=\"http://www.w3.org/2000/svg\" height=\"24px\"viewBox=\"0 0 24 24\"\n",
              "       width=\"24px\">\n",
              "    <path d=\"M0 0h24v24H0V0z\" fill=\"none\"/>\n",
              "    <path d=\"M18.56 5.44l.94 2.06.94-2.06 2.06-.94-2.06-.94-.94-2.06-.94 2.06-2.06.94zm-11 1L8.5 8.5l.94-2.06 2.06-.94-2.06-.94L8.5 2.5l-.94 2.06-2.06.94zm10 10l.94 2.06.94-2.06 2.06-.94-2.06-.94-.94-2.06-.94 2.06-2.06.94z\"/><path d=\"M17.41 7.96l-1.37-1.37c-.4-.4-.92-.59-1.43-.59-.52 0-1.04.2-1.43.59L10.3 9.45l-7.72 7.72c-.78.78-.78 2.05 0 2.83L4 21.41c.39.39.9.59 1.41.59.51 0 1.02-.2 1.41-.59l7.78-7.78 2.81-2.81c.8-.78.8-2.07 0-2.86zM5.41 20L4 18.59l7.72-7.72 1.47 1.35L5.41 20z\"/>\n",
              "  </svg>\n",
              "      </button>\n",
              "      \n",
              "  <style>\n",
              "    .colab-df-container {\n",
              "      display:flex;\n",
              "      flex-wrap:wrap;\n",
              "      gap: 12px;\n",
              "    }\n",
              "\n",
              "    .colab-df-convert {\n",
              "      background-color: #E8F0FE;\n",
              "      border: none;\n",
              "      border-radius: 50%;\n",
              "      cursor: pointer;\n",
              "      display: none;\n",
              "      fill: #1967D2;\n",
              "      height: 32px;\n",
              "      padding: 0 0 0 0;\n",
              "      width: 32px;\n",
              "    }\n",
              "\n",
              "    .colab-df-convert:hover {\n",
              "      background-color: #E2EBFA;\n",
              "      box-shadow: 0px 1px 2px rgba(60, 64, 67, 0.3), 0px 1px 3px 1px rgba(60, 64, 67, 0.15);\n",
              "      fill: #174EA6;\n",
              "    }\n",
              "\n",
              "    [theme=dark] .colab-df-convert {\n",
              "      background-color: #3B4455;\n",
              "      fill: #D2E3FC;\n",
              "    }\n",
              "\n",
              "    [theme=dark] .colab-df-convert:hover {\n",
              "      background-color: #434B5C;\n",
              "      box-shadow: 0px 1px 3px 1px rgba(0, 0, 0, 0.15);\n",
              "      filter: drop-shadow(0px 1px 2px rgba(0, 0, 0, 0.3));\n",
              "      fill: #FFFFFF;\n",
              "    }\n",
              "  </style>\n",
              "\n",
              "      <script>\n",
              "        const buttonEl =\n",
              "          document.querySelector('#df-66d166ca-6cf4-4543-bfe6-23e4ab4dfa56 button.colab-df-convert');\n",
              "        buttonEl.style.display =\n",
              "          google.colab.kernel.accessAllowed ? 'block' : 'none';\n",
              "\n",
              "        async function convertToInteractive(key) {\n",
              "          const element = document.querySelector('#df-66d166ca-6cf4-4543-bfe6-23e4ab4dfa56');\n",
              "          const dataTable =\n",
              "            await google.colab.kernel.invokeFunction('convertToInteractive',\n",
              "                                                     [key], {});\n",
              "          if (!dataTable) return;\n",
              "\n",
              "          const docLinkHtml = 'Like what you see? Visit the ' +\n",
              "            '<a target=\"_blank\" href=https://colab.research.google.com/notebooks/data_table.ipynb>data table notebook</a>'\n",
              "            + ' to learn more about interactive tables.';\n",
              "          element.innerHTML = '';\n",
              "          dataTable['output_type'] = 'display_data';\n",
              "          await google.colab.output.renderOutput(dataTable, element);\n",
              "          const docLink = document.createElement('div');\n",
              "          docLink.innerHTML = docLinkHtml;\n",
              "          element.appendChild(docLink);\n",
              "        }\n",
              "      </script>\n",
              "    </div>\n",
              "  </div>\n",
              "  "
            ]
          },
          "metadata": {},
          "execution_count": 99
        }
      ]
    },
    {
      "cell_type": "code",
      "source": [
        "#information about rows and columns\n",
        "print(f' No. of Rows: {df.shape[0]} \\n No. of Columns: {df.shape[1]}')"
      ],
      "metadata": {
        "colab": {
          "base_uri": "https://localhost:8080/"
        },
        "id": "t8vEk8hIvcSD",
        "outputId": "4ca65d2a-8248-4cc5-b6b7-b37d974e3ec0"
      },
      "execution_count": 100,
      "outputs": [
        {
          "output_type": "stream",
          "name": "stdout",
          "text": [
            " No. of Rows: 43800 \n",
            " No. of Columns: 9\n"
          ]
        }
      ]
    },
    {
      "cell_type": "code",
      "source": [
        "# Information of Data\n",
        "df.info()"
      ],
      "metadata": {
        "colab": {
          "base_uri": "https://localhost:8080/"
        },
        "id": "6n2jGwwrvjBK",
        "outputId": "41fa46c3-cbdc-4d2f-90ff-7c21150b6bce"
      },
      "execution_count": 101,
      "outputs": [
        {
          "output_type": "stream",
          "name": "stdout",
          "text": [
            "<class 'pandas.core.frame.DataFrame'>\n",
            "RangeIndex: 43800 entries, 0 to 43799\n",
            "Data columns (total 9 columns):\n",
            " #   Column     Non-Null Count  Dtype         \n",
            "---  ------     --------------  -----         \n",
            " 0   date       43800 non-null  datetime64[ns]\n",
            " 1   pollution  43800 non-null  float64       \n",
            " 2   dew        43800 non-null  int64         \n",
            " 3   temp       43800 non-null  float64       \n",
            " 4   press      43800 non-null  float64       \n",
            " 5   wnd_dir    43800 non-null  object        \n",
            " 6   wnd_spd    43800 non-null  float64       \n",
            " 7   snow       43800 non-null  int64         \n",
            " 8   rain       43800 non-null  int64         \n",
            "dtypes: datetime64[ns](1), float64(4), int64(3), object(1)\n",
            "memory usage: 3.0+ MB\n"
          ]
        }
      ]
    },
    {
      "cell_type": "code",
      "source": [
        "#set date as index\n",
        "df.index=df['date']"
      ],
      "metadata": {
        "id": "PW1w78EyIgz-"
      },
      "execution_count": 102,
      "outputs": []
    },
    {
      "cell_type": "code",
      "source": [
        "#drop the date column\n",
        "df.drop('date',axis=1,inplace=True)"
      ],
      "metadata": {
        "id": "fkQIw3ALIgxF"
      },
      "execution_count": 103,
      "outputs": []
    },
    {
      "cell_type": "code",
      "source": [
        "df.head()"
      ],
      "metadata": {
        "colab": {
          "base_uri": "https://localhost:8080/",
          "height": 237
        },
        "id": "ZfIgeKEWnZjI",
        "outputId": "6df16fc2-ff64-4e0b-ac92-98cc3c7627ba"
      },
      "execution_count": 104,
      "outputs": [
        {
          "output_type": "execute_result",
          "data": {
            "text/plain": [
              "                     pollution  dew  temp   press wnd_dir  wnd_spd  snow  rain\n",
              "date                                                                          \n",
              "2010-01-02 00:00:00      129.0  -16  -4.0  1020.0      SE     1.79     0     0\n",
              "2010-01-02 01:00:00      148.0  -15  -4.0  1020.0      SE     2.68     0     0\n",
              "2010-01-02 02:00:00      159.0  -11  -5.0  1021.0      SE     3.57     0     0\n",
              "2010-01-02 03:00:00      181.0   -7  -5.0  1022.0      SE     5.36     1     0\n",
              "2010-01-02 04:00:00      138.0   -7  -5.0  1022.0      SE     6.25     2     0"
            ],
            "text/html": [
              "\n",
              "  <div id=\"df-bfa1a39b-bfa3-41f4-9aa7-ec519461d2d2\">\n",
              "    <div class=\"colab-df-container\">\n",
              "      <div>\n",
              "<style scoped>\n",
              "    .dataframe tbody tr th:only-of-type {\n",
              "        vertical-align: middle;\n",
              "    }\n",
              "\n",
              "    .dataframe tbody tr th {\n",
              "        vertical-align: top;\n",
              "    }\n",
              "\n",
              "    .dataframe thead th {\n",
              "        text-align: right;\n",
              "    }\n",
              "</style>\n",
              "<table border=\"1\" class=\"dataframe\">\n",
              "  <thead>\n",
              "    <tr style=\"text-align: right;\">\n",
              "      <th></th>\n",
              "      <th>pollution</th>\n",
              "      <th>dew</th>\n",
              "      <th>temp</th>\n",
              "      <th>press</th>\n",
              "      <th>wnd_dir</th>\n",
              "      <th>wnd_spd</th>\n",
              "      <th>snow</th>\n",
              "      <th>rain</th>\n",
              "    </tr>\n",
              "    <tr>\n",
              "      <th>date</th>\n",
              "      <th></th>\n",
              "      <th></th>\n",
              "      <th></th>\n",
              "      <th></th>\n",
              "      <th></th>\n",
              "      <th></th>\n",
              "      <th></th>\n",
              "      <th></th>\n",
              "    </tr>\n",
              "  </thead>\n",
              "  <tbody>\n",
              "    <tr>\n",
              "      <th>2010-01-02 00:00:00</th>\n",
              "      <td>129.0</td>\n",
              "      <td>-16</td>\n",
              "      <td>-4.0</td>\n",
              "      <td>1020.0</td>\n",
              "      <td>SE</td>\n",
              "      <td>1.79</td>\n",
              "      <td>0</td>\n",
              "      <td>0</td>\n",
              "    </tr>\n",
              "    <tr>\n",
              "      <th>2010-01-02 01:00:00</th>\n",
              "      <td>148.0</td>\n",
              "      <td>-15</td>\n",
              "      <td>-4.0</td>\n",
              "      <td>1020.0</td>\n",
              "      <td>SE</td>\n",
              "      <td>2.68</td>\n",
              "      <td>0</td>\n",
              "      <td>0</td>\n",
              "    </tr>\n",
              "    <tr>\n",
              "      <th>2010-01-02 02:00:00</th>\n",
              "      <td>159.0</td>\n",
              "      <td>-11</td>\n",
              "      <td>-5.0</td>\n",
              "      <td>1021.0</td>\n",
              "      <td>SE</td>\n",
              "      <td>3.57</td>\n",
              "      <td>0</td>\n",
              "      <td>0</td>\n",
              "    </tr>\n",
              "    <tr>\n",
              "      <th>2010-01-02 03:00:00</th>\n",
              "      <td>181.0</td>\n",
              "      <td>-7</td>\n",
              "      <td>-5.0</td>\n",
              "      <td>1022.0</td>\n",
              "      <td>SE</td>\n",
              "      <td>5.36</td>\n",
              "      <td>1</td>\n",
              "      <td>0</td>\n",
              "    </tr>\n",
              "    <tr>\n",
              "      <th>2010-01-02 04:00:00</th>\n",
              "      <td>138.0</td>\n",
              "      <td>-7</td>\n",
              "      <td>-5.0</td>\n",
              "      <td>1022.0</td>\n",
              "      <td>SE</td>\n",
              "      <td>6.25</td>\n",
              "      <td>2</td>\n",
              "      <td>0</td>\n",
              "    </tr>\n",
              "  </tbody>\n",
              "</table>\n",
              "</div>\n",
              "      <button class=\"colab-df-convert\" onclick=\"convertToInteractive('df-bfa1a39b-bfa3-41f4-9aa7-ec519461d2d2')\"\n",
              "              title=\"Convert this dataframe to an interactive table.\"\n",
              "              style=\"display:none;\">\n",
              "        \n",
              "  <svg xmlns=\"http://www.w3.org/2000/svg\" height=\"24px\"viewBox=\"0 0 24 24\"\n",
              "       width=\"24px\">\n",
              "    <path d=\"M0 0h24v24H0V0z\" fill=\"none\"/>\n",
              "    <path d=\"M18.56 5.44l.94 2.06.94-2.06 2.06-.94-2.06-.94-.94-2.06-.94 2.06-2.06.94zm-11 1L8.5 8.5l.94-2.06 2.06-.94-2.06-.94L8.5 2.5l-.94 2.06-2.06.94zm10 10l.94 2.06.94-2.06 2.06-.94-2.06-.94-.94-2.06-.94 2.06-2.06.94z\"/><path d=\"M17.41 7.96l-1.37-1.37c-.4-.4-.92-.59-1.43-.59-.52 0-1.04.2-1.43.59L10.3 9.45l-7.72 7.72c-.78.78-.78 2.05 0 2.83L4 21.41c.39.39.9.59 1.41.59.51 0 1.02-.2 1.41-.59l7.78-7.78 2.81-2.81c.8-.78.8-2.07 0-2.86zM5.41 20L4 18.59l7.72-7.72 1.47 1.35L5.41 20z\"/>\n",
              "  </svg>\n",
              "      </button>\n",
              "      \n",
              "  <style>\n",
              "    .colab-df-container {\n",
              "      display:flex;\n",
              "      flex-wrap:wrap;\n",
              "      gap: 12px;\n",
              "    }\n",
              "\n",
              "    .colab-df-convert {\n",
              "      background-color: #E8F0FE;\n",
              "      border: none;\n",
              "      border-radius: 50%;\n",
              "      cursor: pointer;\n",
              "      display: none;\n",
              "      fill: #1967D2;\n",
              "      height: 32px;\n",
              "      padding: 0 0 0 0;\n",
              "      width: 32px;\n",
              "    }\n",
              "\n",
              "    .colab-df-convert:hover {\n",
              "      background-color: #E2EBFA;\n",
              "      box-shadow: 0px 1px 2px rgba(60, 64, 67, 0.3), 0px 1px 3px 1px rgba(60, 64, 67, 0.15);\n",
              "      fill: #174EA6;\n",
              "    }\n",
              "\n",
              "    [theme=dark] .colab-df-convert {\n",
              "      background-color: #3B4455;\n",
              "      fill: #D2E3FC;\n",
              "    }\n",
              "\n",
              "    [theme=dark] .colab-df-convert:hover {\n",
              "      background-color: #434B5C;\n",
              "      box-shadow: 0px 1px 3px 1px rgba(0, 0, 0, 0.15);\n",
              "      filter: drop-shadow(0px 1px 2px rgba(0, 0, 0, 0.3));\n",
              "      fill: #FFFFFF;\n",
              "    }\n",
              "  </style>\n",
              "\n",
              "      <script>\n",
              "        const buttonEl =\n",
              "          document.querySelector('#df-bfa1a39b-bfa3-41f4-9aa7-ec519461d2d2 button.colab-df-convert');\n",
              "        buttonEl.style.display =\n",
              "          google.colab.kernel.accessAllowed ? 'block' : 'none';\n",
              "\n",
              "        async function convertToInteractive(key) {\n",
              "          const element = document.querySelector('#df-bfa1a39b-bfa3-41f4-9aa7-ec519461d2d2');\n",
              "          const dataTable =\n",
              "            await google.colab.kernel.invokeFunction('convertToInteractive',\n",
              "                                                     [key], {});\n",
              "          if (!dataTable) return;\n",
              "\n",
              "          const docLinkHtml = 'Like what you see? Visit the ' +\n",
              "            '<a target=\"_blank\" href=https://colab.research.google.com/notebooks/data_table.ipynb>data table notebook</a>'\n",
              "            + ' to learn more about interactive tables.';\n",
              "          element.innerHTML = '';\n",
              "          dataTable['output_type'] = 'display_data';\n",
              "          await google.colab.output.renderOutput(dataTable, element);\n",
              "          const docLink = document.createElement('div');\n",
              "          docLink.innerHTML = docLinkHtml;\n",
              "          element.appendChild(docLink);\n",
              "        }\n",
              "      </script>\n",
              "    </div>\n",
              "  </div>\n",
              "  "
            ]
          },
          "metadata": {},
          "execution_count": 104
        }
      ]
    },
    {
      "cell_type": "markdown",
      "source": [
        "encoding"
      ],
      "metadata": {
        "id": "2y0QUQu4wl5O"
      }
    },
    {
      "cell_type": "code",
      "source": [
        "#encoding to convert categorical to numeric\n",
        "from sklearn.preprocessing import LabelEncoder\n",
        "enc=LabelEncoder()\n",
        "df['wnd_dir']=enc.fit_transform(df['wnd_dir'])"
      ],
      "metadata": {
        "id": "5ky6Gwp-ItW6"
      },
      "execution_count": 105,
      "outputs": []
    },
    {
      "cell_type": "code",
      "source": [
        "df.head()"
      ],
      "metadata": {
        "colab": {
          "base_uri": "https://localhost:8080/",
          "height": 237
        },
        "id": "S71SwfwFIu0F",
        "outputId": "1f19000a-a316-473a-e0a7-f1b72563b5b8"
      },
      "execution_count": 106,
      "outputs": [
        {
          "output_type": "execute_result",
          "data": {
            "text/plain": [
              "                     pollution  dew  temp   press  wnd_dir  wnd_spd  snow  \\\n",
              "date                                                                        \n",
              "2010-01-02 00:00:00      129.0  -16  -4.0  1020.0        2     1.79     0   \n",
              "2010-01-02 01:00:00      148.0  -15  -4.0  1020.0        2     2.68     0   \n",
              "2010-01-02 02:00:00      159.0  -11  -5.0  1021.0        2     3.57     0   \n",
              "2010-01-02 03:00:00      181.0   -7  -5.0  1022.0        2     5.36     1   \n",
              "2010-01-02 04:00:00      138.0   -7  -5.0  1022.0        2     6.25     2   \n",
              "\n",
              "                     rain  \n",
              "date                       \n",
              "2010-01-02 00:00:00     0  \n",
              "2010-01-02 01:00:00     0  \n",
              "2010-01-02 02:00:00     0  \n",
              "2010-01-02 03:00:00     0  \n",
              "2010-01-02 04:00:00     0  "
            ],
            "text/html": [
              "\n",
              "  <div id=\"df-23e39da2-894d-43d8-a481-9b5a7b11d571\">\n",
              "    <div class=\"colab-df-container\">\n",
              "      <div>\n",
              "<style scoped>\n",
              "    .dataframe tbody tr th:only-of-type {\n",
              "        vertical-align: middle;\n",
              "    }\n",
              "\n",
              "    .dataframe tbody tr th {\n",
              "        vertical-align: top;\n",
              "    }\n",
              "\n",
              "    .dataframe thead th {\n",
              "        text-align: right;\n",
              "    }\n",
              "</style>\n",
              "<table border=\"1\" class=\"dataframe\">\n",
              "  <thead>\n",
              "    <tr style=\"text-align: right;\">\n",
              "      <th></th>\n",
              "      <th>pollution</th>\n",
              "      <th>dew</th>\n",
              "      <th>temp</th>\n",
              "      <th>press</th>\n",
              "      <th>wnd_dir</th>\n",
              "      <th>wnd_spd</th>\n",
              "      <th>snow</th>\n",
              "      <th>rain</th>\n",
              "    </tr>\n",
              "    <tr>\n",
              "      <th>date</th>\n",
              "      <th></th>\n",
              "      <th></th>\n",
              "      <th></th>\n",
              "      <th></th>\n",
              "      <th></th>\n",
              "      <th></th>\n",
              "      <th></th>\n",
              "      <th></th>\n",
              "    </tr>\n",
              "  </thead>\n",
              "  <tbody>\n",
              "    <tr>\n",
              "      <th>2010-01-02 00:00:00</th>\n",
              "      <td>129.0</td>\n",
              "      <td>-16</td>\n",
              "      <td>-4.0</td>\n",
              "      <td>1020.0</td>\n",
              "      <td>2</td>\n",
              "      <td>1.79</td>\n",
              "      <td>0</td>\n",
              "      <td>0</td>\n",
              "    </tr>\n",
              "    <tr>\n",
              "      <th>2010-01-02 01:00:00</th>\n",
              "      <td>148.0</td>\n",
              "      <td>-15</td>\n",
              "      <td>-4.0</td>\n",
              "      <td>1020.0</td>\n",
              "      <td>2</td>\n",
              "      <td>2.68</td>\n",
              "      <td>0</td>\n",
              "      <td>0</td>\n",
              "    </tr>\n",
              "    <tr>\n",
              "      <th>2010-01-02 02:00:00</th>\n",
              "      <td>159.0</td>\n",
              "      <td>-11</td>\n",
              "      <td>-5.0</td>\n",
              "      <td>1021.0</td>\n",
              "      <td>2</td>\n",
              "      <td>3.57</td>\n",
              "      <td>0</td>\n",
              "      <td>0</td>\n",
              "    </tr>\n",
              "    <tr>\n",
              "      <th>2010-01-02 03:00:00</th>\n",
              "      <td>181.0</td>\n",
              "      <td>-7</td>\n",
              "      <td>-5.0</td>\n",
              "      <td>1022.0</td>\n",
              "      <td>2</td>\n",
              "      <td>5.36</td>\n",
              "      <td>1</td>\n",
              "      <td>0</td>\n",
              "    </tr>\n",
              "    <tr>\n",
              "      <th>2010-01-02 04:00:00</th>\n",
              "      <td>138.0</td>\n",
              "      <td>-7</td>\n",
              "      <td>-5.0</td>\n",
              "      <td>1022.0</td>\n",
              "      <td>2</td>\n",
              "      <td>6.25</td>\n",
              "      <td>2</td>\n",
              "      <td>0</td>\n",
              "    </tr>\n",
              "  </tbody>\n",
              "</table>\n",
              "</div>\n",
              "      <button class=\"colab-df-convert\" onclick=\"convertToInteractive('df-23e39da2-894d-43d8-a481-9b5a7b11d571')\"\n",
              "              title=\"Convert this dataframe to an interactive table.\"\n",
              "              style=\"display:none;\">\n",
              "        \n",
              "  <svg xmlns=\"http://www.w3.org/2000/svg\" height=\"24px\"viewBox=\"0 0 24 24\"\n",
              "       width=\"24px\">\n",
              "    <path d=\"M0 0h24v24H0V0z\" fill=\"none\"/>\n",
              "    <path d=\"M18.56 5.44l.94 2.06.94-2.06 2.06-.94-2.06-.94-.94-2.06-.94 2.06-2.06.94zm-11 1L8.5 8.5l.94-2.06 2.06-.94-2.06-.94L8.5 2.5l-.94 2.06-2.06.94zm10 10l.94 2.06.94-2.06 2.06-.94-2.06-.94-.94-2.06-.94 2.06-2.06.94z\"/><path d=\"M17.41 7.96l-1.37-1.37c-.4-.4-.92-.59-1.43-.59-.52 0-1.04.2-1.43.59L10.3 9.45l-7.72 7.72c-.78.78-.78 2.05 0 2.83L4 21.41c.39.39.9.59 1.41.59.51 0 1.02-.2 1.41-.59l7.78-7.78 2.81-2.81c.8-.78.8-2.07 0-2.86zM5.41 20L4 18.59l7.72-7.72 1.47 1.35L5.41 20z\"/>\n",
              "  </svg>\n",
              "      </button>\n",
              "      \n",
              "  <style>\n",
              "    .colab-df-container {\n",
              "      display:flex;\n",
              "      flex-wrap:wrap;\n",
              "      gap: 12px;\n",
              "    }\n",
              "\n",
              "    .colab-df-convert {\n",
              "      background-color: #E8F0FE;\n",
              "      border: none;\n",
              "      border-radius: 50%;\n",
              "      cursor: pointer;\n",
              "      display: none;\n",
              "      fill: #1967D2;\n",
              "      height: 32px;\n",
              "      padding: 0 0 0 0;\n",
              "      width: 32px;\n",
              "    }\n",
              "\n",
              "    .colab-df-convert:hover {\n",
              "      background-color: #E2EBFA;\n",
              "      box-shadow: 0px 1px 2px rgba(60, 64, 67, 0.3), 0px 1px 3px 1px rgba(60, 64, 67, 0.15);\n",
              "      fill: #174EA6;\n",
              "    }\n",
              "\n",
              "    [theme=dark] .colab-df-convert {\n",
              "      background-color: #3B4455;\n",
              "      fill: #D2E3FC;\n",
              "    }\n",
              "\n",
              "    [theme=dark] .colab-df-convert:hover {\n",
              "      background-color: #434B5C;\n",
              "      box-shadow: 0px 1px 3px 1px rgba(0, 0, 0, 0.15);\n",
              "      filter: drop-shadow(0px 1px 2px rgba(0, 0, 0, 0.3));\n",
              "      fill: #FFFFFF;\n",
              "    }\n",
              "  </style>\n",
              "\n",
              "      <script>\n",
              "        const buttonEl =\n",
              "          document.querySelector('#df-23e39da2-894d-43d8-a481-9b5a7b11d571 button.colab-df-convert');\n",
              "        buttonEl.style.display =\n",
              "          google.colab.kernel.accessAllowed ? 'block' : 'none';\n",
              "\n",
              "        async function convertToInteractive(key) {\n",
              "          const element = document.querySelector('#df-23e39da2-894d-43d8-a481-9b5a7b11d571');\n",
              "          const dataTable =\n",
              "            await google.colab.kernel.invokeFunction('convertToInteractive',\n",
              "                                                     [key], {});\n",
              "          if (!dataTable) return;\n",
              "\n",
              "          const docLinkHtml = 'Like what you see? Visit the ' +\n",
              "            '<a target=\"_blank\" href=https://colab.research.google.com/notebooks/data_table.ipynb>data table notebook</a>'\n",
              "            + ' to learn more about interactive tables.';\n",
              "          element.innerHTML = '';\n",
              "          dataTable['output_type'] = 'display_data';\n",
              "          await google.colab.output.renderOutput(dataTable, element);\n",
              "          const docLink = document.createElement('div');\n",
              "          docLink.innerHTML = docLinkHtml;\n",
              "          element.appendChild(docLink);\n",
              "        }\n",
              "      </script>\n",
              "    </div>\n",
              "  </div>\n",
              "  "
            ]
          },
          "metadata": {},
          "execution_count": 106
        }
      ]
    },
    {
      "cell_type": "markdown",
      "source": [
        "visualization"
      ],
      "metadata": {
        "id": "khwhBuS4Dx-0"
      }
    },
    {
      "cell_type": "code",
      "source": [
        "#visualize all features\n",
        "fig, axes = plt.subplots(nrows=4, ncols=2,figsize=(14,8))\n",
        "for i,ax in enumerate(axes.flatten()):\n",
        "  data=df[df.columns[i]]\n",
        "  ax.plot(data,color='red',linewidth=1)\n",
        "  ax.set_title(df.columns[i])\n",
        "  ax.tick_params(labelsize=10)\n",
        "\n",
        "plt.tight_layout();"
      ],
      "metadata": {
        "colab": {
          "base_uri": "https://localhost:8080/",
          "height": 585
        },
        "id": "chG_-lrqD7CP",
        "outputId": "0ce8681c-b317-4796-f437-1c7907fc4f37"
      },
      "execution_count": 107,
      "outputs": [
        {
          "output_type": "display_data",
          "data": {
            "text/plain": [
              "<Figure size 1008x576 with 8 Axes>"
            ],
            "image/png": "[encoded data removed]"
          },
          "metadata": {
            "needs_background": "light"
          }
        }
      ]
    },
    {
      "cell_type": "markdown",
      "source": [
        "preprocessing"
      ],
      "metadata": {
        "id": "RqvJ9Fo-D250"
      }
    },
    {
      "cell_type": "code",
      "source": [
        "#create dependent and independent variable with timestep\n",
        "def df_to_X_y(df,window_size):\n",
        "  df_as_np=df.to_numpy()\n",
        "  X=[]\n",
        "  y=[]\n",
        "  for i in range(len(df_as_np)-window_size):\n",
        "    row=[a for a in df_as_np[i:i+window_size]]# add  first 24,2nd 24..... \n",
        "    X.append(row)\n",
        "    label=df_as_np[i+window_size]\n",
        "    y.append(label)\n",
        "  return np.array(X),np.array(y)"
      ],
      "metadata": {
        "id": "djp5_DPOHk-0"
      },
      "execution_count": 109,
      "outputs": []
    },
    {
      "cell_type": "code",
      "source": [
        "#passing the data and split\n",
        "X,y=df_to_X_y(df,window_size=24)"
      ],
      "metadata": {
        "id": "bgiziUQMHqu3"
      },
      "execution_count": 110,
      "outputs": []
    },
    {
      "cell_type": "code",
      "source": [
        "#check the shape\n",
        "X.shape,y.shape"
      ],
      "metadata": {
        "colab": {
          "base_uri": "https://localhost:8080/"
        },
        "id": "WWcATGLkx7ym",
        "outputId": "74ba5004-63e1-47cd-c321-441768b19c26"
      },
      "execution_count": 111,
      "outputs": [
        {
          "output_type": "execute_result",
          "data": {
            "text/plain": [
              "((43776, 24, 8), (43776, 8))"
            ]
          },
          "metadata": {},
          "execution_count": 111
        }
      ]
    },
    {
      "cell_type": "code",
      "source": [
        "#split the data into training data,validation data,test data\n",
        "x_train,y_train=X[:35020],y[:35020]\n",
        "x_val,y_val=X[35020:39397],y[35020:39397]\n",
        "x_test,y_test=X[39397:],y[39397:]\n",
        "x_train.shape,y_train.shape,x_val.shape,y_val.shape,x_test.shape,y_test.shape"
      ],
      "metadata": {
        "colab": {
          "base_uri": "https://localhost:8080/"
        },
        "id": "f__8_AIeOtli",
        "outputId": "322c1917-7d18-4ac4-e04b-bee9bb86c3c8"
      },
      "execution_count": 112,
      "outputs": [
        {
          "output_type": "execute_result",
          "data": {
            "text/plain": [
              "((35020, 24, 8),\n",
              " (35020, 8),\n",
              " (4377, 24, 8),\n",
              " (4377, 8),\n",
              " (4379, 24, 8),\n",
              " (4379, 8))"
            ]
          },
          "metadata": {},
          "execution_count": 112
        }
      ]
    },
    {
      "cell_type": "code",
      "source": [
        "x_train.shape #input to be 3-dimensional :- (no.of samples, no.of timesteps, no.of features)"
      ],
      "metadata": {
        "colab": {
          "base_uri": "https://localhost:8080/"
        },
        "id": "NI2YzdksysOF",
        "outputId": "a4b468c3-55cc-4aca-a899-e058a1bf8c82"
      },
      "execution_count": 113,
      "outputs": [
        {
          "output_type": "execute_result",
          "data": {
            "text/plain": [
              "(35020, 24, 8)"
            ]
          },
          "metadata": {},
          "execution_count": 113
        }
      ]
    },
    {
      "cell_type": "code",
      "source": [
        "y_train.shape #output to be 2-dimensional :-(no.of samples,no.of features)"
      ],
      "metadata": {
        "colab": {
          "base_uri": "https://localhost:8080/"
        },
        "id": "718NNEGuywyP",
        "outputId": "fc0793e5-9ac6-45d7-8bab-6bf7025518fc"
      },
      "execution_count": 114,
      "outputs": [
        {
          "output_type": "execute_result",
          "data": {
            "text/plain": [
              "(35020, 8)"
            ]
          },
          "metadata": {},
          "execution_count": 114
        }
      ]
    },
    {
      "cell_type": "markdown",
      "source": [
        "scaling"
      ],
      "metadata": {
        "id": "SOtXLazizBmJ"
      }
    },
    {
      "cell_type": "code",
      "source": [
        "df_mean0=np.mean(x_train[:,:,0])#(32832all,24all,which variable we want use-->1st use 0 index,for all :)\n",
        "df_std0=np.std(x_train[:,:,0])\n",
        "df_mean1=np.mean(x_train[:,:,1])\n",
        "df_std1=np.std(x_train[:,:,1])\n",
        "df_mean2=np.mean(x_train[:,:,2])\n",
        "df_std2=np.std(x_train[:,:,2])\n",
        "df_mean3=np.mean(x_train[:,:,3])\n",
        "df_std3=np.std(x_train[:,:,3])\n",
        "df_mean4=np.mean(x_train[:,:,4])\n",
        "df_std4=np.std(x_train[:,:,4])\n",
        "df_mean5=np.mean(x_train[:,:,5])\n",
        "df_std5=np.std(x_train[:,:,5])\n",
        "df_mean6=np.mean(x_train[:,:,6])\n",
        "df_std6=np.std(x_train[:,:,6])\n",
        "df_mean7=np.mean(x_train[:,:,7])\n",
        "df_std7=np.std(x_train[:,:,7])"
      ],
      "metadata": {
        "id": "z_3K6i6giHN_"
      },
      "execution_count": 115,
      "outputs": []
    },
    {
      "cell_type": "code",
      "source": [
        "df_mean0,df_mean1"
      ],
      "metadata": {
        "colab": {
          "base_uri": "https://localhost:8080/"
        },
        "id": "Oh4eCYN4OptV",
        "outputId": "9ee0ae86-91d7-4555-9d87-2660ef12f02b"
      },
      "execution_count": 116,
      "outputs": [
        {
          "output_type": "execute_result",
          "data": {
            "text/plain": [
              "(93.35937202550923, 1.7812904530744336)"
            ]
          },
          "metadata": {},
          "execution_count": 116
        }
      ]
    },
    {
      "cell_type": "code",
      "source": [
        "df_std0,df_std1"
      ],
      "metadata": {
        "colab": {
          "base_uri": "https://localhost:8080/"
        },
        "id": "qnuYLsJCOprN",
        "outputId": "ed9b075d-cb7a-47cb-9056-0a7711903f78"
      },
      "execution_count": 117,
      "outputs": [
        {
          "output_type": "execute_result",
          "data": {
            "text/plain": [
              "(91.92248024271689, 14.493664369757937)"
            ]
          },
          "metadata": {},
          "execution_count": 117
        }
      ]
    },
    {
      "cell_type": "code",
      "source": [
        "#scaling x data by create def function \n",
        "def preprocessing(x):\n",
        "  x[:,:,0]=(x[:,:,0]-df_mean0)/df_std0\n",
        "  x[:,:,1]=(x[:,:,1]-df_mean1)/df_std1\n",
        "  x[:,:,2]=(x[:,:,2]-df_mean2)/df_std2\n",
        "  x[:,:,3]=(x[:,:,3]-df_mean3)/df_std3\n",
        "  x[:,:,4]=(x[:,:,4]-df_mean4)/df_std4\n",
        "  x[:,:,5]=(x[:,:,5]-df_mean5)/df_std5\n",
        "  x[:,:,6]=(x[:,:,6]-df_mean6)/df_std6\n",
        "  x[:,:,7]=(x[:,:,7]-df_mean7)/df_std7\n",
        "  return x"
      ],
      "metadata": {
        "id": "YyNffVA3Opol"
      },
      "execution_count": 118,
      "outputs": []
    },
    {
      "cell_type": "code",
      "source": [
        "preprocessing(x_train)\n",
        "preprocessing(x_val)\n",
        "preprocessing(x_test)"
      ],
      "metadata": {
        "colab": {
          "base_uri": "https://localhost:8080/"
        },
        "id": "RSN2d5POOpmU",
        "outputId": "e8045065-6e23-440f-8d12-9c27b0adb151"
      },
      "execution_count": 119,
      "outputs": [
        {
          "output_type": "execute_result",
          "data": {
            "text/plain": [
              "array([[[ 2.46301317e-01,  1.18801630e+00,  1.53088072e+00, ...,\n",
              "         -1.55129841e-01, -7.40337256e-02, -1.40905139e-01],\n",
              "        [ 3.33331171e-01,  1.25701197e+00,  1.53088072e+00, ...,\n",
              "         -7.67900536e-02, -7.40337256e-02, -1.40905139e-01],\n",
              "        [ 3.11573708e-01,  1.32600763e+00,  1.53088072e+00, ...,\n",
              "          1.54973417e-03, -7.40337256e-02, -1.40905139e-01],\n",
              "        ...,\n",
              "        [-6.56633414e-01,  1.32600763e+00,  8.80799586e-01, ...,\n",
              "         -4.68878743e-01, -7.40337256e-02, -1.40905139e-01],\n",
              "        [-4.71694975e-01,  1.32600763e+00,  9.62059728e-01, ...,\n",
              "         -4.51339984e-01, -7.40337256e-02, -1.40905139e-01],\n",
              "        [-4.06422585e-01,  1.32600763e+00,  9.62059728e-01, ...,\n",
              "         -4.16457342e-01, -7.40337256e-02, -1.40905139e-01]],\n",
              "\n",
              "       [[ 3.33331171e-01,  1.25701197e+00,  1.53088072e+00, ...,\n",
              "         -7.67900536e-02, -7.40337256e-02, -1.40905139e-01],\n",
              "        [ 3.11573708e-01,  1.32600763e+00,  1.53088072e+00, ...,\n",
              "          1.54973417e-03, -7.40337256e-02, -1.40905139e-01],\n",
              "        [ 3.11573708e-01,  1.32600763e+00,  1.53088072e+00, ...,\n",
              "          7.98895220e-02, -7.40337256e-02, -1.40905139e-01],\n",
              "        ...,\n",
              "        [-4.71694975e-01,  1.32600763e+00,  9.62059728e-01, ...,\n",
              "         -4.51339984e-01, -7.40337256e-02, -1.40905139e-01],\n",
              "        [-4.06422585e-01,  1.32600763e+00,  9.62059728e-01, ...,\n",
              "         -4.16457342e-01, -7.40337256e-02, -1.40905139e-01],\n",
              "        [-3.19392731e-01,  1.32600763e+00,  1.04331987e+00, ...,\n",
              "         -4.68878743e-01, -7.40337256e-02, -1.40905139e-01]],\n",
              "\n",
              "       [[ 3.11573708e-01,  1.32600763e+00,  1.53088072e+00, ...,\n",
              "          1.54973417e-03, -7.40337256e-02, -1.40905139e-01],\n",
              "        [ 3.11573708e-01,  1.32600763e+00,  1.53088072e+00, ...,\n",
              "          7.98895220e-02, -7.40337256e-02, -1.40905139e-01],\n",
              "        [ 3.00694976e-01,  1.32600763e+00,  1.53088072e+00, ...,\n",
              "          1.58229310e-01, -7.40337256e-02, -1.40905139e-01],\n",
              "        ...,\n",
              "        [-4.06422585e-01,  1.32600763e+00,  9.62059728e-01, ...,\n",
              "         -4.16457342e-01, -7.40337256e-02, -1.40905139e-01],\n",
              "        [-3.19392731e-01,  1.32600763e+00,  1.04331987e+00, ...,\n",
              "         -4.68878743e-01, -7.40337256e-02, -1.40905139e-01],\n",
              "        [-2.97635268e-01,  1.32600763e+00,  1.04331987e+00, ...,\n",
              "         -4.51534859e-01, -7.40337256e-02, -1.40905139e-01]],\n",
              "\n",
              "       ...,\n",
              "\n",
              "       [[-7.98056926e-01, -9.50849288e-01, -6.63143105e-01, ...,\n",
              "         -5.94461703e-02, -7.40337256e-02, -1.40905139e-01],\n",
              "        [-9.28601707e-01, -1.57181027e+00, -8.25663389e-01, ...,\n",
              "          1.32116047e-01, -7.40337256e-02, -1.40905139e-01],\n",
              "        [-8.41571853e-01, -1.64080593e+00, -9.88183672e-01, ...,\n",
              "          2.71451739e-01, -7.40337256e-02, -1.40905139e-01],\n",
              "        ...,\n",
              "        [-9.06844243e-01, -1.64080593e+00, -1.15070396e+00, ...,\n",
              "          3.92107250e+00, -7.40337256e-02, -1.40905139e-01],\n",
              "        [-9.28601707e-01, -1.70980159e+00, -1.15070396e+00, ...,\n",
              "          4.03429493e+00, -7.40337256e-02, -1.40905139e-01],\n",
              "        [-9.06844243e-01, -1.64080593e+00, -1.23196410e+00, ...,\n",
              "          4.14751736e+00, -7.40337256e-02, -1.40905139e-01]],\n",
              "\n",
              "       [[-9.28601707e-01, -1.57181027e+00, -8.25663389e-01, ...,\n",
              "          1.32116047e-01, -7.40337256e-02, -1.40905139e-01],\n",
              "        [-8.41571853e-01, -1.64080593e+00, -9.88183672e-01, ...,\n",
              "          2.71451739e-01, -7.40337256e-02, -1.40905139e-01],\n",
              "        [-9.06844243e-01, -1.43381894e+00, -1.06944381e+00, ...,\n",
              "          5.24009861e-01, -7.40337256e-02, -1.40905139e-01],\n",
              "        ...,\n",
              "        [-9.28601707e-01, -1.70980159e+00, -1.15070396e+00, ...,\n",
              "          4.03429493e+00, -7.40337256e-02, -1.40905139e-01],\n",
              "        [-9.06844243e-01, -1.64080593e+00, -1.23196410e+00, ...,\n",
              "          4.14751736e+00, -7.40337256e-02, -1.40905139e-01],\n",
              "        [-9.06844243e-01, -1.64080593e+00, -1.23196410e+00, ...,\n",
              "          4.24339591e+00, -7.40337256e-02, -1.40905139e-01]],\n",
              "\n",
              "       [[-8.41571853e-01, -1.64080593e+00, -9.88183672e-01, ...,\n",
              "          2.71451739e-01, -7.40337256e-02, -1.40905139e-01],\n",
              "        [-9.06844243e-01, -1.43381894e+00, -1.06944381e+00, ...,\n",
              "          5.24009861e-01, -7.40337256e-02, -1.40905139e-01],\n",
              "        [-8.95965511e-01, -1.36482327e+00, -1.06944381e+00, ...,\n",
              "          7.15572079e-01, -7.40337256e-02, -1.40905139e-01],\n",
              "        ...,\n",
              "        [-9.06844243e-01, -1.64080593e+00, -1.23196410e+00, ...,\n",
              "          4.14751736e+00, -7.40337256e-02, -1.40905139e-01],\n",
              "        [-9.06844243e-01, -1.64080593e+00, -1.23196410e+00, ...,\n",
              "          4.24339591e+00, -7.40337256e-02, -1.40905139e-01],\n",
              "        [-9.28601707e-01, -1.64080593e+00, -1.31322424e+00, ...,\n",
              "          4.32173569e+00, -7.40337256e-02, -1.40905139e-01]]])"
            ]
          },
          "metadata": {},
          "execution_count": 119
        }
      ]
    },
    {
      "cell_type": "code",
      "source": [
        "#scaling y data by create def function \n",
        "def preprocessing(y):\n",
        "  y[:,0]=(y[:,0]-df_mean0)/df_std0\n",
        "  y[:,1]=(y[:,1]-df_mean1)/df_std1\n",
        "  y[:,2]=(y[:,2]-df_mean2)/df_std2\n",
        "  y[:,3]=(y[:,3]-df_mean3)/df_std3\n",
        "  y[:,4]=(y[:,4]-df_mean4)/df_std4\n",
        "  y[:,5]=(y[:,5]-df_mean5)/df_std5\n",
        "  y[:,6]=(y[:,6]-df_mean6)/df_std6\n",
        "  y[:,7]=(y[:,7]-df_mean7)/df_std7\n",
        "  return y"
      ],
      "metadata": {
        "id": "I0zuRXXkuxuR"
      },
      "execution_count": 120,
      "outputs": []
    },
    {
      "cell_type": "code",
      "source": [
        "preprocessing(y_train)\n",
        "preprocessing(y_val)\n",
        "preprocessing(y_test)"
      ],
      "metadata": {
        "colab": {
          "base_uri": "https://localhost:8080/"
        },
        "id": "04T66gZbvH7t",
        "outputId": "18910c93-045a-4ac7-a998-b83cea42b1b4"
      },
      "execution_count": 121,
      "outputs": [
        {
          "output_type": "execute_result",
          "data": {
            "text/plain": [
              "array([[-0.31939273,  1.32600763,  1.04331987, ..., -0.46887874,\n",
              "        -0.07403373, -0.14090514],\n",
              "       [-0.29763527,  1.32600763,  1.04331987, ..., -0.45153486,\n",
              "        -0.07403373, -0.14090514],\n",
              "       [-0.23236288,  1.32600763,  1.12458001, ..., -0.43419098,\n",
              "        -0.07403373, -0.14090514],\n",
              "       ...,\n",
              "       [-0.90684424, -1.64080593, -1.2319641 , ...,  4.24339591,\n",
              "        -0.07403373, -0.14090514],\n",
              "       [-0.92860171, -1.64080593, -1.31322424, ...,  4.32173569,\n",
              "        -0.07403373, -0.14090514],\n",
              "       [-0.88508678, -1.57181027, -1.2319641 , ...,  4.3827316 ,\n",
              "        -0.07403373, -0.14090514]])"
            ]
          },
          "metadata": {},
          "execution_count": 121
        }
      ]
    },
    {
      "cell_type": "code",
      "source": [
        "#import libraries for model building\n",
        "import tensorflow \n",
        "from tensorflow.keras.models import Sequential\n",
        "from tensorflow.keras.layers import *\n",
        "from tensorflow.keras.callbacks import ModelCheckpoint,EarlyStopping\n",
        "from tensorflow.keras.losses import MeanSquaredError as mse\n",
        "from tensorflow.keras.metrics import RootMeanSquaredError\n",
        "from tensorflow.keras.optimizers import Adam\n",
        "from tensorflow.keras.models import load_model"
      ],
      "metadata": {
        "id": "0CnUGSxmRomF"
      },
      "execution_count": 122,
      "outputs": []
    },
    {
      "cell_type": "markdown",
      "source": [
        "model building"
      ],
      "metadata": {
        "id": "-Idw8fGR1w-5"
      }
    },
    {
      "cell_type": "code",
      "source": [
        "#model building\n",
        "model=Sequential()\n",
        "model.add(InputLayer((24,8)))\n",
        "model.add(LSTM(150,activation='relu',return_sequences=True))\n",
        "model.add(Dropout(0.2))\n",
        "model.add(LSTM(150,activation='relu',return_sequences=True))\n",
        "model.add(Dropout(0.2))\n",
        "model.add(LSTM(150,activation='relu',return_sequences=False))\n",
        "model.add(Dense(100,activation='relu'))\n",
        "model.add(Dense(8))"
      ],
      "metadata": {
        "id": "4K0WFNfkRoiZ"
      },
      "execution_count": 123,
      "outputs": []
    },
    {
      "cell_type": "code",
      "source": [
        "#summary of a model we build\n",
        "model.summary()"
      ],
      "metadata": {
        "colab": {
          "base_uri": "https://localhost:8080/"
        },
        "id": "EBBu21G0Tb3s",
        "outputId": "bf0631cb-c131-4388-c42f-9d8373766ed9"
      },
      "execution_count": 124,
      "outputs": [
        {
          "output_type": "stream",
          "name": "stdout",
          "text": [
            "Model: \"sequential_1\"\n",
            "_________________________________________________________________\n",
            " Layer (type)                Output Shape              Param #   \n",
            "=================================================================\n",
            " lstm_3 (LSTM)               (None, 24, 150)           95400     \n",
            "                                                                 \n",
            " dropout_2 (Dropout)         (None, 24, 150)           0         \n",
            "                                                                 \n",
            " lstm_4 (LSTM)               (None, 24, 150)           180600    \n",
            "                                                                 \n",
            " dropout_3 (Dropout)         (None, 24, 150)           0         \n",
            "                                                                 \n",
            " lstm_5 (LSTM)               (None, 150)               180600    \n",
            "                                                                 \n",
            " dense_2 (Dense)             (None, 100)               15100     \n",
            "                                                                 \n",
            " dense_3 (Dense)             (None, 8)                 808       \n",
            "                                                                 \n",
            "=================================================================\n",
            "Total params: 472,508\n",
            "Trainable params: 472,508\n",
            "Non-trainable params: 0\n",
            "_________________________________________________________________\n"
          ]
        }
      ]
    },
    {
      "cell_type": "code",
      "source": [
        "#to stop epochs if there is no update \n",
        "earlystop=EarlyStopping(patience=8)"
      ],
      "metadata": {
        "id": "Ev7UyC_i0pJn"
      },
      "execution_count": 125,
      "outputs": []
    },
    {
      "cell_type": "code",
      "source": [
        "#checkpoint to save the best model \n",
        "cp=ModelCheckpoint('model/',save_best_only=True)"
      ],
      "metadata": {
        "id": "oBilwJ0wTb1_"
      },
      "execution_count": 126,
      "outputs": []
    },
    {
      "cell_type": "code",
      "source": [
        "#compile the model\n",
        "model.compile(loss='mse',optimizer=Adam(learning_rate=0.001),metrics=[RootMeanSquaredError()])"
      ],
      "metadata": {
        "id": "i-S46e9J0NXr"
      },
      "execution_count": 127,
      "outputs": []
    },
    {
      "cell_type": "code",
      "source": [
        "#fit the model\n",
        "history=model.fit(x_train,y_train,validation_data=(x_val,y_val),epochs=25,batch_size=101,callbacks=[cp,earlystop])"
      ],
      "metadata": {
        "colab": {
          "base_uri": "https://localhost:8080/"
        },
        "id": "b8VVrIrzTbza",
        "outputId": "328c4dd9-54aa-4483-a6d6-1290efaad179"
      },
      "execution_count": 128,
      "outputs": [
        {
          "output_type": "stream",
          "name": "stdout",
          "text": [
            "Epoch 1/25\n",
            "347/347 [==============================] - ETA: 0s - loss: 9.5731 - root_mean_squared_error: 3.0940"
          ]
        },
        {
          "output_type": "stream",
          "name": "stderr",
          "text": [
            "WARNING:absl:Found untraced functions such as _update_step_xla while saving (showing 1 of 1). These functions will not be directly callable after loading.\n"
          ]
        },
        {
          "output_type": "stream",
          "name": "stdout",
          "text": [
            "\b\b\b\b\b\b\b\b\b\b\b\b\b\b\b\b\b\b\b\b\b\b\b\b\b\b\b\b\b\b\b\b\b\b\b\b\b\b\b\b\b\b\b\b\b\b\b\b\b\b\b\b\b\b\b\b\b\b\b\b\b\b\b\b\b\b\b\b\b\b\b\b\b\b\b\b\b\b\b\b\b\b\b\b\b\b\b\b\b\b\b\b\b\b\b\b\b\b\b\r347/347 [==============================] - 118s 328ms/step - loss: 9.5731 - root_mean_squared_error: 3.0940 - val_loss: 0.4168 - val_root_mean_squared_error: 0.6456\n",
            "Epoch 2/25\n",
            "347/347 [==============================] - ETA: 0s - loss: 0.3994 - root_mean_squared_error: 0.6320"
          ]
        },
        {
          "output_type": "stream",
          "name": "stderr",
          "text": [
            "WARNING:absl:Found untraced functions such as _update_step_xla while saving (showing 1 of 1). These functions will not be directly callable after loading.\n"
          ]
        },
        {
          "output_type": "stream",
          "name": "stdout",
          "text": [
            "\b\b\b\b\b\b\b\b\b\b\b\b\b\b\b\b\b\b\b\b\b\b\b\b\b\b\b\b\b\b\b\b\b\b\b\b\b\b\b\b\b\b\b\b\b\b\b\b\b\b\b\b\b\b\b\b\b\b\b\b\b\b\b\b\b\b\b\b\b\b\b\b\b\b\b\b\b\b\b\b\b\b\b\b\b\b\b\b\b\b\b\b\b\b\b\b\b\b\b\r347/347 [==============================] - 115s 333ms/step - loss: 0.3994 - root_mean_squared_error: 0.6320 - val_loss: 0.3186 - val_root_mean_squared_error: 0.5645\n",
            "Epoch 3/25\n",
            "347/347 [==============================] - ETA: 0s - loss: 0.4776 - root_mean_squared_error: 0.6911"
          ]
        },
        {
          "output_type": "stream",
          "name": "stderr",
          "text": [
            "WARNING:absl:Found untraced functions such as _update_step_xla while saving (showing 1 of 1). These functions will not be directly callable after loading.\n"
          ]
        },
        {
          "output_type": "stream",
          "name": "stdout",
          "text": [
            "\b\b\b\b\b\b\b\b\b\b\b\b\b\b\b\b\b\b\b\b\b\b\b\b\b\b\b\b\b\b\b\b\b\b\b\b\b\b\b\b\b\b\b\b\b\b\b\b\b\b\b\b\b\b\b\b\b\b\b\b\b\b\b\b\b\b\b\b\b\b\b\b\b\b\b\b\b\b\b\b\b\b\b\b\b\b\b\b\b\b\b\b\b\b\b\b\b\b\b\r347/347 [==============================] - 114s 330ms/step - loss: 0.4776 - root_mean_squared_error: 0.6911 - val_loss: 0.2595 - val_root_mean_squared_error: 0.5094\n",
            "Epoch 4/25\n",
            "347/347 [==============================] - ETA: 0s - loss: 0.3013 - root_mean_squared_error: 0.5489"
          ]
        },
        {
          "output_type": "stream",
          "name": "stderr",
          "text": [
            "WARNING:absl:Found untraced functions such as _update_step_xla while saving (showing 1 of 1). These functions will not be directly callable after loading.\n"
          ]
        },
        {
          "output_type": "stream",
          "name": "stdout",
          "text": [
            "\b\b\b\b\b\b\b\b\b\b\b\b\b\b\b\b\b\b\b\b\b\b\b\b\b\b\b\b\b\b\b\b\b\b\b\b\b\b\b\b\b\b\b\b\b\b\b\b\b\b\b\b\b\b\b\b\b\b\b\b\b\b\b\b\b\b\b\b\b\b\b\b\b\b\b\b\b\b\b\b\b\b\b\b\b\b\b\b\b\b\b\b\b\b\b\b\b\b\b\r347/347 [==============================] - 114s 329ms/step - loss: 0.3013 - root_mean_squared_error: 0.5489 - val_loss: 0.2356 - val_root_mean_squared_error: 0.4854\n",
            "Epoch 5/25\n",
            "347/347 [==============================] - ETA: 0s - loss: 0.2793 - root_mean_squared_error: 0.5285"
          ]
        },
        {
          "output_type": "stream",
          "name": "stderr",
          "text": [
            "WARNING:absl:Found untraced functions such as _update_step_xla while saving (showing 1 of 1). These functions will not be directly callable after loading.\n"
          ]
        },
        {
          "output_type": "stream",
          "name": "stdout",
          "text": [
            "\b\b\b\b\b\b\b\b\b\b\b\b\b\b\b\b\b\b\b\b\b\b\b\b\b\b\b\b\b\b\b\b\b\b\b\b\b\b\b\b\b\b\b\b\b\b\b\b\b\b\b\b\b\b\b\b\b\b\b\b\b\b\b\b\b\b\b\b\b\b\b\b\b\b\b\b\b\b\b\b\b\b\b\b\b\b\b\b\b\b\b\b\b\b\b\b\b\b\b\r347/347 [==============================] - 119s 344ms/step - loss: 0.2793 - root_mean_squared_error: 0.5285 - val_loss: 0.2101 - val_root_mean_squared_error: 0.4584\n",
            "Epoch 6/25\n",
            "347/347 [==============================] - ETA: 0s - loss: 0.2542 - root_mean_squared_error: 0.5042"
          ]
        },
        {
          "output_type": "stream",
          "name": "stderr",
          "text": [
            "WARNING:absl:Found untraced functions such as _update_step_xla while saving (showing 1 of 1). These functions will not be directly callable after loading.\n"
          ]
        },
        {
          "output_type": "stream",
          "name": "stdout",
          "text": [
            "\b\b\b\b\b\b\b\b\b\b\b\b\b\b\b\b\b\b\b\b\b\b\b\b\b\b\b\b\b\b\b\b\b\b\b\b\b\b\b\b\b\b\b\b\b\b\b\b\b\b\b\b\b\b\b\b\b\b\b\b\b\b\b\b\b\b\b\b\b\b\b\b\b\b\b\b\b\b\b\b\b\b\b\b\b\b\b\b\b\b\b\b\b\b\b\b\b\b\b\r347/347 [==============================] - 113s 325ms/step - loss: 0.2542 - root_mean_squared_error: 0.5042 - val_loss: 0.2038 - val_root_mean_squared_error: 0.4515\n",
            "Epoch 7/25\n",
            "347/347 [==============================] - 115s 330ms/step - loss: 0.2412 - root_mean_squared_error: 0.4911 - val_loss: 0.2365 - val_root_mean_squared_error: 0.4863\n",
            "Epoch 8/25\n",
            "347/347 [==============================] - ETA: 0s - loss: 0.2314 - root_mean_squared_error: 0.4810"
          ]
        },
        {
          "output_type": "stream",
          "name": "stderr",
          "text": [
            "WARNING:absl:Found untraced functions such as _update_step_xla while saving (showing 1 of 1). These functions will not be directly callable after loading.\n"
          ]
        },
        {
          "output_type": "stream",
          "name": "stdout",
          "text": [
            "\b\b\b\b\b\b\b\b\b\b\b\b\b\b\b\b\b\b\b\b\b\b\b\b\b\b\b\b\b\b\b\b\b\b\b\b\b\b\b\b\b\b\b\b\b\b\b\b\b\b\b\b\b\b\b\b\b\b\b\b\b\b\b\b\b\b\b\b\b\b\b\b\b\b\b\b\b\b\b\b\b\b\b\b\b\b\b\b\b\b\b\b\b\b\b\b\b\b\b\r347/347 [==============================] - 115s 331ms/step - loss: 0.2314 - root_mean_squared_error: 0.4810 - val_loss: 0.1848 - val_root_mean_squared_error: 0.4299\n",
            "Epoch 9/25\n",
            "347/347 [==============================] - ETA: 0s - loss: 0.2156 - root_mean_squared_error: 0.4643"
          ]
        },
        {
          "output_type": "stream",
          "name": "stderr",
          "text": [
            "WARNING:absl:Found untraced functions such as _update_step_xla while saving (showing 1 of 1). These functions will not be directly callable after loading.\n"
          ]
        },
        {
          "output_type": "stream",
          "name": "stdout",
          "text": [
            "\b\b\b\b\b\b\b\b\b\b\b\b\b\b\b\b\b\b\b\b\b\b\b\b\b\b\b\b\b\b\b\b\b\b\b\b\b\b\b\b\b\b\b\b\b\b\b\b\b\b\b\b\b\b\b\b\b\b\b\b\b\b\b\b\b\b\b\b\b\b\b\b\b\b\b\b\b\b\b\b\b\b\b\b\b\b\b\b\b\b\b\b\b\b\b\b\b\b\b\r347/347 [==============================] - 114s 329ms/step - loss: 0.2156 - root_mean_squared_error: 0.4643 - val_loss: 0.1781 - val_root_mean_squared_error: 0.4220\n",
            "Epoch 10/25\n",
            "347/347 [==============================] - 110s 316ms/step - loss: 0.2064 - root_mean_squared_error: 0.4543 - val_loss: 0.1905 - val_root_mean_squared_error: 0.4365\n",
            "Epoch 11/25\n",
            "347/347 [==============================] - ETA: 0s - loss: 0.2060 - root_mean_squared_error: 0.4538"
          ]
        },
        {
          "output_type": "stream",
          "name": "stderr",
          "text": [
            "WARNING:absl:Found untraced functions such as _update_step_xla while saving (showing 1 of 1). These functions will not be directly callable after loading.\n"
          ]
        },
        {
          "output_type": "stream",
          "name": "stdout",
          "text": [
            "\b\b\b\b\b\b\b\b\b\b\b\b\b\b\b\b\b\b\b\b\b\b\b\b\b\b\b\b\b\b\b\b\b\b\b\b\b\b\b\b\b\b\b\b\b\b\b\b\b\b\b\b\b\b\b\b\b\b\b\b\b\b\b\b\b\b\b\b\b\b\b\b\b\b\b\b\b\b\b\b\b\b\b\b\b\b\b\b\b\b\b\b\b\b\b\b\b\b\b\r347/347 [==============================] - 114s 329ms/step - loss: 0.2060 - root_mean_squared_error: 0.4538 - val_loss: 0.1711 - val_root_mean_squared_error: 0.4136\n",
            "Epoch 12/25\n",
            "347/347 [==============================] - ETA: 0s - loss: 0.2032 - root_mean_squared_error: 0.4507"
          ]
        },
        {
          "output_type": "stream",
          "name": "stderr",
          "text": [
            "WARNING:absl:Found untraced functions such as _update_step_xla while saving (showing 1 of 1). These functions will not be directly callable after loading.\n"
          ]
        },
        {
          "output_type": "stream",
          "name": "stdout",
          "text": [
            "\b\b\b\b\b\b\b\b\b\b\b\b\b\b\b\b\b\b\b\b\b\b\b\b\b\b\b\b\b\b\b\b\b\b\b\b\b\b\b\b\b\b\b\b\b\b\b\b\b\b\b\b\b\b\b\b\b\b\b\b\b\b\b\b\b\b\b\b\b\b\b\b\b\b\b\b\b\b\b\b\b\b\b\b\b\b\b\b\b\b\b\b\b\b\b\b\b\b\b\r347/347 [==============================] - 115s 331ms/step - loss: 0.2032 - root_mean_squared_error: 0.4507 - val_loss: 0.1669 - val_root_mean_squared_error: 0.4086\n",
            "Epoch 13/25\n",
            "347/347 [==============================] - 109s 316ms/step - loss: 0.1971 - root_mean_squared_error: 0.4440 - val_loss: 0.1726 - val_root_mean_squared_error: 0.4154\n",
            "Epoch 14/25\n",
            "347/347 [==============================] - 113s 324ms/step - loss: 0.1991 - root_mean_squared_error: 0.4463 - val_loss: 0.1771 - val_root_mean_squared_error: 0.4208\n",
            "Epoch 15/25\n",
            "347/347 [==============================] - 108s 312ms/step - loss: 0.1929 - root_mean_squared_error: 0.4392 - val_loss: 0.1797 - val_root_mean_squared_error: 0.4240\n",
            "Epoch 16/25\n",
            "347/347 [==============================] - 125s 360ms/step - loss: 0.1964 - root_mean_squared_error: 0.4432 - val_loss: 0.1732 - val_root_mean_squared_error: 0.4162\n",
            "Epoch 17/25\n",
            "347/347 [==============================] - ETA: 0s - loss: 0.1951 - root_mean_squared_error: 0.4417"
          ]
        },
        {
          "output_type": "stream",
          "name": "stderr",
          "text": [
            "WARNING:absl:Found untraced functions such as _update_step_xla while saving (showing 1 of 1). These functions will not be directly callable after loading.\n"
          ]
        },
        {
          "output_type": "stream",
          "name": "stdout",
          "text": [
            "\b\b\b\b\b\b\b\b\b\b\b\b\b\b\b\b\b\b\b\b\b\b\b\b\b\b\b\b\b\b\b\b\b\b\b\b\b\b\b\b\b\b\b\b\b\b\b\b\b\b\b\b\b\b\b\b\b\b\b\b\b\b\b\b\b\b\b\b\b\b\b\b\b\b\b\b\b\b\b\b\b\b\b\b\b\b\b\b\b\b\b\b\b\b\b\b\b\b\b\r347/347 [==============================] - 136s 393ms/step - loss: 0.1951 - root_mean_squared_error: 0.4417 - val_loss: 0.1641 - val_root_mean_squared_error: 0.4051\n",
            "Epoch 18/25\n",
            "347/347 [==============================] - 115s 330ms/step - loss: 0.1931 - root_mean_squared_error: 0.4395 - val_loss: 0.1693 - val_root_mean_squared_error: 0.4115\n",
            "Epoch 19/25\n",
            "347/347 [==============================] - 107s 307ms/step - loss: 0.1910 - root_mean_squared_error: 0.4370 - val_loss: 0.1709 - val_root_mean_squared_error: 0.4134\n",
            "Epoch 20/25\n",
            "347/347 [==============================] - 108s 311ms/step - loss: 0.1847 - root_mean_squared_error: 0.4297 - val_loss: 0.1685 - val_root_mean_squared_error: 0.4105\n",
            "Epoch 21/25\n",
            "347/347 [==============================] - 110s 318ms/step - loss: 0.1845 - root_mean_squared_error: 0.4296 - val_loss: 0.1669 - val_root_mean_squared_error: 0.4085\n",
            "Epoch 22/25\n",
            "347/347 [==============================] - 107s 307ms/step - loss: 0.1833 - root_mean_squared_error: 0.4281 - val_loss: 0.1860 - val_root_mean_squared_error: 0.4313\n",
            "Epoch 23/25\n",
            "347/347 [==============================] - ETA: 0s - loss: 0.1844 - root_mean_squared_error: 0.4294"
          ]
        },
        {
          "output_type": "stream",
          "name": "stderr",
          "text": [
            "WARNING:absl:Found untraced functions such as _update_step_xla while saving (showing 1 of 1). These functions will not be directly callable after loading.\n"
          ]
        },
        {
          "output_type": "stream",
          "name": "stdout",
          "text": [
            "\b\b\b\b\b\b\b\b\b\b\b\b\b\b\b\b\b\b\b\b\b\b\b\b\b\b\b\b\b\b\b\b\b\b\b\b\b\b\b\b\b\b\b\b\b\b\b\b\b\b\b\b\b\b\b\b\b\b\b\b\b\b\b\b\b\b\b\b\b\b\b\b\b\b\b\b\b\b\b\b\b\b\b\b\b\b\b\b\b\b\b\b\b\b\b\b\b\b\b\r347/347 [==============================] - 119s 343ms/step - loss: 0.1844 - root_mean_squared_error: 0.4294 - val_loss: 0.1626 - val_root_mean_squared_error: 0.4032\n",
            "Epoch 24/25\n",
            "347/347 [==============================] - 125s 360ms/step - loss: 0.1876 - root_mean_squared_error: 0.4331 - val_loss: 0.3731 - val_root_mean_squared_error: 0.6108\n",
            "Epoch 25/25\n",
            "347/347 [==============================] - 112s 322ms/step - loss: 0.1919 - root_mean_squared_error: 0.4380 - val_loss: 0.1747 - val_root_mean_squared_error: 0.4180\n"
          ]
        }
      ]
    },
    {
      "cell_type": "code",
      "source": [
        "#load the best save model for prediction \n",
        "model=load_model('model/')"
      ],
      "metadata": {
        "id": "gcKUekPHTbxH"
      },
      "execution_count": 129,
      "outputs": []
    },
    {
      "cell_type": "markdown",
      "source": [
        "evaluation"
      ],
      "metadata": {
        "id": "f8geZCvb1tUa"
      }
    },
    {
      "cell_type": "code",
      "source": [
        "#evaluate the validation set\n",
        "val_pred=model.predict(x_val)\n",
        "x_val_poll,x_val_temp=val_pred[:,0],val_pred[:,2]\n",
        "y_val_poll,y_val_temp=y_val[:,0],y_val[:,2]"
      ],
      "metadata": {
        "colab": {
          "base_uri": "https://localhost:8080/"
        },
        "id": "q_1hBFkx6Nfg",
        "outputId": "76d906f2-6fba-4fe4-f25c-5fe22cac7841"
      },
      "execution_count": 130,
      "outputs": [
        {
          "output_type": "stream",
          "name": "stdout",
          "text": [
            "137/137 [==============================] - 9s 59ms/step\n"
          ]
        }
      ]
    },
    {
      "cell_type": "code",
      "source": [
        "#create  dataframe for evaluation of validation set\n",
        "val_results=pd.DataFrame(data={'actual_poll':y_val_poll,'prediction_poll':x_val_poll,'actual_temp':y_val_temp,'prediction_temp':x_val_temp})\n",
        "val_results"
      ],
      "metadata": {
        "colab": {
          "base_uri": "https://localhost:8080/",
          "height": 423
        },
        "id": "UYzzldF86NX3",
        "outputId": "3d121737-c421-41a6-e143-818bc4b24ba5"
      },
      "execution_count": 131,
      "outputs": [
        {
          "output_type": "execute_result",
          "data": {
            "text/plain": [
              "      actual_poll  prediction_poll  actual_temp  prediction_temp\n",
              "0       -0.156212        -0.644183    -0.744403        -0.558598\n",
              "1       -0.014788        -0.575722    -0.663143        -0.619671\n",
              "2        0.137514        -0.273363    -0.500623        -0.575094\n",
              "3       -0.199727        -0.205982    -0.500623        -0.517543\n",
              "4       -0.384665        -0.464973    -0.500623        -0.423186\n",
              "...           ...              ...          ...              ...\n",
              "4372    -0.395544        -0.323316     0.799539         1.107581\n",
              "4373    -0.449938        -0.341243     0.799539         1.040358\n",
              "4374    -0.656633        -0.394786     0.880800         1.004469\n",
              "4375    -0.471695        -0.434945     0.962060         1.137600\n",
              "4376    -0.406423        -0.337422     0.962060         1.186443\n",
              "\n",
              "[4377 rows x 4 columns]"
            ],
            "text/html": [
              "\n",
              "  <div id=\"df-9dbe1c83-0ef7-46f0-bed1-54bf6ddf6a5b\">\n",
              "    <div class=\"colab-df-container\">\n",
              "      <div>\n",
              "<style scoped>\n",
              "    .dataframe tbody tr th:only-of-type {\n",
              "        vertical-align: middle;\n",
              "    }\n",
              "\n",
              "    .dataframe tbody tr th {\n",
              "        vertical-align: top;\n",
              "    }\n",
              "\n",
              "    .dataframe thead th {\n",
              "        text-align: right;\n",
              "    }\n",
              "</style>\n",
              "<table border=\"1\" class=\"dataframe\">\n",
              "  <thead>\n",
              "    <tr style=\"text-align: right;\">\n",
              "      <th></th>\n",
              "      <th>actual_poll</th>\n",
              "      <th>prediction_poll</th>\n",
              "      <th>actual_temp</th>\n",
              "      <th>prediction_temp</th>\n",
              "    </tr>\n",
              "  </thead>\n",
              "  <tbody>\n",
              "    <tr>\n",
              "      <th>0</th>\n",
              "      <td>-0.156212</td>\n",
              "      <td>-0.644183</td>\n",
              "      <td>-0.744403</td>\n",
              "      <td>-0.558598</td>\n",
              "    </tr>\n",
              "    <tr>\n",
              "      <th>1</th>\n",
              "      <td>-0.014788</td>\n",
              "      <td>-0.575722</td>\n",
              "      <td>-0.663143</td>\n",
              "      <td>-0.619671</td>\n",
              "    </tr>\n",
              "    <tr>\n",
              "      <th>2</th>\n",
              "      <td>0.137514</td>\n",
              "      <td>-0.273363</td>\n",
              "      <td>-0.500623</td>\n",
              "      <td>-0.575094</td>\n",
              "    </tr>\n",
              "    <tr>\n",
              "      <th>3</th>\n",
              "      <td>-0.199727</td>\n",
              "      <td>-0.205982</td>\n",
              "      <td>-0.500623</td>\n",
              "      <td>-0.517543</td>\n",
              "    </tr>\n",
              "    <tr>\n",
              "      <th>4</th>\n",
              "      <td>-0.384665</td>\n",
              "      <td>-0.464973</td>\n",
              "      <td>-0.500623</td>\n",
              "      <td>-0.423186</td>\n",
              "    </tr>\n",
              "    <tr>\n",
              "      <th>...</th>\n",
              "      <td>...</td>\n",
              "      <td>...</td>\n",
              "      <td>...</td>\n",
              "      <td>...</td>\n",
              "    </tr>\n",
              "    <tr>\n",
              "      <th>4372</th>\n",
              "      <td>-0.395544</td>\n",
              "      <td>-0.323316</td>\n",
              "      <td>0.799539</td>\n",
              "      <td>1.107581</td>\n",
              "    </tr>\n",
              "    <tr>\n",
              "      <th>4373</th>\n",
              "      <td>-0.449938</td>\n",
              "      <td>-0.341243</td>\n",
              "      <td>0.799539</td>\n",
              "      <td>1.040358</td>\n",
              "    </tr>\n",
              "    <tr>\n",
              "      <th>4374</th>\n",
              "      <td>-0.656633</td>\n",
              "      <td>-0.394786</td>\n",
              "      <td>0.880800</td>\n",
              "      <td>1.004469</td>\n",
              "    </tr>\n",
              "    <tr>\n",
              "      <th>4375</th>\n",
              "      <td>-0.471695</td>\n",
              "      <td>-0.434945</td>\n",
              "      <td>0.962060</td>\n",
              "      <td>1.137600</td>\n",
              "    </tr>\n",
              "    <tr>\n",
              "      <th>4376</th>\n",
              "      <td>-0.406423</td>\n",
              "      <td>-0.337422</td>\n",
              "      <td>0.962060</td>\n",
              "      <td>1.186443</td>\n",
              "    </tr>\n",
              "  </tbody>\n",
              "</table>\n",
              "<p>4377 rows × 4 columns</p>\n",
              "</div>\n",
              "      <button class=\"colab-df-convert\" onclick=\"convertToInteractive('df-9dbe1c83-0ef7-46f0-bed1-54bf6ddf6a5b')\"\n",
              "              title=\"Convert this dataframe to an interactive table.\"\n",
              "              style=\"display:none;\">\n",
              "        \n",
              "  <svg xmlns=\"http://www.w3.org/2000/svg\" height=\"24px\"viewBox=\"0 0 24 24\"\n",
              "       width=\"24px\">\n",
              "    <path d=\"M0 0h24v24H0V0z\" fill=\"none\"/>\n",
              "    <path d=\"M18.56 5.44l.94 2.06.94-2.06 2.06-.94-2.06-.94-.94-2.06-.94 2.06-2.06.94zm-11 1L8.5 8.5l.94-2.06 2.06-.94-2.06-.94L8.5 2.5l-.94 2.06-2.06.94zm10 10l.94 2.06.94-2.06 2.06-.94-2.06-.94-.94-2.06-.94 2.06-2.06.94z\"/><path d=\"M17.41 7.96l-1.37-1.37c-.4-.4-.92-.59-1.43-.59-.52 0-1.04.2-1.43.59L10.3 9.45l-7.72 7.72c-.78.78-.78 2.05 0 2.83L4 21.41c.39.39.9.59 1.41.59.51 0 1.02-.2 1.41-.59l7.78-7.78 2.81-2.81c.8-.78.8-2.07 0-2.86zM5.41 20L4 18.59l7.72-7.72 1.47 1.35L5.41 20z\"/>\n",
              "  </svg>\n",
              "      </button>\n",
              "      \n",
              "  <style>\n",
              "    .colab-df-container {\n",
              "      display:flex;\n",
              "      flex-wrap:wrap;\n",
              "      gap: 12px;\n",
              "    }\n",
              "\n",
              "    .colab-df-convert {\n",
              "      background-color: #E8F0FE;\n",
              "      border: none;\n",
              "      border-radius: 50%;\n",
              "      cursor: pointer;\n",
              "      display: none;\n",
              "      fill: #1967D2;\n",
              "      height: 32px;\n",
              "      padding: 0 0 0 0;\n",
              "      width: 32px;\n",
              "    }\n",
              "\n",
              "    .colab-df-convert:hover {\n",
              "      background-color: #E2EBFA;\n",
              "      box-shadow: 0px 1px 2px rgba(60, 64, 67, 0.3), 0px 1px 3px 1px rgba(60, 64, 67, 0.15);\n",
              "      fill: #174EA6;\n",
              "    }\n",
              "\n",
              "    [theme=dark] .colab-df-convert {\n",
              "      background-color: #3B4455;\n",
              "      fill: #D2E3FC;\n",
              "    }\n",
              "\n",
              "    [theme=dark] .colab-df-convert:hover {\n",
              "      background-color: #434B5C;\n",
              "      box-shadow: 0px 1px 3px 1px rgba(0, 0, 0, 0.15);\n",
              "      filter: drop-shadow(0px 1px 2px rgba(0, 0, 0, 0.3));\n",
              "      fill: #FFFFFF;\n",
              "    }\n",
              "  </style>\n",
              "\n",
              "      <script>\n",
              "        const buttonEl =\n",
              "          document.querySelector('#df-9dbe1c83-0ef7-46f0-bed1-54bf6ddf6a5b button.colab-df-convert');\n",
              "        buttonEl.style.display =\n",
              "          google.colab.kernel.accessAllowed ? 'block' : 'none';\n",
              "\n",
              "        async function convertToInteractive(key) {\n",
              "          const element = document.querySelector('#df-9dbe1c83-0ef7-46f0-bed1-54bf6ddf6a5b');\n",
              "          const dataTable =\n",
              "            await google.colab.kernel.invokeFunction('convertToInteractive',\n",
              "                                                     [key], {});\n",
              "          if (!dataTable) return;\n",
              "\n",
              "          const docLinkHtml = 'Like what you see? Visit the ' +\n",
              "            '<a target=\"_blank\" href=https://colab.research.google.com/notebooks/data_table.ipynb>data table notebook</a>'\n",
              "            + ' to learn more about interactive tables.';\n",
              "          element.innerHTML = '';\n",
              "          dataTable['output_type'] = 'display_data';\n",
              "          await google.colab.output.renderOutput(dataTable, element);\n",
              "          const docLink = document.createElement('div');\n",
              "          docLink.innerHTML = docLinkHtml;\n",
              "          element.appendChild(docLink);\n",
              "        }\n",
              "      </script>\n",
              "    </div>\n",
              "  </div>\n",
              "  "
            ]
          },
          "metadata": {},
          "execution_count": 131
        }
      ]
    },
    {
      "cell_type": "code",
      "source": [
        "#visualize the validation result for pollution\n",
        "plt.plot(val_results['actual_poll'][:100])\n",
        "plt.plot(val_results['prediction_poll'][:100])\n",
        "plt.legend(['actual','prediction']);"
      ],
      "metadata": {
        "colab": {
          "base_uri": "https://localhost:8080/",
          "height": 266
        },
        "id": "XRDrr9cwzHRe",
        "outputId": "30e01954-1ef3-4b43-f337-f6f427c0ae5e"
      },
      "execution_count": 132,
      "outputs": [
        {
          "output_type": "display_data",
          "data": {
            "text/plain": [
              "<Figure size 432x288 with 1 Axes>"
            ],
            "image/png": "[encoded data removed]"
          },
          "metadata": {
            "needs_background": "light"
          }
        }
      ]
    },
    {
      "cell_type": "code",
      "source": [
        "from sklearn.metrics import mean_squared_error as mse"
      ],
      "metadata": {
        "id": "F96dbRG1XLek"
      },
      "execution_count": 133,
      "outputs": []
    },
    {
      "cell_type": "code",
      "source": [
        "rmse=np.sqrt(mse(x_val_poll,y_val_poll))\n",
        "rmse"
      ],
      "metadata": {
        "colab": {
          "base_uri": "https://localhost:8080/"
        },
        "id": "soUBpJQ6XNT_",
        "outputId": "c4b5c5d6-d539-4203-be2f-acfee027d574"
      },
      "execution_count": 134,
      "outputs": [
        {
          "output_type": "execute_result",
          "data": {
            "text/plain": [
              "0.29135109453315733"
            ]
          },
          "metadata": {},
          "execution_count": 134
        }
      ]
    },
    {
      "cell_type": "code",
      "source": [
        "#By rescaling convert the scaling value to actual value\n",
        "def postprocessing_p(array):\n",
        "  array=(array*df_std0)+df_mean0\n",
        "  return array"
      ],
      "metadata": {
        "id": "R4H3ln9oVBJo"
      },
      "execution_count": 135,
      "outputs": []
    },
    {
      "cell_type": "markdown",
      "source": [
        "Evaluation on test set"
      ],
      "metadata": {
        "id": "P87Gqhd82ral"
      }
    },
    {
      "cell_type": "code",
      "source": [
        "#def function for prediction and plotting\n",
        "def plot_prediction(model,X,y,start,end):\n",
        "  pred=model.predict(X)\n",
        "  pred_poll,pred_temp=postprocessing_p(pred[:,0]),postprocessing_p(pred[:,2])\n",
        "  act_poll,act_temp=postprocessing_p(y[:,0]),postprocessing_p(y[:,2])\n",
        "  results=pd.DataFrame(data={'actual_poll':act_poll,'prediction_poll':pred_poll,'actual_temp':act_temp,'prediction_temp':pred_temp})\n",
        "  return results"
      ],
      "metadata": {
        "id": "iMm3wbi0ZjWT"
      },
      "execution_count": 136,
      "outputs": []
    },
    {
      "cell_type": "code",
      "source": [
        "#forecast prediction\n",
        "processed_df=plot_prediction(model,x_test,y_test,0,4379)\n",
        "processed_df"
      ],
      "metadata": {
        "colab": {
          "base_uri": "https://localhost:8080/",
          "height": 441
        },
        "id": "6vIwnW5SaBaa",
        "outputId": "4dc6e7c6-7d63-49f5-de8d-ad64d8f06a32"
      },
      "execution_count": 137,
      "outputs": [
        {
          "output_type": "stream",
          "name": "stdout",
          "text": [
            "137/137 [==============================] - 7s 47ms/step\n"
          ]
        },
        {
          "output_type": "execute_result",
          "data": {
            "text/plain": [
              "      actual_poll  prediction_poll  actual_temp  prediction_temp\n",
              "0            64.0        68.804214   189.263922       204.623718\n",
              "1            66.0        76.710381   189.263922       207.181030\n",
              "2            72.0        80.900902   196.733556       208.259430\n",
              "3            78.0        85.207657   196.733556       211.314087\n",
              "4            78.0        90.396828   196.733556       213.637817\n",
              "...           ...              ...          ...              ...\n",
              "4374          8.0         9.409500   -12.416190         4.933418\n",
              "4375         10.0         8.749313   -19.885823         1.479248\n",
              "4376         10.0         8.465935   -19.885823        -2.436981\n",
              "4377          8.0         8.534340   -27.355457        -6.027206\n",
              "4378         12.0         8.839676   -19.885823        -9.977921\n",
              "\n",
              "[4379 rows x 4 columns]"
            ],
            "text/html": [
              "\n",
              "  <div id=\"df-c14e784d-a971-41ad-b581-05a698895fba\">\n",
              "    <div class=\"colab-df-container\">\n",
              "      <div>\n",
              "<style scoped>\n",
              "    .dataframe tbody tr th:only-of-type {\n",
              "        vertical-align: middle;\n",
              "    }\n",
              "\n",
              "    .dataframe tbody tr th {\n",
              "        vertical-align: top;\n",
              "    }\n",
              "\n",
              "    .dataframe thead th {\n",
              "        text-align: right;\n",
              "    }\n",
              "</style>\n",
              "<table border=\"1\" class=\"dataframe\">\n",
              "  <thead>\n",
              "    <tr style=\"text-align: right;\">\n",
              "      <th></th>\n",
              "      <th>actual_poll</th>\n",
              "      <th>prediction_poll</th>\n",
              "      <th>actual_temp</th>\n",
              "      <th>prediction_temp</th>\n",
              "    </tr>\n",
              "  </thead>\n",
              "  <tbody>\n",
              "    <tr>\n",
              "      <th>0</th>\n",
              "      <td>64.0</td>\n",
              "      <td>68.804214</td>\n",
              "      <td>189.263922</td>\n",
              "      <td>204.623718</td>\n",
              "    </tr>\n",
              "    <tr>\n",
              "      <th>1</th>\n",
              "      <td>66.0</td>\n",
              "      <td>76.710381</td>\n",
              "      <td>189.263922</td>\n",
              "      <td>207.181030</td>\n",
              "    </tr>\n",
              "    <tr>\n",
              "      <th>2</th>\n",
              "      <td>72.0</td>\n",
              "      <td>80.900902</td>\n",
              "      <td>196.733556</td>\n",
              "      <td>208.259430</td>\n",
              "    </tr>\n",
              "    <tr>\n",
              "      <th>3</th>\n",
              "      <td>78.0</td>\n",
              "      <td>85.207657</td>\n",
              "      <td>196.733556</td>\n",
              "      <td>211.314087</td>\n",
              "    </tr>\n",
              "    <tr>\n",
              "      <th>4</th>\n",
              "      <td>78.0</td>\n",
              "      <td>90.396828</td>\n",
              "      <td>196.733556</td>\n",
              "      <td>213.637817</td>\n",
              "    </tr>\n",
              "    <tr>\n",
              "      <th>...</th>\n",
              "      <td>...</td>\n",
              "      <td>...</td>\n",
              "      <td>...</td>\n",
              "      <td>...</td>\n",
              "    </tr>\n",
              "    <tr>\n",
              "      <th>4374</th>\n",
              "      <td>8.0</td>\n",
              "      <td>9.409500</td>\n",
              "      <td>-12.416190</td>\n",
              "      <td>4.933418</td>\n",
              "    </tr>\n",
              "    <tr>\n",
              "      <th>4375</th>\n",
              "      <td>10.0</td>\n",
              "      <td>8.749313</td>\n",
              "      <td>-19.885823</td>\n",
              "      <td>1.479248</td>\n",
              "    </tr>\n",
              "    <tr>\n",
              "      <th>4376</th>\n",
              "      <td>10.0</td>\n",
              "      <td>8.465935</td>\n",
              "      <td>-19.885823</td>\n",
              "      <td>-2.436981</td>\n",
              "    </tr>\n",
              "    <tr>\n",
              "      <th>4377</th>\n",
              "      <td>8.0</td>\n",
              "      <td>8.534340</td>\n",
              "      <td>-27.355457</td>\n",
              "      <td>-6.027206</td>\n",
              "    </tr>\n",
              "    <tr>\n",
              "      <th>4378</th>\n",
              "      <td>12.0</td>\n",
              "      <td>8.839676</td>\n",
              "      <td>-19.885823</td>\n",
              "      <td>-9.977921</td>\n",
              "    </tr>\n",
              "  </tbody>\n",
              "</table>\n",
              "<p>4379 rows × 4 columns</p>\n",
              "</div>\n",
              "      <button class=\"colab-df-convert\" onclick=\"convertToInteractive('df-c14e784d-a971-41ad-b581-05a698895fba')\"\n",
              "              title=\"Convert this dataframe to an interactive table.\"\n",
              "              style=\"display:none;\">\n",
              "        \n",
              "  <svg xmlns=\"http://www.w3.org/2000/svg\" height=\"24px\"viewBox=\"0 0 24 24\"\n",
              "       width=\"24px\">\n",
              "    <path d=\"M0 0h24v24H0V0z\" fill=\"none\"/>\n",
              "    <path d=\"M18.56 5.44l.94 2.06.94-2.06 2.06-.94-2.06-.94-.94-2.06-.94 2.06-2.06.94zm-11 1L8.5 8.5l.94-2.06 2.06-.94-2.06-.94L8.5 2.5l-.94 2.06-2.06.94zm10 10l.94 2.06.94-2.06 2.06-.94-2.06-.94-.94-2.06-.94 2.06-2.06.94z\"/><path d=\"M17.41 7.96l-1.37-1.37c-.4-.4-.92-.59-1.43-.59-.52 0-1.04.2-1.43.59L10.3 9.45l-7.72 7.72c-.78.78-.78 2.05 0 2.83L4 21.41c.39.39.9.59 1.41.59.51 0 1.02-.2 1.41-.59l7.78-7.78 2.81-2.81c.8-.78.8-2.07 0-2.86zM5.41 20L4 18.59l7.72-7.72 1.47 1.35L5.41 20z\"/>\n",
              "  </svg>\n",
              "      </button>\n",
              "      \n",
              "  <style>\n",
              "    .colab-df-container {\n",
              "      display:flex;\n",
              "      flex-wrap:wrap;\n",
              "      gap: 12px;\n",
              "    }\n",
              "\n",
              "    .colab-df-convert {\n",
              "      background-color: #E8F0FE;\n",
              "      border: none;\n",
              "      border-radius: 50%;\n",
              "      cursor: pointer;\n",
              "      display: none;\n",
              "      fill: #1967D2;\n",
              "      height: 32px;\n",
              "      padding: 0 0 0 0;\n",
              "      width: 32px;\n",
              "    }\n",
              "\n",
              "    .colab-df-convert:hover {\n",
              "      background-color: #E2EBFA;\n",
              "      box-shadow: 0px 1px 2px rgba(60, 64, 67, 0.3), 0px 1px 3px 1px rgba(60, 64, 67, 0.15);\n",
              "      fill: #174EA6;\n",
              "    }\n",
              "\n",
              "    [theme=dark] .colab-df-convert {\n",
              "      background-color: #3B4455;\n",
              "      fill: #D2E3FC;\n",
              "    }\n",
              "\n",
              "    [theme=dark] .colab-df-convert:hover {\n",
              "      background-color: #434B5C;\n",
              "      box-shadow: 0px 1px 3px 1px rgba(0, 0, 0, 0.15);\n",
              "      filter: drop-shadow(0px 1px 2px rgba(0, 0, 0, 0.3));\n",
              "      fill: #FFFFFF;\n",
              "    }\n",
              "  </style>\n",
              "\n",
              "      <script>\n",
              "        const buttonEl =\n",
              "          document.querySelector('#df-c14e784d-a971-41ad-b581-05a698895fba button.colab-df-convert');\n",
              "        buttonEl.style.display =\n",
              "          google.colab.kernel.accessAllowed ? 'block' : 'none';\n",
              "\n",
              "        async function convertToInteractive(key) {\n",
              "          const element = document.querySelector('#df-c14e784d-a971-41ad-b581-05a698895fba');\n",
              "          const dataTable =\n",
              "            await google.colab.kernel.invokeFunction('convertToInteractive',\n",
              "                                                     [key], {});\n",
              "          if (!dataTable) return;\n",
              "\n",
              "          const docLinkHtml = 'Like what you see? Visit the ' +\n",
              "            '<a target=\"_blank\" href=https://colab.research.google.com/notebooks/data_table.ipynb>data table notebook</a>'\n",
              "            + ' to learn more about interactive tables.';\n",
              "          element.innerHTML = '';\n",
              "          dataTable['output_type'] = 'display_data';\n",
              "          await google.colab.output.renderOutput(dataTable, element);\n",
              "          const docLink = document.createElement('div');\n",
              "          docLink.innerHTML = docLinkHtml;\n",
              "          element.appendChild(docLink);\n",
              "        }\n",
              "      </script>\n",
              "    </div>\n",
              "  </div>\n",
              "  "
            ]
          },
          "metadata": {},
          "execution_count": 137
        }
      ]
    },
    {
      "cell_type": "code",
      "source": [
        "plt.figure(figsize=(10,6))\n",
        "plt.plot(processed_df['actual_poll'])\n",
        "plt.plot(processed_df['prediction_poll'])\n",
        "plt.legend(['actual','predicted']);"
      ],
      "metadata": {
        "colab": {
          "base_uri": "https://localhost:8080/",
          "height": 374
        },
        "id": "9bqpyVClRrhK",
        "outputId": "f90940e3-6ffc-4c56-cf12-b3a7b2cf7244"
      },
      "execution_count": 161,
      "outputs": [
        {
          "output_type": "display_data",
          "data": {
            "text/plain": [
              "<Figure size 720x432 with 1 Axes>"
            ],
            "image/png": "[encoded data removed]"
          },
          "metadata": {
            "needs_background": "light"
          }
        }
      ]
    },
    {
      "cell_type": "code",
      "source": [
        "plt.figure(figsize=(10,6))\n",
        "plt.plot(processed_df['actual_temp'])\n",
        "plt.plot(processed_df['prediction_temp'])\n",
        "plt.legend(['actual','predicted']);"
      ],
      "metadata": {
        "colab": {
          "base_uri": "https://localhost:8080/",
          "height": 375
        },
        "id": "6At2ADYTSeLp",
        "outputId": "c88073a5-2c20-4422-d14a-ddf3930fe483"
      },
      "execution_count": 162,
      "outputs": [
        {
          "output_type": "display_data",
          "data": {
            "text/plain": [
              "<Figure size 720x432 with 1 Axes>"
            ],
            "image/png": "[encoded data removed]"
          },
          "metadata": {
            "needs_background": "light"
          }
        }
      ]
    },
    {
      "cell_type": "code",
      "source": [
        "#save the forecasted values \n",
        "processed_df.to_csv('forecasted_values')"
      ],
      "metadata": {
        "id": "P0JPxuDMaBVo"
      },
      "execution_count": 140,
      "outputs": []
    },
    {
      "cell_type": "code",
      "source": [
        "def plot_prediction(model,X,y,start,end):\n",
        "  pred=model.predict(X)\n",
        "  pred_poll,pred_temp=postprocessing_p(pred[:,0]),postprocessing_p(pred[:,2])\n",
        "  act_poll,act_temp=postprocessing_p(y[:,0]),postprocessing_p(y[:,2])\n",
        "  results=pd.DataFrame(data={'actual_poll':act_poll,'prediction_poll':pred_poll,'actual_temp':act_temp,'prediction_temp':pred_temp})\n",
        "  return results"
      ],
      "metadata": {
        "id": "mSqoYk-fqxvr"
      },
      "execution_count": 156,
      "outputs": []
    },
    {
      "cell_type": "code",
      "source": [
        "#predicting whole dataset\n",
        "whole_data=plot_prediction(model,X,y,0,43776)"
      ],
      "metadata": {
        "id": "DeEyl5jIt0ox",
        "colab": {
          "base_uri": "https://localhost:8080/"
        },
        "outputId": "753d8d9f-3d0d-4a4c-be28-326e8895fee0"
      },
      "execution_count": 157,
      "outputs": [
        {
          "output_type": "stream",
          "name": "stdout",
          "text": [
            "1368/1368 [==============================] - 73s 53ms/step\n"
          ]
        }
      ]
    },
    {
      "cell_type": "code",
      "source": [
        "#plotting actual vs forecasting values\n",
        "plt.figure(figsize=(15,10))\n",
        "plt.plot(whole_data['actual_poll'][:39397])\n",
        "plt.plot(whole_data['prediction_poll'][39397:])\n",
        "plt.legend(['actual','predicted']);"
      ],
      "metadata": {
        "colab": {
          "base_uri": "https://localhost:8080/",
          "height": 592
        },
        "id": "gqLE8_j5Zs2r",
        "outputId": "e409aa0f-884f-49de-a372-3bc656ea835f"
      },
      "execution_count": 158,
      "outputs": [
        {
          "output_type": "display_data",
          "data": {
            "text/plain": [
              "<Figure size 1080x720 with 1 Axes>"
            ],
            "image/png": "[encoded data removed]"
          },
          "metadata": {
            "needs_background": "light"
          }
        }
      ]
    }
  ]
}